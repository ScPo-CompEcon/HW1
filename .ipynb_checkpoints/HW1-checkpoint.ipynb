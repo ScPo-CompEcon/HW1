{
 "cells": [
  {
   "cell_type": "markdown",
   "metadata": {
    "slideshow": {
     "slide_type": "subslide"
    }
   },
   "source": [
    "### Exercise 1\n",
    "\n",
    "Recall that $ n! $ is read as “$ n $ factorial” and defined as\n",
    "$ n! = n \\times (n - 1) \\times \\cdots \\times 2 \\times 1 $\n",
    "\n",
    "In Julia you can compute this value with `factorial(n)`\n",
    "\n",
    "Write your own version of this function, called `factorial2`, using a `for` loop\n",
    "\n",
    "\n",
    "<a id='jbe-ex2'></a>"
   ]
  },
  {
   "cell_type": "code",
   "execution_count": 1,
   "metadata": {},
   "outputs": [
    {
     "data": {
      "text/plain": [
       "factorial2 (generic function with 1 method)"
      ]
     },
     "execution_count": 1,
     "metadata": {},
     "output_type": "execute_result"
    }
   ],
   "source": [
    "function factorial2(n)\n",
    "    return prod(i for i in 2:n)\n",
    "end"
   ]
  },
  {
   "cell_type": "code",
   "execution_count": 2,
   "metadata": {},
   "outputs": [
    {
     "name": "stdout",
     "output_type": "stream",
     "text": [
      "2\n",
      "6\n",
      "24\n",
      "120\n"
     ]
    }
   ],
   "source": [
    "#Tests\n",
    "println(factorial2(2))\n",
    "println(factorial2(3))\n",
    "println(factorial2(4))\n",
    "println(factorial2(5))"
   ]
  },
  {
   "cell_type": "markdown",
   "metadata": {
    "slideshow": {
     "slide_type": "subslide"
    }
   },
   "source": [
    "### Exercise 2\n",
    "\n",
    "The [binomial random variable](https://en.wikipedia.org/wiki/Binomial_distribution) $ Y \\sim Bin(n, p) $ represents\n",
    "\n",
    "- number of successes in $ n $ binary trials  \n",
    "- each trial succeeds with probability $ p $  \n",
    "\n",
    "\n",
    "Using only `rand()` from the set of Julia’s built-in random number\n",
    "generators (not the `Distributions` package), write a function `binomial_rv` such that `binomial_rv(n, p)` generates one draw of $ Y $\n",
    "\n",
    "Hint: If $ U $ is uniform on $ (0, 1) $ and $ p \\in (0,1) $, then the expression `U < p` evaluates to `true` with probability $ p $\n",
    "\n",
    "\n",
    "<a id='jbe-ex3'></a>"
   ]
  },
  {
   "cell_type": "code",
   "execution_count": 3,
   "metadata": {},
   "outputs": [
    {
     "data": {
      "text/plain": [
       "binomial_rv (generic function with 1 method)"
      ]
     },
     "execution_count": 3,
     "metadata": {},
     "output_type": "execute_result"
    }
   ],
   "source": [
    "function binomial_rv(n, p)\n",
    "    return count(x->x<=p, rand(n))\n",
    "end"
   ]
  },
  {
   "cell_type": "code",
   "execution_count": 4,
   "metadata": {},
   "outputs": [
    {
     "name": "stdout",
     "output_type": "stream",
     "text": [
      "8\n",
      "2\n",
      "10\n"
     ]
    }
   ],
   "source": [
    "#Tests\n",
    "println(binomial_rv(10, 0.5))\n",
    "println(binomial_rv(10, 0.2))\n",
    "println(binomial_rv(10, 1))"
   ]
  },
  {
   "cell_type": "markdown",
   "metadata": {
    "slideshow": {
     "slide_type": "subslide"
    }
   },
   "source": [
    "### Exercise 3\n",
    "\n",
    "Compute an approximation to $ \\pi $ using Monte Carlo\n",
    "\n",
    "For random number generation use only `rand()`\n",
    "\n",
    "Your hints are as follows:\n",
    "\n",
    "- If $ U $ is a bivariate uniform random variable on the unit square $ (0, 1)^2 $, then the probability that $ U $ lies in a subset $ B $ of $ (0,1)^2 $ is equal to the area of $ B $  \n",
    "- If $ U_1,\\ldots,U_n $ are iid copies of $ U $, then, as $ n $ gets larger, the fraction that falls in $ B $ converges to the probability of landing in $ B $  \n",
    "- For a circle, area = π * $ radius^2 $  \n",
    "\n",
    "\n",
    "\n",
    "<a id='jbe-ex4'></a>"
   ]
  },
  {
   "cell_type": "code",
   "execution_count": 5,
   "metadata": {},
   "outputs": [
    {
     "data": {
      "text/plain": [
       "approx (generic function with 1 method)"
      ]
     },
     "execution_count": 5,
     "metadata": {},
     "output_type": "execute_result"
    }
   ],
   "source": [
    "function approx(n)\n",
    "    x = rand(n, 2) .^2\n",
    "    x = x[:,1] + x[:,2]\n",
    "    return 4 * count(x->x<1, x) / n\n",
    "end"
   ]
  },
  {
   "cell_type": "code",
   "execution_count": null,
   "metadata": {},
   "outputs": [],
   "source": []
  },
  {
   "cell_type": "code",
   "execution_count": 6,
   "metadata": {},
   "outputs": [
    {
     "name": "stdout",
     "output_type": "stream",
     "text": [
      "4.0\n",
      "3.6\n",
      "3.4\n",
      "3.06\n",
      "3.1464\n",
      "3.14324\n",
      "3.14316\n"
     ]
    }
   ],
   "source": [
    "#Test\n",
    "println(approx(1))\n",
    "println(approx(10))\n",
    "println(approx(100))\n",
    "println(approx(1000))\n",
    "println(approx(10000))\n",
    "println(approx(100000))\n",
    "println(approx(1000000))"
   ]
  },
  {
   "cell_type": "markdown",
   "metadata": {
    "slideshow": {
     "slide_type": "subslide"
    }
   },
   "source": [
    "### Exercise 4\n",
    "\n",
    "Write a program that prints one realization of the following random device:\n",
    "\n",
    "- Flip an unbiased coin 10 times  \n",
    "- If 3 consecutive heads occur one or more times within this sequence, pay one dollar  \n",
    "- If not, pay nothing  \n",
    "\n",
    "\n",
    "Once again use only `rand()` as your random number generator\n",
    "\n",
    "\n",
    "<a id='jbe-ex5'></a>"
   ]
  },
  {
   "cell_type": "code",
   "execution_count": 20,
   "metadata": {},
   "outputs": [
    {
     "name": "stdout",
     "output_type": "stream",
     "text": [
      "[0.347829, 0.443087, 0.00705253, 0.696617, 0.699633, 0.747793, 0.174883, 0.268777, 0.834058, 0.411702]\n",
      "[4, 5, 6, 9]\n",
      "You get one dollar\n"
     ]
    }
   ],
   "source": [
    "function game(ran)\n",
    "    x = [if i > 0.5 1 else 0 end for i in ran]\n",
    "    x = x[1: 8] + x[2:9] + x[3:10]\n",
    "    3 in x ? println(\"You get one dollar\") : println(\"You get nothing\")\n",
    "end\n",
    "\n",
    "#I keep the randomization out of the function in order to test\n",
    "ran = rand(10)\n",
    "println(ran)\n",
    "println(findall(x->x>0.5, ran))\n",
    "game(ran)"
   ]
  },
  {
   "cell_type": "markdown",
   "metadata": {
    "slideshow": {
     "slide_type": "subslide"
    }
   },
   "source": [
    "### Exercise 5\n",
    "\n",
    "Simulate and plot the correlated time series\n",
    "\n",
    "$$\n",
    "x_{t+1} = \\alpha \\, x_t + \\epsilon_{t+1}\n",
    "\\quad \\text{where} \\quad\n",
    "x_0 = 0\n",
    "\\quad \\text{and} \\quad t = 0,\\ldots,n\n",
    "$$\n",
    "\n",
    "The sequence of shocks $ \\{\\epsilon_t\\} $ is assumed to be iid and standard normal\n",
    "\n",
    "Set $ n = 200 $ and $ \\alpha = 0.9 $\n",
    "\n",
    "\n",
    "<a id='jbe-ex6'></a>"
   ]
  },
  {
   "cell_type": "code",
   "execution_count": 22,
   "metadata": {},
   "outputs": [
    {
     "data": {
      "image/svg+xml": [
       "<?xml version=\"1.0\" encoding=\"utf-8\"?>\n",
       "<svg xmlns=\"http://www.w3.org/2000/svg\" xmlns:xlink=\"http://www.w3.org/1999/xlink\" width=\"600\" height=\"400\" viewBox=\"0 0 2400 1600\">\n",
       "<defs>\n",
       "  <clipPath id=\"clip3600\">\n",
       "    <rect x=\"0\" y=\"0\" width=\"2000\" height=\"2000\"/>\n",
       "  </clipPath>\n",
       "</defs>\n",
       "<defs>\n",
       "  <clipPath id=\"clip3601\">\n",
       "    <rect x=\"0\" y=\"0\" width=\"2400\" height=\"1600\"/>\n",
       "  </clipPath>\n",
       "</defs>\n",
       "<polygon clip-path=\"url(#clip3601)\" points=\"\n",
       "0,1600 2400,1600 2400,0 0,0 \n",
       "  \" fill=\"#ffffff\" fill-rule=\"evenodd\" fill-opacity=\"1\"/>\n",
       "<defs>\n",
       "  <clipPath id=\"clip3602\">\n",
       "    <rect x=\"480\" y=\"0\" width=\"1681\" height=\"1600\"/>\n",
       "  </clipPath>\n",
       "</defs>\n",
       "<polygon clip-path=\"url(#clip3601)\" points=\"\n",
       "149.361,1503.47 2321.26,1503.47 2321.26,47.2441 149.361,47.2441 \n",
       "  \" fill=\"#ffffff\" fill-rule=\"evenodd\" fill-opacity=\"1\"/>\n",
       "<defs>\n",
       "  <clipPath id=\"clip3603\">\n",
       "    <rect x=\"149\" y=\"47\" width=\"2173\" height=\"1457\"/>\n",
       "  </clipPath>\n",
       "</defs>\n",
       "<polyline clip-path=\"url(#clip3603)\" style=\"stroke:#000000; stroke-width:2; stroke-opacity:0.1; fill:none\" points=\"\n",
       "  200.585,1503.47 200.585,47.2441 \n",
       "  \"/>\n",
       "<polyline clip-path=\"url(#clip3603)\" style=\"stroke:#000000; stroke-width:2; stroke-opacity:0.1; fill:none\" points=\"\n",
       "  712.825,1503.47 712.825,47.2441 \n",
       "  \"/>\n",
       "<polyline clip-path=\"url(#clip3603)\" style=\"stroke:#000000; stroke-width:2; stroke-opacity:0.1; fill:none\" points=\"\n",
       "  1225.07,1503.47 1225.07,47.2441 \n",
       "  \"/>\n",
       "<polyline clip-path=\"url(#clip3603)\" style=\"stroke:#000000; stroke-width:2; stroke-opacity:0.1; fill:none\" points=\"\n",
       "  1737.31,1503.47 1737.31,47.2441 \n",
       "  \"/>\n",
       "<polyline clip-path=\"url(#clip3603)\" style=\"stroke:#000000; stroke-width:2; stroke-opacity:0.1; fill:none\" points=\"\n",
       "  2249.55,1503.47 2249.55,47.2441 \n",
       "  \"/>\n",
       "<polyline clip-path=\"url(#clip3603)\" style=\"stroke:#000000; stroke-width:2; stroke-opacity:0.1; fill:none\" points=\"\n",
       "  149.361,1190.99 2321.26,1190.99 \n",
       "  \"/>\n",
       "<polyline clip-path=\"url(#clip3603)\" style=\"stroke:#000000; stroke-width:2; stroke-opacity:0.1; fill:none\" points=\"\n",
       "  149.361,857.641 2321.26,857.641 \n",
       "  \"/>\n",
       "<polyline clip-path=\"url(#clip3603)\" style=\"stroke:#000000; stroke-width:2; stroke-opacity:0.1; fill:none\" points=\"\n",
       "  149.361,524.295 2321.26,524.295 \n",
       "  \"/>\n",
       "<polyline clip-path=\"url(#clip3603)\" style=\"stroke:#000000; stroke-width:2; stroke-opacity:0.1; fill:none\" points=\"\n",
       "  149.361,190.949 2321.26,190.949 \n",
       "  \"/>\n",
       "<polyline clip-path=\"url(#clip3601)\" style=\"stroke:#000000; stroke-width:4; stroke-opacity:1; fill:none\" points=\"\n",
       "  149.361,1503.47 2321.26,1503.47 \n",
       "  \"/>\n",
       "<polyline clip-path=\"url(#clip3601)\" style=\"stroke:#000000; stroke-width:4; stroke-opacity:1; fill:none\" points=\"\n",
       "  149.361,1503.47 149.361,47.2441 \n",
       "  \"/>\n",
       "<polyline clip-path=\"url(#clip3601)\" style=\"stroke:#000000; stroke-width:4; stroke-opacity:1; fill:none\" points=\"\n",
       "  200.585,1503.47 200.585,1481.63 \n",
       "  \"/>\n",
       "<polyline clip-path=\"url(#clip3601)\" style=\"stroke:#000000; stroke-width:4; stroke-opacity:1; fill:none\" points=\"\n",
       "  712.825,1503.47 712.825,1481.63 \n",
       "  \"/>\n",
       "<polyline clip-path=\"url(#clip3601)\" style=\"stroke:#000000; stroke-width:4; stroke-opacity:1; fill:none\" points=\"\n",
       "  1225.07,1503.47 1225.07,1481.63 \n",
       "  \"/>\n",
       "<polyline clip-path=\"url(#clip3601)\" style=\"stroke:#000000; stroke-width:4; stroke-opacity:1; fill:none\" points=\"\n",
       "  1737.31,1503.47 1737.31,1481.63 \n",
       "  \"/>\n",
       "<polyline clip-path=\"url(#clip3601)\" style=\"stroke:#000000; stroke-width:4; stroke-opacity:1; fill:none\" points=\"\n",
       "  2249.55,1503.47 2249.55,1481.63 \n",
       "  \"/>\n",
       "<polyline clip-path=\"url(#clip3601)\" style=\"stroke:#000000; stroke-width:4; stroke-opacity:1; fill:none\" points=\"\n",
       "  149.361,1190.99 181.939,1190.99 \n",
       "  \"/>\n",
       "<polyline clip-path=\"url(#clip3601)\" style=\"stroke:#000000; stroke-width:4; stroke-opacity:1; fill:none\" points=\"\n",
       "  149.361,857.641 181.939,857.641 \n",
       "  \"/>\n",
       "<polyline clip-path=\"url(#clip3601)\" style=\"stroke:#000000; stroke-width:4; stroke-opacity:1; fill:none\" points=\"\n",
       "  149.361,524.295 181.939,524.295 \n",
       "  \"/>\n",
       "<polyline clip-path=\"url(#clip3601)\" style=\"stroke:#000000; stroke-width:4; stroke-opacity:1; fill:none\" points=\"\n",
       "  149.361,190.949 181.939,190.949 \n",
       "  \"/>\n",
       "<g clip-path=\"url(#clip3601)\">\n",
       "<text style=\"fill:#000000; fill-opacity:1; font-family:Arial,Helvetica Neue,Helvetica,sans-serif; font-size:48px; text-anchor:middle;\" transform=\"rotate(0, 200.585, 1557.47)\" x=\"200.585\" y=\"1557.47\">0</text>\n",
       "</g>\n",
       "<g clip-path=\"url(#clip3601)\">\n",
       "<text style=\"fill:#000000; fill-opacity:1; font-family:Arial,Helvetica Neue,Helvetica,sans-serif; font-size:48px; text-anchor:middle;\" transform=\"rotate(0, 712.825, 1557.47)\" x=\"712.825\" y=\"1557.47\">50</text>\n",
       "</g>\n",
       "<g clip-path=\"url(#clip3601)\">\n",
       "<text style=\"fill:#000000; fill-opacity:1; font-family:Arial,Helvetica Neue,Helvetica,sans-serif; font-size:48px; text-anchor:middle;\" transform=\"rotate(0, 1225.07, 1557.47)\" x=\"1225.07\" y=\"1557.47\">100</text>\n",
       "</g>\n",
       "<g clip-path=\"url(#clip3601)\">\n",
       "<text style=\"fill:#000000; fill-opacity:1; font-family:Arial,Helvetica Neue,Helvetica,sans-serif; font-size:48px; text-anchor:middle;\" transform=\"rotate(0, 1737.31, 1557.47)\" x=\"1737.31\" y=\"1557.47\">150</text>\n",
       "</g>\n",
       "<g clip-path=\"url(#clip3601)\">\n",
       "<text style=\"fill:#000000; fill-opacity:1; font-family:Arial,Helvetica Neue,Helvetica,sans-serif; font-size:48px; text-anchor:middle;\" transform=\"rotate(0, 2249.55, 1557.47)\" x=\"2249.55\" y=\"1557.47\">200</text>\n",
       "</g>\n",
       "<g clip-path=\"url(#clip3601)\">\n",
       "<text style=\"fill:#000000; fill-opacity:1; font-family:Arial,Helvetica Neue,Helvetica,sans-serif; font-size:48px; text-anchor:end;\" transform=\"rotate(0, 125.361, 1208.49)\" x=\"125.361\" y=\"1208.49\">-2</text>\n",
       "</g>\n",
       "<g clip-path=\"url(#clip3601)\">\n",
       "<text style=\"fill:#000000; fill-opacity:1; font-family:Arial,Helvetica Neue,Helvetica,sans-serif; font-size:48px; text-anchor:end;\" transform=\"rotate(0, 125.361, 875.141)\" x=\"125.361\" y=\"875.141\">0</text>\n",
       "</g>\n",
       "<g clip-path=\"url(#clip3601)\">\n",
       "<text style=\"fill:#000000; fill-opacity:1; font-family:Arial,Helvetica Neue,Helvetica,sans-serif; font-size:48px; text-anchor:end;\" transform=\"rotate(0, 125.361, 541.795)\" x=\"125.361\" y=\"541.795\">2</text>\n",
       "</g>\n",
       "<g clip-path=\"url(#clip3601)\">\n",
       "<text style=\"fill:#000000; fill-opacity:1; font-family:Arial,Helvetica Neue,Helvetica,sans-serif; font-size:48px; text-anchor:end;\" transform=\"rotate(0, 125.361, 208.449)\" x=\"125.361\" y=\"208.449\">4</text>\n",
       "</g>\n",
       "<polyline clip-path=\"url(#clip3603)\" style=\"stroke:#009af9; stroke-width:4; stroke-opacity:1; fill:none\" points=\"\n",
       "  210.829,857.641 221.074,915.695 231.319,1062.11 241.564,974.053 251.809,1054.46 262.053,1018.86 272.298,1287.17 282.543,1263.99 292.788,1035.2 303.033,865.364 \n",
       "  313.278,1071.57 323.522,869.969 333.767,1071.32 344.012,1078.52 354.257,1061.6 364.502,1034.7 374.746,999.674 384.991,830.667 395.236,1091.67 405.481,1236.62 \n",
       "  415.726,1410.72 425.97,1282.18 436.215,1079.06 446.46,885.606 456.705,1199.35 466.95,1095.13 477.194,946.519 487.439,641.344 497.684,384.691 507.929,251.771 \n",
       "  518.174,458.92 528.418,190.518 538.663,267.623 548.908,95.3594 559.153,198.803 569.398,311.909 579.643,528.205 589.887,335.745 600.132,335.746 610.377,808.861 \n",
       "  620.622,903.717 630.867,902.164 641.111,703.266 651.356,912.003 661.601,1103.88 671.846,1462.26 682.091,1399.34 692.335,1317.08 702.58,1056.68 712.825,1004.54 \n",
       "  723.07,1136.52 733.315,1032.62 743.559,916.384 753.804,549.821 764.049,550.589 774.294,753.419 784.539,379.392 794.783,436.533 805.028,465.125 815.273,329.932 \n",
       "  825.518,306.45 835.763,488.617 846.008,445.697 856.252,575.795 866.497,469.347 876.742,614.516 886.987,88.4582 897.232,362.444 907.476,508.203 917.721,445.171 \n",
       "  927.966,525.441 938.211,453.348 948.456,118.477 958.7,277.591 968.945,350.646 979.19,482.446 989.435,751.841 999.68,977.741 1009.92,1148.47 1020.17,1412.99 \n",
       "  1030.41,1253.85 1040.66,1229.46 1050.9,1308.94 1061.15,1284.33 1071.39,1052.86 1081.64,1111.1 1091.88,1167.52 1102.13,1070.77 1112.37,1132.31 1122.62,1307.44 \n",
       "  1132.86,1173.99 1143.11,1190.56 1153.35,1023.83 1163.6,1062.4 1173.84,1141.95 1184.09,1037.95 1194.33,1132.4 1204.58,1164.47 1214.82,941.081 1225.07,1068.41 \n",
       "  1235.31,1122.24 1245.56,1006.72 1255.8,797.532 1266.04,1042.11 1276.29,1117.38 1286.53,1136.08 1296.78,1106.69 1307.02,990.643 1317.27,1063.32 1327.51,1095.78 \n",
       "  1337.76,1060.78 1348,1220.43 1358.25,1110.51 1368.49,1008.74 1378.74,995.902 1388.98,1414.59 1399.23,1297.82 1409.47,1399.68 1419.72,1350.85 1429.96,1147.81 \n",
       "  1440.21,1137.11 1450.45,1024.56 1460.7,930.276 1470.94,614.253 1481.19,530.968 1491.43,970.153 1501.68,910.565 1511.92,1269.64 1522.16,1284.94 1532.41,1224.23 \n",
       "  1542.65,1288.19 1552.9,911.001 1563.14,882.338 1573.39,826.358 1583.63,841.281 1593.88,954.166 1604.12,820.394 1614.37,546.13 1624.61,791.043 1634.86,622.765 \n",
       "  1645.1,476.885 1655.35,446.776 1665.59,408.838 1675.84,521.404 1686.08,493.736 1696.33,485.695 1706.57,623.263 1716.82,597.362 1727.06,538.473 1737.31,478.873 \n",
       "  1747.55,531.533 1757.8,523.263 1768.04,608.13 1778.29,581.317 1788.53,432.288 1798.77,570.19 1809.02,822.986 1819.26,1117.57 1829.51,855.818 1839.75,1105.59 \n",
       "  1850,1196.52 1860.24,1021.03 1870.49,1087.34 1880.73,1119.85 1890.98,1255.1 1901.22,1279.39 1911.47,751.567 1921.71,770.92 1931.96,638.177 1942.2,726.213 \n",
       "  1952.45,895.43 1962.69,1178.84 1972.94,1204.98 1983.18,1177.09 1993.43,1373.66 2003.67,1312.11 2013.92,992.51 2024.16,1414.22 2034.41,1143 2044.65,862.455 \n",
       "  2054.89,725.138 2065.14,934.076 2075.38,949.872 2085.63,607.11 2095.87,895.654 2106.12,1080.23 2116.36,902.35 2126.61,823.906 2136.85,701.065 2147.1,881.265 \n",
       "  2157.34,1077.37 2167.59,1076.5 2177.83,1338.13 2188.08,1222.57 2198.32,1233.7 2208.57,1134.94 2218.81,1256.78 2229.06,1330.14 2239.3,1322.19 2249.55,1147.61 \n",
       "  2259.79,873.263 \n",
       "  \"/>\n",
       "<polygon clip-path=\"url(#clip3601)\" points=\"\n",
       "1958.43,251.724 2249.26,251.724 2249.26,130.764 1958.43,130.764 \n",
       "  \" fill=\"#ffffff\" fill-rule=\"evenodd\" fill-opacity=\"1\"/>\n",
       "<polyline clip-path=\"url(#clip3601)\" style=\"stroke:#000000; stroke-width:4; stroke-opacity:1; fill:none\" points=\"\n",
       "  1958.43,251.724 2249.26,251.724 2249.26,130.764 1958.43,130.764 1958.43,251.724 \n",
       "  \"/>\n",
       "<polyline clip-path=\"url(#clip3601)\" style=\"stroke:#009af9; stroke-width:4; stroke-opacity:1; fill:none\" points=\"\n",
       "  1982.43,191.244 2126.43,191.244 \n",
       "  \"/>\n",
       "<g clip-path=\"url(#clip3601)\">\n",
       "<text style=\"fill:#000000; fill-opacity:1; font-family:Arial,Helvetica Neue,Helvetica,sans-serif; font-size:48px; text-anchor:start;\" transform=\"rotate(0, 2150.43, 208.744)\" x=\"2150.43\" y=\"208.744\">y1</text>\n",
       "</g>\n",
       "</svg>\n"
      ]
     },
     "execution_count": 22,
     "metadata": {},
     "output_type": "execute_result"
    }
   ],
   "source": [
    "using Plots\n",
    "function time(n, a)\n",
    "    e = randn(n + 1)\n",
    "    x = zeros(n + 1)\n",
    "    for i in 1:n\n",
    "        x[i + 1] = a * x[i] + e[i]\n",
    "    end\n",
    "    return x\n",
    "end\n",
    "\n",
    "n = 200\n",
    "a = 0.9\n",
    "plot(1:n + 1, time(n, a))"
   ]
  },
  {
   "cell_type": "markdown",
   "metadata": {
    "slideshow": {
     "slide_type": "subslide"
    }
   },
   "source": [
    "### Exercise 6\n",
    "\n",
    "Plot three simulated time series, one for each of the cases $ \\alpha = 0 $, $ \\alpha = 0.8 $ and $ \\alpha = 0.98 $\n",
    "\n",
    "(The figure will illustrate how time series with the same one-step-ahead conditional volatilities, as these three processes have, can have very different unconditional volatilities)\n",
    "\n",
    "\n",
    "<a id='jbe-ex7'></a>"
   ]
  },
  {
   "cell_type": "code",
   "execution_count": 23,
   "metadata": {},
   "outputs": [
    {
     "data": {
      "image/svg+xml": [
       "<?xml version=\"1.0\" encoding=\"utf-8\"?>\n",
       "<svg xmlns=\"http://www.w3.org/2000/svg\" xmlns:xlink=\"http://www.w3.org/1999/xlink\" width=\"600\" height=\"400\" viewBox=\"0 0 2400 1600\">\n",
       "<defs>\n",
       "  <clipPath id=\"clip3800\">\n",
       "    <rect x=\"0\" y=\"0\" width=\"2000\" height=\"2000\"/>\n",
       "  </clipPath>\n",
       "</defs>\n",
       "<defs>\n",
       "  <clipPath id=\"clip3801\">\n",
       "    <rect x=\"0\" y=\"0\" width=\"2400\" height=\"1600\"/>\n",
       "  </clipPath>\n",
       "</defs>\n",
       "<polygon clip-path=\"url(#clip3801)\" points=\"\n",
       "0,1600 2400,1600 2400,0 0,0 \n",
       "  \" fill=\"#ffffff\" fill-rule=\"evenodd\" fill-opacity=\"1\"/>\n",
       "<defs>\n",
       "  <clipPath id=\"clip3802\">\n",
       "    <rect x=\"480\" y=\"0\" width=\"1681\" height=\"1600\"/>\n",
       "  </clipPath>\n",
       "</defs>\n",
       "<polygon clip-path=\"url(#clip3801)\" points=\"\n",
       "149.361,1503.47 2321.26,1503.47 2321.26,47.2441 149.361,47.2441 \n",
       "  \" fill=\"#ffffff\" fill-rule=\"evenodd\" fill-opacity=\"1\"/>\n",
       "<defs>\n",
       "  <clipPath id=\"clip3803\">\n",
       "    <rect x=\"149\" y=\"47\" width=\"2173\" height=\"1457\"/>\n",
       "  </clipPath>\n",
       "</defs>\n",
       "<polyline clip-path=\"url(#clip3803)\" style=\"stroke:#000000; stroke-width:2; stroke-opacity:0.1; fill:none\" points=\"\n",
       "  200.585,1503.47 200.585,47.2441 \n",
       "  \"/>\n",
       "<polyline clip-path=\"url(#clip3803)\" style=\"stroke:#000000; stroke-width:2; stroke-opacity:0.1; fill:none\" points=\"\n",
       "  712.825,1503.47 712.825,47.2441 \n",
       "  \"/>\n",
       "<polyline clip-path=\"url(#clip3803)\" style=\"stroke:#000000; stroke-width:2; stroke-opacity:0.1; fill:none\" points=\"\n",
       "  1225.07,1503.47 1225.07,47.2441 \n",
       "  \"/>\n",
       "<polyline clip-path=\"url(#clip3803)\" style=\"stroke:#000000; stroke-width:2; stroke-opacity:0.1; fill:none\" points=\"\n",
       "  1737.31,1503.47 1737.31,47.2441 \n",
       "  \"/>\n",
       "<polyline clip-path=\"url(#clip3803)\" style=\"stroke:#000000; stroke-width:2; stroke-opacity:0.1; fill:none\" points=\"\n",
       "  2249.55,1503.47 2249.55,47.2441 \n",
       "  \"/>\n",
       "<polyline clip-path=\"url(#clip3803)\" style=\"stroke:#000000; stroke-width:2; stroke-opacity:0.1; fill:none\" points=\"\n",
       "  149.361,1260.68 2321.26,1260.68 \n",
       "  \"/>\n",
       "<polyline clip-path=\"url(#clip3803)\" style=\"stroke:#000000; stroke-width:2; stroke-opacity:0.1; fill:none\" points=\"\n",
       "  149.361,931.13 2321.26,931.13 \n",
       "  \"/>\n",
       "<polyline clip-path=\"url(#clip3803)\" style=\"stroke:#000000; stroke-width:2; stroke-opacity:0.1; fill:none\" points=\"\n",
       "  149.361,601.577 2321.26,601.577 \n",
       "  \"/>\n",
       "<polyline clip-path=\"url(#clip3803)\" style=\"stroke:#000000; stroke-width:2; stroke-opacity:0.1; fill:none\" points=\"\n",
       "  149.361,272.023 2321.26,272.023 \n",
       "  \"/>\n",
       "<polyline clip-path=\"url(#clip3801)\" style=\"stroke:#000000; stroke-width:4; stroke-opacity:1; fill:none\" points=\"\n",
       "  149.361,1503.47 2321.26,1503.47 \n",
       "  \"/>\n",
       "<polyline clip-path=\"url(#clip3801)\" style=\"stroke:#000000; stroke-width:4; stroke-opacity:1; fill:none\" points=\"\n",
       "  149.361,1503.47 149.361,47.2441 \n",
       "  \"/>\n",
       "<polyline clip-path=\"url(#clip3801)\" style=\"stroke:#000000; stroke-width:4; stroke-opacity:1; fill:none\" points=\"\n",
       "  200.585,1503.47 200.585,1481.63 \n",
       "  \"/>\n",
       "<polyline clip-path=\"url(#clip3801)\" style=\"stroke:#000000; stroke-width:4; stroke-opacity:1; fill:none\" points=\"\n",
       "  712.825,1503.47 712.825,1481.63 \n",
       "  \"/>\n",
       "<polyline clip-path=\"url(#clip3801)\" style=\"stroke:#000000; stroke-width:4; stroke-opacity:1; fill:none\" points=\"\n",
       "  1225.07,1503.47 1225.07,1481.63 \n",
       "  \"/>\n",
       "<polyline clip-path=\"url(#clip3801)\" style=\"stroke:#000000; stroke-width:4; stroke-opacity:1; fill:none\" points=\"\n",
       "  1737.31,1503.47 1737.31,1481.63 \n",
       "  \"/>\n",
       "<polyline clip-path=\"url(#clip3801)\" style=\"stroke:#000000; stroke-width:4; stroke-opacity:1; fill:none\" points=\"\n",
       "  2249.55,1503.47 2249.55,1481.63 \n",
       "  \"/>\n",
       "<polyline clip-path=\"url(#clip3801)\" style=\"stroke:#000000; stroke-width:4; stroke-opacity:1; fill:none\" points=\"\n",
       "  149.361,1260.68 181.939,1260.68 \n",
       "  \"/>\n",
       "<polyline clip-path=\"url(#clip3801)\" style=\"stroke:#000000; stroke-width:4; stroke-opacity:1; fill:none\" points=\"\n",
       "  149.361,931.13 181.939,931.13 \n",
       "  \"/>\n",
       "<polyline clip-path=\"url(#clip3801)\" style=\"stroke:#000000; stroke-width:4; stroke-opacity:1; fill:none\" points=\"\n",
       "  149.361,601.577 181.939,601.577 \n",
       "  \"/>\n",
       "<polyline clip-path=\"url(#clip3801)\" style=\"stroke:#000000; stroke-width:4; stroke-opacity:1; fill:none\" points=\"\n",
       "  149.361,272.023 181.939,272.023 \n",
       "  \"/>\n",
       "<g clip-path=\"url(#clip3801)\">\n",
       "<text style=\"fill:#000000; fill-opacity:1; font-family:Arial,Helvetica Neue,Helvetica,sans-serif; font-size:48px; text-anchor:middle;\" transform=\"rotate(0, 200.585, 1557.47)\" x=\"200.585\" y=\"1557.47\">0</text>\n",
       "</g>\n",
       "<g clip-path=\"url(#clip3801)\">\n",
       "<text style=\"fill:#000000; fill-opacity:1; font-family:Arial,Helvetica Neue,Helvetica,sans-serif; font-size:48px; text-anchor:middle;\" transform=\"rotate(0, 712.825, 1557.47)\" x=\"712.825\" y=\"1557.47\">50</text>\n",
       "</g>\n",
       "<g clip-path=\"url(#clip3801)\">\n",
       "<text style=\"fill:#000000; fill-opacity:1; font-family:Arial,Helvetica Neue,Helvetica,sans-serif; font-size:48px; text-anchor:middle;\" transform=\"rotate(0, 1225.07, 1557.47)\" x=\"1225.07\" y=\"1557.47\">100</text>\n",
       "</g>\n",
       "<g clip-path=\"url(#clip3801)\">\n",
       "<text style=\"fill:#000000; fill-opacity:1; font-family:Arial,Helvetica Neue,Helvetica,sans-serif; font-size:48px; text-anchor:middle;\" transform=\"rotate(0, 1737.31, 1557.47)\" x=\"1737.31\" y=\"1557.47\">150</text>\n",
       "</g>\n",
       "<g clip-path=\"url(#clip3801)\">\n",
       "<text style=\"fill:#000000; fill-opacity:1; font-family:Arial,Helvetica Neue,Helvetica,sans-serif; font-size:48px; text-anchor:middle;\" transform=\"rotate(0, 2249.55, 1557.47)\" x=\"2249.55\" y=\"1557.47\">200</text>\n",
       "</g>\n",
       "<g clip-path=\"url(#clip3801)\">\n",
       "<text style=\"fill:#000000; fill-opacity:1; font-family:Arial,Helvetica Neue,Helvetica,sans-serif; font-size:48px; text-anchor:end;\" transform=\"rotate(0, 125.361, 1278.18)\" x=\"125.361\" y=\"1278.18\">-6</text>\n",
       "</g>\n",
       "<g clip-path=\"url(#clip3801)\">\n",
       "<text style=\"fill:#000000; fill-opacity:1; font-family:Arial,Helvetica Neue,Helvetica,sans-serif; font-size:48px; text-anchor:end;\" transform=\"rotate(0, 125.361, 948.63)\" x=\"125.361\" y=\"948.63\">-3</text>\n",
       "</g>\n",
       "<g clip-path=\"url(#clip3801)\">\n",
       "<text style=\"fill:#000000; fill-opacity:1; font-family:Arial,Helvetica Neue,Helvetica,sans-serif; font-size:48px; text-anchor:end;\" transform=\"rotate(0, 125.361, 619.077)\" x=\"125.361\" y=\"619.077\">0</text>\n",
       "</g>\n",
       "<g clip-path=\"url(#clip3801)\">\n",
       "<text style=\"fill:#000000; fill-opacity:1; font-family:Arial,Helvetica Neue,Helvetica,sans-serif; font-size:48px; text-anchor:end;\" transform=\"rotate(0, 125.361, 289.523)\" x=\"125.361\" y=\"289.523\">3</text>\n",
       "</g>\n",
       "<polyline clip-path=\"url(#clip3803)\" style=\"stroke:#009af9; stroke-width:4; stroke-opacity:1; fill:none\" points=\"\n",
       "  210.829,601.577 221.074,433.975 231.319,671.761 241.564,538.573 251.809,661.4 262.053,583.184 272.298,664.405 282.543,467.64 292.788,542.838 303.033,574.545 \n",
       "  313.278,533.755 323.522,703.68 333.767,682.825 344.012,429.72 354.257,479.974 364.502,558.584 374.746,524.482 384.991,624.878 395.236,576.212 405.481,622.262 \n",
       "  415.726,632.072 425.97,699.72 436.215,544.595 446.46,663.911 456.705,727.358 466.95,698.129 477.194,533.016 487.439,620.119 497.684,620.45 507.929,598.302 \n",
       "  518.174,696.507 528.418,581.602 538.663,503.236 548.908,577.92 559.153,621.534 569.398,641.19 579.643,704.531 589.887,569.518 600.132,580.809 610.377,480.274 \n",
       "  620.622,614.429 630.867,489.16 641.111,653.382 651.356,787.624 661.601,527.601 671.846,603.07 682.091,742.313 692.335,465.9 702.58,603.78 712.825,635.74 \n",
       "  723.07,700.046 733.315,450.973 743.559,699.007 753.804,614.231 764.049,677.822 774.294,662.073 784.539,600.496 794.783,436.724 805.028,563.694 815.273,561.993 \n",
       "  825.518,590.724 835.763,661.178 846.008,637.921 856.252,534.63 866.497,565.904 876.742,639.752 886.987,601.292 897.232,617.319 907.476,613.409 917.721,654.807 \n",
       "  927.966,684.546 938.211,592.699 948.456,631.306 958.7,606.564 968.945,617.212 979.19,606.501 989.435,699.566 999.68,570.212 1009.92,738.499 1020.17,670.384 \n",
       "  1030.41,611.022 1040.66,481.888 1050.9,470.229 1061.15,522.793 1071.39,589.315 1081.64,432.179 1091.88,679.475 1102.13,602.927 1112.37,652.062 1122.62,638.266 \n",
       "  1132.86,439.475 1143.11,676.856 1153.35,493.767 1163.6,615.663 1173.84,672.237 1184.09,334.124 1194.33,661.997 1204.58,708.936 1214.82,647.03 1225.07,599.877 \n",
       "  1235.31,734.303 1245.56,663.345 1255.8,526.009 1266.04,694.306 1276.29,568.117 1286.53,781.786 1296.78,595.571 1307.02,524.723 1317.27,754.458 1327.51,686.004 \n",
       "  1337.76,524.002 1348,827.879 1358.25,477.975 1368.49,617.072 1378.74,771.02 1388.98,312.694 1399.23,391.932 1409.47,507.298 1419.72,716.559 1429.96,510.221 \n",
       "  1440.21,634.645 1450.45,397.715 1460.7,710.468 1470.94,333.605 1481.19,721.668 1491.43,857.953 1501.68,442.932 1511.92,565.861 1522.16,552.657 1532.41,641.661 \n",
       "  1542.65,498.812 1552.9,588.291 1563.14,728.296 1573.39,555.797 1583.63,611.475 1593.88,484.606 1604.12,629.301 1614.37,542.389 1624.61,804.515 1634.86,764.614 \n",
       "  1645.1,606.137 1655.35,683.363 1665.59,762.68 1675.84,629.141 1686.08,619.66 1696.33,707.32 1706.57,682.695 1716.82,585.745 1727.06,602.446 1737.31,680.938 \n",
       "  1747.55,793.707 1757.8,723.901 1768.04,609.035 1778.29,682.207 1788.53,563.599 1798.77,436.827 1809.02,644.723 1819.26,565.354 1829.51,597.054 1839.75,506.935 \n",
       "  1850,712.61 1860.24,554.633 1870.49,556.561 1880.73,705.567 1890.98,750.41 1901.22,645.555 1911.47,543.317 1921.71,452.094 1931.96,649.644 1942.2,641.822 \n",
       "  1952.45,769.362 1962.69,383.379 1972.94,621.838 1983.18,603.381 1993.43,572.055 2003.67,674.672 2013.92,621.419 2024.16,674.476 2034.41,640.596 2044.65,634.727 \n",
       "  2054.89,483.056 2065.14,509.185 2075.38,614.032 2085.63,679.59 2095.87,496.683 2106.12,591.132 2116.36,486.457 2126.61,365.658 2136.85,475.359 2147.1,707.796 \n",
       "  2157.34,489.519 2167.59,827.836 2177.83,670.995 2188.08,537.619 2198.32,620.533 2208.57,635.071 2218.81,579.738 2229.06,557.365 2239.3,774.702 2249.55,570.998 \n",
       "  2259.79,742.993 \n",
       "  \"/>\n",
       "<polyline clip-path=\"url(#clip3803)\" style=\"stroke:#e26f46; stroke-width:4; stroke-opacity:1; fill:none\" points=\"\n",
       "  210.829,601.577 221.074,820.03 231.319,762.952 241.564,663.038 251.809,651.434 262.053,597.839 272.298,310.055 282.543,358.891 292.788,241.257 303.033,161.636 \n",
       "  313.278,242.153 323.522,223.353 333.767,387.665 344.012,363.516 354.257,516.136 364.502,736.315 374.746,725.471 384.991,576.216 395.236,728.085 405.481,426.694 \n",
       "  415.726,474.605 425.97,616.51 436.215,656.461 446.46,658.981 456.705,605.734 466.95,469.01 477.194,352.006 487.439,410.949 497.684,515.949 507.929,436.04 \n",
       "  518.174,312.617 528.418,332.768 538.663,498.251 548.908,488.438 559.153,465.728 569.398,424.227 579.643,486.254 589.887,481.364 600.132,542.496 610.377,505.103 \n",
       "  620.622,536.818 630.867,544.852 641.111,600.86 651.356,470.267 661.601,707.671 671.846,816.319 682.091,632.389 692.335,552.204 702.58,685.579 712.825,591.345 \n",
       "  723.07,375.353 733.315,442.113 743.559,670.098 753.804,666.605 764.049,751.458 774.294,864.482 784.539,1006.38 794.783,809.871 805.028,750.025 815.273,770.832 \n",
       "  825.518,791.768 835.763,597.148 846.008,510.919 856.252,520.708 866.497,425.622 876.742,493.189 886.987,402.423 897.232,332.55 907.476,372.734 917.721,459.556 \n",
       "  927.966,488.068 938.211,603.723 948.456,422.806 958.7,339.552 968.945,171.363 979.19,188.92 989.435,228.813 999.68,183.174 1009.92,185.237 1020.17,196.355 \n",
       "  1030.41,203.343 1040.66,190.536 1050.9,341.163 1061.15,348.387 1071.39,417.926 1081.64,382.794 1091.88,548.036 1102.13,522.596 1112.37,655.639 1122.62,693.981 \n",
       "  1132.86,617.334 1143.11,572.759 1153.35,693.105 1163.6,710.448 1173.84,787.171 1184.09,679.583 1194.33,695.538 1204.58,516.437 1214.82,631.464 1225.07,500.575 \n",
       "  1235.31,428.308 1245.56,263.649 1255.8,215.961 1266.04,218.193 1276.29,340 1286.53,424.868 1296.78,521.839 1307.02,461.779 1317.27,587.681 1327.51,540.313 \n",
       "  1337.76,360.745 1348,406.813 1358.25,316.565 1368.49,313.296 1378.74,304.468 1388.98,215.34 1399.23,319.702 1409.47,408.235 1419.72,364.356 1429.96,371.683 \n",
       "  1440.21,546.537 1450.45,513.564 1460.7,633.701 1470.94,586.14 1481.19,550.319 1491.43,594.55 1501.68,680.968 1511.92,624.253 1522.16,472.375 1532.41,548.093 \n",
       "  1542.65,338.471 1552.9,249.874 1563.14,355.649 1573.39,469.276 1583.63,610.633 1593.88,579.021 1604.12,571.23 1614.37,553.837 1624.61,480.742 1634.86,419.084 \n",
       "  1645.1,456.43 1655.35,457.797 1665.59,590.462 1675.84,694.273 1686.08,616.882 1696.33,634.933 1706.57,550.323 1716.82,475.716 1727.06,391.286 1737.31,485.078 \n",
       "  1747.55,497.981 1757.8,409.408 1768.04,280.443 1778.29,342.704 1788.53,414.953 1798.77,457.112 1809.02,452.817 1819.26,421.574 1829.51,413.402 1839.75,383.203 \n",
       "  1850,333.47 1860.24,409.663 1870.49,397.929 1880.73,487.467 1890.98,558.957 1901.22,617.873 1911.47,716.499 1921.71,706.421 1931.96,506.499 1942.2,593.376 \n",
       "  1952.45,422.913 1962.69,432.517 1972.94,340.489 1983.18,269.403 1993.43,325.949 2003.67,120.499 2013.92,129.503 2024.16,88.4582 2034.41,240.457 2044.65,301.37 \n",
       "  2054.89,372.505 2065.14,404.133 2075.38,616.443 2085.63,706.308 2095.87,538.095 2106.12,424.192 2116.36,450.515 2126.61,277.592 2136.85,175.528 2147.1,324.811 \n",
       "  2157.34,310.977 2167.59,221.49 2177.83,332.621 2188.08,360.315 2198.32,557.568 2208.57,579.368 2218.81,666.062 2229.06,722.278 2239.3,711.974 2249.55,509.054 \n",
       "  2259.79,525.877 \n",
       "  \"/>\n",
       "<polyline clip-path=\"url(#clip3803)\" style=\"stroke:#3da44d; stroke-width:4; stroke-opacity:1; fill:none\" points=\"\n",
       "  210.829,601.577 221.074,334.08 231.319,213.837 241.564,315.737 251.809,397.92 262.053,382.921 272.298,411.437 282.543,508.75 292.788,507.718 303.033,585.074 \n",
       "  313.278,680.317 323.522,573.516 333.767,587.742 344.012,689.978 354.257,718.186 364.502,702.153 374.746,653.675 384.991,634.16 395.236,561.711 405.481,500.962 \n",
       "  415.726,603.324 425.97,790.264 436.215,731.047 446.46,640.626 456.705,787.732 466.95,774.582 477.194,868.713 487.439,899.129 497.684,945.303 507.929,846.433 \n",
       "  518.174,782.844 528.418,738.771 538.663,632.134 548.908,597.819 559.153,461.723 569.398,433.882 579.643,483.156 589.887,550.837 600.132,573.531 610.377,638.364 \n",
       "  620.622,608.049 630.867,783.657 641.111,737.479 651.356,543.431 661.601,629.193 671.846,649.935 682.091,824.405 692.335,765.715 702.58,841.548 712.825,997.669 \n",
       "  723.07,1047.8 733.315,810.154 743.559,1019.27 753.804,880.613 764.049,995.66 774.294,983.228 784.539,970.542 794.783,923.728 805.028,1071.9 815.273,1178.49 \n",
       "  825.518,973.36 835.763,836.902 846.008,854.252 856.252,652.614 866.497,683.226 876.742,849.243 886.987,881.93 897.232,959.84 907.476,730.307 917.721,658.929 \n",
       "  927.966,611.365 938.211,487.377 948.456,586.023 958.7,527.629 968.945,497.163 979.19,421.683 989.435,396.47 999.68,409.745 1009.92,427.858 1020.17,408.965 \n",
       "  1030.41,624.323 1040.66,662.292 1050.9,626.922 1061.15,718.346 1071.39,805.009 1081.64,832.21 1091.88,875.802 1102.13,816.632 1112.37,683.672 1122.62,741.818 \n",
       "  1132.86,1028.65 1143.11,1113.4 1153.35,1093.44 1163.6,966.474 1173.84,747.952 1184.09,752.995 1194.33,671.069 1204.58,778.327 1214.82,949.467 1225.07,1071.69 \n",
       "  1235.31,1288.51 1245.56,1303.06 1255.8,1334.46 1266.04,1303.17 1276.29,1385.69 1286.53,1412.99 1296.78,1175.26 1307.02,969.325 1317.27,1039.27 1327.51,1172.87 \n",
       "  1337.76,1385.26 1348,1331.46 1358.25,1315.34 1368.49,1462.26 1378.74,1329.46 1388.98,1288.22 1399.23,1209.64 1409.47,1318.23 1419.72,1326.1 1429.96,1358.84 \n",
       "  1440.21,1403.36 1450.45,1436.15 1460.7,1334.3 1470.94,1144.56 1481.19,1178.07 1491.43,1133.34 1501.68,1163.69 1511.92,1139.39 1522.16,1019 1532.41,882.48 \n",
       "  1542.65,1093.38 1552.9,727.63 1563.14,867.492 1573.39,950.579 1583.63,963.748 1593.88,1094.18 1604.12,1153.02 1614.37,951.278 1624.61,775.99 1634.86,931.59 \n",
       "  1645.1,688.636 1655.35,703.455 1665.59,684.662 1675.84,692.614 1686.08,688.543 1696.33,615.944 1706.57,699.046 1716.82,583.622 1727.06,715.731 1737.31,746.635 \n",
       "  1747.55,701.614 1757.8,413.615 1768.04,401.382 1778.29,538.18 1788.53,704.516 1798.77,819.774 1809.02,910.325 1819.26,694.373 1829.51,739.032 1839.75,695.097 \n",
       "  1850,470.162 1860.24,359.205 1870.49,309.153 1880.73,439.081 1890.98,423.744 1901.22,632.46 1911.47,506.904 1921.71,586.865 1931.96,637.42 1942.2,592.141 \n",
       "  1952.45,709.605 1962.69,547.135 1972.94,559.896 1983.18,515.148 1993.43,392.326 2003.67,356.1 2013.92,550.527 2024.16,529.661 2034.41,595.074 2044.65,514.101 \n",
       "  2054.89,499.681 2065.14,565.051 2075.38,584.838 2085.63,587.314 2095.87,389.413 2106.12,306.936 2116.36,218.137 2126.61,326.46 2136.85,463.051 2147.1,381.551 \n",
       "  2157.34,448.23 2167.59,282.89 2177.83,348.234 2188.08,176.786 2198.32,181.26 2208.57,269.738 2218.81,382.043 2229.06,399.813 2239.3,322.756 2249.55,279.438 \n",
       "  2259.79,275.113 \n",
       "  \"/>\n",
       "<polygon clip-path=\"url(#clip3801)\" points=\"\n",
       "1958.43,372.684 2249.26,372.684 2249.26,130.764 1958.43,130.764 \n",
       "  \" fill=\"#ffffff\" fill-rule=\"evenodd\" fill-opacity=\"1\"/>\n",
       "<polyline clip-path=\"url(#clip3801)\" style=\"stroke:#000000; stroke-width:4; stroke-opacity:1; fill:none\" points=\"\n",
       "  1958.43,372.684 2249.26,372.684 2249.26,130.764 1958.43,130.764 1958.43,372.684 \n",
       "  \"/>\n",
       "<polyline clip-path=\"url(#clip3801)\" style=\"stroke:#009af9; stroke-width:4; stroke-opacity:1; fill:none\" points=\"\n",
       "  1982.43,191.244 2126.43,191.244 \n",
       "  \"/>\n",
       "<g clip-path=\"url(#clip3801)\">\n",
       "<text style=\"fill:#000000; fill-opacity:1; font-family:Arial,Helvetica Neue,Helvetica,sans-serif; font-size:48px; text-anchor:start;\" transform=\"rotate(0, 2150.43, 208.744)\" x=\"2150.43\" y=\"208.744\">y1</text>\n",
       "</g>\n",
       "<polyline clip-path=\"url(#clip3801)\" style=\"stroke:#e26f46; stroke-width:4; stroke-opacity:1; fill:none\" points=\"\n",
       "  1982.43,251.724 2126.43,251.724 \n",
       "  \"/>\n",
       "<g clip-path=\"url(#clip3801)\">\n",
       "<text style=\"fill:#000000; fill-opacity:1; font-family:Arial,Helvetica Neue,Helvetica,sans-serif; font-size:48px; text-anchor:start;\" transform=\"rotate(0, 2150.43, 269.224)\" x=\"2150.43\" y=\"269.224\">y2</text>\n",
       "</g>\n",
       "<polyline clip-path=\"url(#clip3801)\" style=\"stroke:#3da44d; stroke-width:4; stroke-opacity:1; fill:none\" points=\"\n",
       "  1982.43,312.204 2126.43,312.204 \n",
       "  \"/>\n",
       "<g clip-path=\"url(#clip3801)\">\n",
       "<text style=\"fill:#000000; fill-opacity:1; font-family:Arial,Helvetica Neue,Helvetica,sans-serif; font-size:48px; text-anchor:start;\" transform=\"rotate(0, 2150.43, 329.704)\" x=\"2150.43\" y=\"329.704\">y3</text>\n",
       "</g>\n",
       "</svg>\n"
      ]
     },
     "execution_count": 23,
     "metadata": {},
     "output_type": "execute_result"
    }
   ],
   "source": [
    "plot(1:n + 1, [time(n, 0), time(n, 0.8), time(n, 0.98)])"
   ]
  },
  {
   "cell_type": "markdown",
   "metadata": {
    "slideshow": {
     "slide_type": "subslide"
    }
   },
   "source": [
    "### Exercise 7\n",
    "\n",
    "This exercise is more challenging\n",
    "\n",
    "Take a random walk, starting from $ x_0 = 1 $\n",
    "\n",
    "$$\n",
    "x_{t+1} = \\, \\alpha \\, x_t + \\sigma\\, \\epsilon_{t+1}\n",
    "\\quad \\text{where} \\quad\n",
    "x_0 = 1\n",
    "\\quad \\text{and} \\quad t = 0,\\ldots,t_{\\max}\n",
    "$$\n",
    "\n",
    "- Furthermore, assume that the $ x_{t_{\\max}} = 0 $  (i.e. at $ t_{\\max} $, the value drops to zero, regardless of its current state)  \n",
    "- The sequence of shocks $ \\{\\epsilon_t\\} $ is assumed to be iid and standard normal  \n",
    "- For a given path $ \\{x_t\\} $ define a **first-passage time** as $ T_a = \\min\\{t\\, |\\, x_t \\leq a\\} $, where by the assumption of the process $ T_a \\leq t_{\\max} $  \n",
    "\n",
    "\n",
    "Start with $ \\sigma = 0.2, \\alpha = 1.0 $\n",
    "\n",
    "1. calculate the first-passage time, $ T_0 $, for 100 simulated random walks – to a $ t_{\\max} = 200 $ and plot a histogram  \n",
    "1. plot the sample mean of $ T_0 $ from the simulation for $ \\alpha \\in \\{0.8, 1.0, 1.2\\} $  \n",
    "\n",
    "\n",
    "\n",
    "<a id='jbe-ex8a'></a>"
   ]
  },
  {
   "cell_type": "code",
   "execution_count": 25,
   "metadata": {},
   "outputs": [
    {
     "data": {
      "image/svg+xml": [
       "<?xml version=\"1.0\" encoding=\"utf-8\"?>\n",
       "<svg xmlns=\"http://www.w3.org/2000/svg\" xmlns:xlink=\"http://www.w3.org/1999/xlink\" width=\"600\" height=\"400\" viewBox=\"0 0 2400 1600\">\n",
       "<defs>\n",
       "  <clipPath id=\"clip4200\">\n",
       "    <rect x=\"0\" y=\"0\" width=\"2000\" height=\"2000\"/>\n",
       "  </clipPath>\n",
       "</defs>\n",
       "<defs>\n",
       "  <clipPath id=\"clip4201\">\n",
       "    <rect x=\"0\" y=\"0\" width=\"2400\" height=\"1600\"/>\n",
       "  </clipPath>\n",
       "</defs>\n",
       "<polygon clip-path=\"url(#clip4201)\" points=\"\n",
       "0,1600 2400,1600 2400,0 0,0 \n",
       "  \" fill=\"#ffffff\" fill-rule=\"evenodd\" fill-opacity=\"1\"/>\n",
       "<defs>\n",
       "  <clipPath id=\"clip4202\">\n",
       "    <rect x=\"480\" y=\"0\" width=\"1681\" height=\"1600\"/>\n",
       "  </clipPath>\n",
       "</defs>\n",
       "<polygon clip-path=\"url(#clip4201)\" points=\"\n",
       "174.775,1503.47 2321.26,1503.47 2321.26,47.2441 174.775,47.2441 \n",
       "  \" fill=\"#ffffff\" fill-rule=\"evenodd\" fill-opacity=\"1\"/>\n",
       "<defs>\n",
       "  <clipPath id=\"clip4203\">\n",
       "    <rect x=\"174\" y=\"47\" width=\"2147\" height=\"1457\"/>\n",
       "  </clipPath>\n",
       "</defs>\n",
       "<polyline clip-path=\"url(#clip4203)\" style=\"stroke:#000000; stroke-width:2; stroke-opacity:0.1; fill:none\" points=\"\n",
       "  235.525,1503.47 235.525,47.2441 \n",
       "  \"/>\n",
       "<polyline clip-path=\"url(#clip4203)\" style=\"stroke:#000000; stroke-width:2; stroke-opacity:0.1; fill:none\" points=\"\n",
       "  741.771,1503.47 741.771,47.2441 \n",
       "  \"/>\n",
       "<polyline clip-path=\"url(#clip4203)\" style=\"stroke:#000000; stroke-width:2; stroke-opacity:0.1; fill:none\" points=\"\n",
       "  1248.02,1503.47 1248.02,47.2441 \n",
       "  \"/>\n",
       "<polyline clip-path=\"url(#clip4203)\" style=\"stroke:#000000; stroke-width:2; stroke-opacity:0.1; fill:none\" points=\"\n",
       "  1754.26,1503.47 1754.26,47.2441 \n",
       "  \"/>\n",
       "<polyline clip-path=\"url(#clip4203)\" style=\"stroke:#000000; stroke-width:2; stroke-opacity:0.1; fill:none\" points=\"\n",
       "  2260.51,1503.47 2260.51,47.2441 \n",
       "  \"/>\n",
       "<polyline clip-path=\"url(#clip4203)\" style=\"stroke:#000000; stroke-width:2; stroke-opacity:0.1; fill:none\" points=\"\n",
       "  174.775,1188.44 2321.26,1188.44 \n",
       "  \"/>\n",
       "<polyline clip-path=\"url(#clip4203)\" style=\"stroke:#000000; stroke-width:2; stroke-opacity:0.1; fill:none\" points=\"\n",
       "  174.775,821.779 2321.26,821.779 \n",
       "  \"/>\n",
       "<polyline clip-path=\"url(#clip4203)\" style=\"stroke:#000000; stroke-width:2; stroke-opacity:0.1; fill:none\" points=\"\n",
       "  174.775,455.118 2321.26,455.118 \n",
       "  \"/>\n",
       "<polyline clip-path=\"url(#clip4203)\" style=\"stroke:#000000; stroke-width:2; stroke-opacity:0.1; fill:none\" points=\"\n",
       "  174.775,88.4582 2321.26,88.4582 \n",
       "  \"/>\n",
       "<polyline clip-path=\"url(#clip4201)\" style=\"stroke:#000000; stroke-width:4; stroke-opacity:1; fill:none\" points=\"\n",
       "  174.775,1503.47 2321.26,1503.47 \n",
       "  \"/>\n",
       "<polyline clip-path=\"url(#clip4201)\" style=\"stroke:#000000; stroke-width:4; stroke-opacity:1; fill:none\" points=\"\n",
       "  174.775,1503.47 174.775,47.2441 \n",
       "  \"/>\n",
       "<polyline clip-path=\"url(#clip4201)\" style=\"stroke:#000000; stroke-width:4; stroke-opacity:1; fill:none\" points=\"\n",
       "  235.525,1503.47 235.525,1481.63 \n",
       "  \"/>\n",
       "<polyline clip-path=\"url(#clip4201)\" style=\"stroke:#000000; stroke-width:4; stroke-opacity:1; fill:none\" points=\"\n",
       "  741.771,1503.47 741.771,1481.63 \n",
       "  \"/>\n",
       "<polyline clip-path=\"url(#clip4201)\" style=\"stroke:#000000; stroke-width:4; stroke-opacity:1; fill:none\" points=\"\n",
       "  1248.02,1503.47 1248.02,1481.63 \n",
       "  \"/>\n",
       "<polyline clip-path=\"url(#clip4201)\" style=\"stroke:#000000; stroke-width:4; stroke-opacity:1; fill:none\" points=\"\n",
       "  1754.26,1503.47 1754.26,1481.63 \n",
       "  \"/>\n",
       "<polyline clip-path=\"url(#clip4201)\" style=\"stroke:#000000; stroke-width:4; stroke-opacity:1; fill:none\" points=\"\n",
       "  2260.51,1503.47 2260.51,1481.63 \n",
       "  \"/>\n",
       "<polyline clip-path=\"url(#clip4201)\" style=\"stroke:#000000; stroke-width:4; stroke-opacity:1; fill:none\" points=\"\n",
       "  174.775,1188.44 206.972,1188.44 \n",
       "  \"/>\n",
       "<polyline clip-path=\"url(#clip4201)\" style=\"stroke:#000000; stroke-width:4; stroke-opacity:1; fill:none\" points=\"\n",
       "  174.775,821.779 206.972,821.779 \n",
       "  \"/>\n",
       "<polyline clip-path=\"url(#clip4201)\" style=\"stroke:#000000; stroke-width:4; stroke-opacity:1; fill:none\" points=\"\n",
       "  174.775,455.118 206.972,455.118 \n",
       "  \"/>\n",
       "<polyline clip-path=\"url(#clip4201)\" style=\"stroke:#000000; stroke-width:4; stroke-opacity:1; fill:none\" points=\"\n",
       "  174.775,88.4582 206.972,88.4582 \n",
       "  \"/>\n",
       "<g clip-path=\"url(#clip4201)\">\n",
       "<text style=\"fill:#000000; fill-opacity:1; font-family:Arial,Helvetica Neue,Helvetica,sans-serif; font-size:48px; text-anchor:middle;\" transform=\"rotate(0, 235.525, 1557.47)\" x=\"235.525\" y=\"1557.47\">0.8</text>\n",
       "</g>\n",
       "<g clip-path=\"url(#clip4201)\">\n",
       "<text style=\"fill:#000000; fill-opacity:1; font-family:Arial,Helvetica Neue,Helvetica,sans-serif; font-size:48px; text-anchor:middle;\" transform=\"rotate(0, 741.771, 1557.47)\" x=\"741.771\" y=\"1557.47\">0.9</text>\n",
       "</g>\n",
       "<g clip-path=\"url(#clip4201)\">\n",
       "<text style=\"fill:#000000; fill-opacity:1; font-family:Arial,Helvetica Neue,Helvetica,sans-serif; font-size:48px; text-anchor:middle;\" transform=\"rotate(0, 1248.02, 1557.47)\" x=\"1248.02\" y=\"1557.47\">1.0</text>\n",
       "</g>\n",
       "<g clip-path=\"url(#clip4201)\">\n",
       "<text style=\"fill:#000000; fill-opacity:1; font-family:Arial,Helvetica Neue,Helvetica,sans-serif; font-size:48px; text-anchor:middle;\" transform=\"rotate(0, 1754.26, 1557.47)\" x=\"1754.26\" y=\"1557.47\">1.1</text>\n",
       "</g>\n",
       "<g clip-path=\"url(#clip4201)\">\n",
       "<text style=\"fill:#000000; fill-opacity:1; font-family:Arial,Helvetica Neue,Helvetica,sans-serif; font-size:48px; text-anchor:middle;\" transform=\"rotate(0, 2260.51, 1557.47)\" x=\"2260.51\" y=\"1557.47\">1.2</text>\n",
       "</g>\n",
       "<g clip-path=\"url(#clip4201)\">\n",
       "<text style=\"fill:#000000; fill-opacity:1; font-family:Arial,Helvetica Neue,Helvetica,sans-serif; font-size:48px; text-anchor:end;\" transform=\"rotate(0, 150.775, 1205.94)\" x=\"150.775\" y=\"1205.94\">50</text>\n",
       "</g>\n",
       "<g clip-path=\"url(#clip4201)\">\n",
       "<text style=\"fill:#000000; fill-opacity:1; font-family:Arial,Helvetica Neue,Helvetica,sans-serif; font-size:48px; text-anchor:end;\" transform=\"rotate(0, 150.775, 839.279)\" x=\"150.775\" y=\"839.279\">100</text>\n",
       "</g>\n",
       "<g clip-path=\"url(#clip4201)\">\n",
       "<text style=\"fill:#000000; fill-opacity:1; font-family:Arial,Helvetica Neue,Helvetica,sans-serif; font-size:48px; text-anchor:end;\" transform=\"rotate(0, 150.775, 472.618)\" x=\"150.775\" y=\"472.618\">150</text>\n",
       "</g>\n",
       "<g clip-path=\"url(#clip4201)\">\n",
       "<text style=\"fill:#000000; fill-opacity:1; font-family:Arial,Helvetica Neue,Helvetica,sans-serif; font-size:48px; text-anchor:end;\" transform=\"rotate(0, 150.775, 105.958)\" x=\"150.775\" y=\"105.958\">200</text>\n",
       "</g>\n",
       "<circle clip-path=\"url(#clip4203)\" style=\"fill:#000000; stroke:none; fill-opacity:1\" cx=\"235.525\" cy=\"1462.26\" r=\"18\"/>\n",
       "<circle clip-path=\"url(#clip4203)\" style=\"fill:#009af9; stroke:none; fill-opacity:1\" cx=\"235.525\" cy=\"1462.26\" r=\"14\"/>\n",
       "<circle clip-path=\"url(#clip4203)\" style=\"fill:#000000; stroke:none; fill-opacity:1\" cx=\"1248.02\" cy=\"800.219\" r=\"18\"/>\n",
       "<circle clip-path=\"url(#clip4203)\" style=\"fill:#009af9; stroke:none; fill-opacity:1\" cx=\"1248.02\" cy=\"800.219\" r=\"14\"/>\n",
       "<circle clip-path=\"url(#clip4203)\" style=\"fill:#000000; stroke:none; fill-opacity:1\" cx=\"2260.51\" cy=\"88.4582\" r=\"18\"/>\n",
       "<circle clip-path=\"url(#clip4203)\" style=\"fill:#009af9; stroke:none; fill-opacity:1\" cx=\"2260.51\" cy=\"88.4582\" r=\"14\"/>\n",
       "<polygon clip-path=\"url(#clip4201)\" points=\"\n",
       "1958.43,251.724 2249.26,251.724 2249.26,130.764 1958.43,130.764 \n",
       "  \" fill=\"#ffffff\" fill-rule=\"evenodd\" fill-opacity=\"1\"/>\n",
       "<polyline clip-path=\"url(#clip4201)\" style=\"stroke:#000000; stroke-width:4; stroke-opacity:1; fill:none\" points=\"\n",
       "  1958.43,251.724 2249.26,251.724 2249.26,130.764 1958.43,130.764 1958.43,251.724 \n",
       "  \"/>\n",
       "<circle clip-path=\"url(#clip4201)\" style=\"fill:#000000; stroke:none; fill-opacity:1\" cx=\"2066.43\" cy=\"191.244\" r=\"25\"/>\n",
       "<circle clip-path=\"url(#clip4201)\" style=\"fill:#009af9; stroke:none; fill-opacity:1\" cx=\"2066.43\" cy=\"191.244\" r=\"21\"/>\n",
       "<g clip-path=\"url(#clip4201)\">\n",
       "<text style=\"fill:#000000; fill-opacity:1; font-family:Arial,Helvetica Neue,Helvetica,sans-serif; font-size:48px; text-anchor:start;\" transform=\"rotate(0, 2150.43, 208.744)\" x=\"2150.43\" y=\"208.744\">y1</text>\n",
       "</g>\n",
       "</svg>\n"
      ]
     },
     "execution_count": 25,
     "metadata": {},
     "output_type": "execute_result"
    }
   ],
   "source": [
    "using Statistics\n",
    "function fpt(n, tmax, a, alpha, o)\n",
    "    T = fill(tmax, n)\n",
    "    for i in 1:n\n",
    "        x = zeros(tmax + 1)\n",
    "        x[1] = 1\n",
    "        e = randn(tmax + 1)\n",
    "        for j in 1:tmax - 1\n",
    "            x[j + 1] = alpha * x[j] + o * e[j]\n",
    "            if x[j + 1] < a\n",
    "                T[i] = j + 1\n",
    "                break\n",
    "            end\n",
    "        end\n",
    "    end\n",
    "    return T\n",
    "end\n",
    "a = 0\n",
    "tmax = 200\n",
    "n = 100\n",
    "histogram(fpt(n, tmax, a, 1, 0.2))\n",
    "m = [mean(fpt(n, tmax, a, 0.8, 0.2)), mean(fpt(n, tmax, a, 1, 0.2)), mean(fpt(n, tmax, a, 1.2, 0.2))]\n",
    "scatter([0.8, 1, 1.2], m)\n",
    "#I didn't really understand what you meant with plot the mean"
   ]
  },
  {
   "cell_type": "markdown",
   "metadata": {
    "slideshow": {
     "slide_type": "subslide"
    }
   },
   "source": [
    "### Exercise 8(a)\n",
    "\n",
    "This exercise is more challenging\n",
    "\n",
    "The root of a univariate function $ f(\\cdot) $ is an $ x $ such that $ f(x) = 0 $\n",
    "\n",
    "One solution method to find local roots of smooth functions is called Newton’s method\n",
    "\n",
    "Starting with an $ x_0 $ guess, a function $ f(\\cdot) $ and the first-derivative $ f'(\\cdot) $, the algorithm is to repeat\n",
    "\n",
    "$$\n",
    "x^{n+1} = x^n - \\frac{f(x^n)}{f'(x^n)}\n",
    "$$\n",
    "\n",
    "until $ | x^{n+1} - x^n| $ is below a tolerance\n",
    "\n",
    "1. Use a variation of the `fixedpointmap` code to implement Newton’s method, where the function would accept arguments `f, f_prime, x_0, tolerance, maxiter`  \n",
    "1. Test it with $ f(x) = (x-1)^3 $ and another function of your choice where you can analytically find the derivative  "
   ]
  },
  {
   "cell_type": "code",
   "execution_count": 2,
   "metadata": {},
   "outputs": [
    {
     "data": {
      "text/plain": [
       "newton (generic function with 1 method)"
      ]
     },
     "execution_count": 2,
     "metadata": {},
     "output_type": "execute_result"
    }
   ],
   "source": [
    "function newton(f, f_prime, x_0, tolerance, maxiter)\n",
    "    i = 0\n",
    "    tol = Inf\n",
    "    x_old = x_0\n",
    "    while i <= maxiter && tol > tolerance\n",
    "        x_new = x_old - f(x_old) / f_prime(x_old)\n",
    "        tol = abs(x_new - x_old)\n",
    "        x_old = x_new\n",
    "        i += 1\n",
    "    end\n",
    "    if i >= maxiter\n",
    "            println(\"No convergence: reached max iteration\")\n",
    "    end\n",
    "    return x_old\n",
    "end\n"
   ]
  },
  {
   "cell_type": "code",
   "execution_count": 3,
   "metadata": {},
   "outputs": [
    {
     "name": "stdout",
     "output_type": "stream",
     "text": [
      "0.009765625\n",
      "1.013701949563127\n"
     ]
    }
   ],
   "source": [
    "f = x-> x^2\n",
    "f_prime = x-> 2 * x\n",
    "println(newton(f, f_prime, 10, 0.01, 1000))\n",
    "\n",
    "f = x->(x - 1)^3\n",
    "f_prime = x->3 * (x - 1)^2\n",
    "println(newton(f, f_prime, 10, 0.01, 1000))"
   ]
  },
  {
   "cell_type": "markdown",
   "metadata": {
    "slideshow": {
     "slide_type": "subslide"
    }
   },
   "source": [
    "### Exercise 8(b)\n",
    "\n",
    "For those impatient to use more advanced features of Julia, implement a version of Exercise 8(a) where `f_prime` is calculated with auto-differentiation"
   ]
  },
  {
   "cell_type": "code",
   "execution_count": 369,
   "metadata": {
    "hide-output": false,
    "slideshow": {
     "slide_type": "subslide"
    }
   },
   "outputs": [
    {
     "ename": "ErrorException",
     "evalue": "cannot define function f; it already has a value",
     "output_type": "error",
     "traceback": [
      "cannot define function f; it already has a value",
      "",
      "Stacktrace:",
      " [1] top-level scope at In[369]:5"
     ]
    }
   ],
   "source": [
    "using ForwardDiff\n",
    "\n",
    "# operator to get the derivative of this function using AD\n",
    "D(f) = x -> ForwardDiff.derivative(f, x)\n",
    "\n",
    "# example usage: create a function and get the derivative\n",
    "f(x) = x^2\n",
    "f_prime = D(f)\n",
    "\n",
    "f(0.1), f_prime(0.1)"
   ]
  },
  {
   "cell_type": "code",
   "execution_count": 371,
   "metadata": {},
   "outputs": [
    {
     "data": {
      "text/plain": [
       "newton2 (generic function with 1 method)"
      ]
     },
     "execution_count": 371,
     "metadata": {},
     "output_type": "execute_result"
    }
   ],
   "source": [
    "function newton2(f, x_0, tolerance, maxiter)\n",
    "    i = 0\n",
    "    tol = Inf\n",
    "    x_old = x_0\n",
    "    D(f) = x -> ForwardDiff.derivative(f, x)\n",
    "    f_prime = D(f)\n",
    "    while i <= maxiter && tol > tolerance\n",
    "        x_new = x_old - f(x_old) / f_prime(x_old)\n",
    "        tol = abs(x_new - x_old)\n",
    "        x_old = x_new\n",
    "        i += 1\n",
    "    end\n",
    "    if i >= maxiter\n",
    "            println(\"No convergence: reached max iteration\")\n",
    "    end\n",
    "    return x_old\n",
    "end"
   ]
  },
  {
   "cell_type": "code",
   "execution_count": 373,
   "metadata": {},
   "outputs": [
    {
     "name": "stdout",
     "output_type": "stream",
     "text": [
      "0.009765625\n",
      "1.013701949563127\n"
     ]
    }
   ],
   "source": [
    "f = x-> x^2\n",
    "println(newton2(f, 10, 0.01, 1000))\n",
    "\n",
    "f = x->(x - 1)^3\n",
    "println(newton2(f, 10, 0.01, 1000))"
   ]
  },
  {
   "cell_type": "markdown",
   "metadata": {
    "slideshow": {
     "slide_type": "subslide"
    }
   },
   "source": [
    "1. Using the `D(f)` operator definition above, implement a version of Newton’s method that does not require the user to provide an analytical derivative  \n",
    "1. Test the sorts of `f` functions which can be automatically integrated by `ForwardDff.jl`  "
   ]
  }
 ],
 "metadata": {
  "celltoolbar": "Slideshow",
  "filename": "julia_by_example.rst",
  "kernelspec": {
   "display_name": "Julia 1.1.0",
   "language": "julia",
   "name": "julia-1.1"
  },
  "language_info": {
   "file_extension": ".jl",
   "mimetype": "application/julia",
   "name": "julia",
   "version": "1.1.0"
  },
  "title": "Introductory Examples"
 },
 "nbformat": 4,
 "nbformat_minor": 2
}
