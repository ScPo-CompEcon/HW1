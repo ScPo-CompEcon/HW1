{
 "cells": [
  {
   "cell_type": "markdown",
   "metadata": {
    "slideshow": {
     "slide_type": "subslide"
    }
   },
   "source": [
    "### Exercise 1\n",
    "\n",
    "Recall that $ n! $ is read as “$ n $ factorial” and defined as\n",
    "$ n! = n \\times (n - 1) \\times \\cdots \\times 2 \\times 1 $\n",
    "\n",
    "In Julia you can compute this value with `factorial(n)`\n",
    "\n",
    "Write your own version of this function, called `factorial2`, using a `for` loop\n",
    "\n",
    "\n",
    "<a id='jbe-ex2'></a>"
   ]
  },
  {
   "cell_type": "code",
   "execution_count": 2,
   "metadata": {},
   "outputs": [
    {
     "data": {
      "text/plain": [
       "factorial2 (generic function with 1 method)"
      ]
     },
     "execution_count": 2,
     "metadata": {},
     "output_type": "execute_result"
    }
   ],
   "source": [
    "function factorial2(n)\n",
    "    return prod(i for i in 2:n)\n",
    "end"
   ]
  },
  {
   "cell_type": "code",
   "execution_count": 3,
   "metadata": {},
   "outputs": [
    {
     "name": "stdout",
     "output_type": "stream",
     "text": [
      "2\n",
      "6\n",
      "24\n",
      "120\n"
     ]
    }
   ],
   "source": [
    "#Tests\n",
    "println(factorial2(2))\n",
    "println(factorial2(3))\n",
    "println(factorial2(4))\n",
    "println(factorial2(5))"
   ]
  },
  {
   "cell_type": "markdown",
   "metadata": {
    "slideshow": {
     "slide_type": "subslide"
    }
   },
   "source": [
    "### Exercise 2\n",
    "\n",
    "The [binomial random variable](https://en.wikipedia.org/wiki/Binomial_distribution) $ Y \\sim Bin(n, p) $ represents\n",
    "\n",
    "- number of successes in $ n $ binary trials  \n",
    "- each trial succeeds with probability $ p $  \n",
    "\n",
    "\n",
    "Using only `rand()` from the set of Julia’s built-in random number\n",
    "generators (not the `Distributions` package), write a function `binomial_rv` such that `binomial_rv(n, p)` generates one draw of $ Y $\n",
    "\n",
    "Hint: If $ U $ is uniform on $ (0, 1) $ and $ p \\in (0,1) $, then the expression `U < p` evaluates to `true` with probability $ p $\n",
    "\n",
    "\n",
    "<a id='jbe-ex3'></a>"
   ]
  },
  {
   "cell_type": "code",
   "execution_count": 4,
   "metadata": {},
   "outputs": [
    {
     "data": {
      "text/plain": [
       "binomial_rv (generic function with 1 method)"
      ]
     },
     "execution_count": 4,
     "metadata": {},
     "output_type": "execute_result"
    }
   ],
   "source": [
    "function binomial_rv(n, p)\n",
    "    return count(x->x<=p, rand(n))\n",
    "end"
   ]
  },
  {
   "cell_type": "code",
   "execution_count": 5,
   "metadata": {},
   "outputs": [
    {
     "name": "stdout",
     "output_type": "stream",
     "text": [
      "7\n",
      "2\n",
      "10\n"
     ]
    }
   ],
   "source": [
    "#Tests\n",
    "println(binomial_rv(10, 0.5))\n",
    "println(binomial_rv(10, 0.2))\n",
    "println(binomial_rv(10, 1))"
   ]
  },
  {
   "cell_type": "markdown",
   "metadata": {
    "slideshow": {
     "slide_type": "subslide"
    }
   },
   "source": [
    "### Exercise 3\n",
    "\n",
    "Compute an approximation to $ \\pi $ using Monte Carlo\n",
    "\n",
    "For random number generation use only `rand()`\n",
    "\n",
    "Your hints are as follows:\n",
    "\n",
    "- If $ U $ is a bivariate uniform random variable on the unit square $ (0, 1)^2 $, then the probability that $ U $ lies in a subset $ B $ of $ (0,1)^2 $ is equal to the area of $ B $  \n",
    "- If $ U_1,\\ldots,U_n $ are iid copies of $ U $, then, as $ n $ gets larger, the fraction that falls in $ B $ converges to the probability of landing in $ B $  \n",
    "- For a circle, area = π * $ radius^2 $  \n",
    "\n",
    "\n",
    "\n",
    "<a id='jbe-ex4'></a>"
   ]
  },
  {
   "cell_type": "code",
   "execution_count": 6,
   "metadata": {},
   "outputs": [
    {
     "data": {
      "text/plain": [
       "approx (generic function with 1 method)"
      ]
     },
     "execution_count": 6,
     "metadata": {},
     "output_type": "execute_result"
    }
   ],
   "source": [
    "function approx(n)\n",
    "    x = rand(n, 2) .^2\n",
    "    x = x[:,1] + x[:,2]\n",
    "    return 4 * count(x->x<1, x) / n\n",
    "end"
   ]
  },
  {
   "cell_type": "code",
   "execution_count": null,
   "metadata": {},
   "outputs": [],
   "source": []
  },
  {
   "cell_type": "code",
   "execution_count": 7,
   "metadata": {},
   "outputs": [
    {
     "name": "stdout",
     "output_type": "stream",
     "text": [
      "4.0\n",
      "3.2\n",
      "3.08\n",
      "3.16\n",
      "3.1148\n",
      "3.14832\n",
      "3.144456\n"
     ]
    }
   ],
   "source": [
    "#Test\n",
    "println(approx(1))\n",
    "println(approx(10))\n",
    "println(approx(100))\n",
    "println(approx(1000))\n",
    "println(approx(10000))\n",
    "println(approx(100000))\n",
    "println(approx(1000000))"
   ]
  },
  {
   "cell_type": "markdown",
   "metadata": {
    "slideshow": {
     "slide_type": "subslide"
    }
   },
   "source": [
    "### Exercise 4\n",
    "\n",
    "Write a program that prints one realization of the following random device:\n",
    "\n",
    "- Flip an unbiased coin 10 times  \n",
    "- If 3 consecutive heads occur one or more times within this sequence, pay one dollar  \n",
    "- If not, pay nothing  \n",
    "\n",
    "\n",
    "Once again use only `rand()` as your random number generator\n",
    "\n",
    "\n",
    "<a id='jbe-ex5'></a>"
   ]
  },
  {
   "cell_type": "code",
   "execution_count": 8,
   "metadata": {},
   "outputs": [
    {
     "name": "stdout",
     "output_type": "stream",
     "text": [
      "[0.543177, 0.16894, 0.248337, 0.820962, 0.778306, 0.63205, 0.652333, 0.860977, 0.165635, 0.523647]\n",
      "[1, 4, 5, 6, 7, 8, 10]\n",
      "You get one dollar\n"
     ]
    }
   ],
   "source": [
    "function game(ran)\n",
    "    x = [if i > 0.5 1 else 0 end for i in ran]\n",
    "    x = x[1: 8] + x[2:9] + x[3:10]\n",
    "    if 3 in x\n",
    "        println(\"You get one dollar\")\n",
    "    else\n",
    "        println(\"You get nothing\")\n",
    "    end\n",
    "end\n",
    "\n",
    "#I keep the randomization out of the function in order to test\n",
    "ran = rand(10)\n",
    "println(ran)\n",
    "println(findall(x->x>0.5, ran))\n",
    "game(ran)"
   ]
  },
  {
   "cell_type": "markdown",
   "metadata": {
    "slideshow": {
     "slide_type": "subslide"
    }
   },
   "source": [
    "### Exercise 5\n",
    "\n",
    "Simulate and plot the correlated time series\n",
    "\n",
    "$$\n",
    "x_{t+1} = \\alpha \\, x_t + \\epsilon_{t+1}\n",
    "\\quad \\text{where} \\quad\n",
    "x_0 = 0\n",
    "\\quad \\text{and} \\quad t = 0,\\ldots,n\n",
    "$$\n",
    "\n",
    "The sequence of shocks $ \\{\\epsilon_t\\} $ is assumed to be iid and standard normal\n",
    "\n",
    "Set $ n = 200 $ and $ \\alpha = 0.9 $\n",
    "\n",
    "\n",
    "<a id='jbe-ex6'></a>"
   ]
  },
  {
   "cell_type": "code",
   "execution_count": 9,
   "metadata": {},
   "outputs": [
    {
     "data": {
      "image/svg+xml": [
       "<?xml version=\"1.0\" encoding=\"utf-8\"?>\n",
       "<svg xmlns=\"http://www.w3.org/2000/svg\" xmlns:xlink=\"http://www.w3.org/1999/xlink\" width=\"600\" height=\"400\" viewBox=\"0 0 2400 1600\">\n",
       "<defs>\n",
       "  <clipPath id=\"clip2700\">\n",
       "    <rect x=\"0\" y=\"0\" width=\"2000\" height=\"2000\"/>\n",
       "  </clipPath>\n",
       "</defs>\n",
       "<defs>\n",
       "  <clipPath id=\"clip2701\">\n",
       "    <rect x=\"0\" y=\"0\" width=\"2400\" height=\"1600\"/>\n",
       "  </clipPath>\n",
       "</defs>\n",
       "<polygon clip-path=\"url(#clip2701)\" points=\"\n",
       "0,1600 2400,1600 2400,0 0,0 \n",
       "  \" fill=\"#ffffff\" fill-rule=\"evenodd\" fill-opacity=\"1\"/>\n",
       "<defs>\n",
       "  <clipPath id=\"clip2702\">\n",
       "    <rect x=\"480\" y=\"0\" width=\"1681\" height=\"1600\"/>\n",
       "  </clipPath>\n",
       "</defs>\n",
       "<polygon clip-path=\"url(#clip2701)\" points=\"\n",
       "189.504,1503.47 2321.26,1503.47 2321.26,47.2441 189.504,47.2441 \n",
       "  \" fill=\"#ffffff\" fill-rule=\"evenodd\" fill-opacity=\"1\"/>\n",
       "<defs>\n",
       "  <clipPath id=\"clip2703\">\n",
       "    <rect x=\"189\" y=\"47\" width=\"2133\" height=\"1457\"/>\n",
       "  </clipPath>\n",
       "</defs>\n",
       "<polyline clip-path=\"url(#clip2703)\" style=\"stroke:#000000; stroke-width:2; stroke-opacity:0.1; fill:none\" points=\"\n",
       "  239.781,1503.47 239.781,47.2441 \n",
       "  \"/>\n",
       "<polyline clip-path=\"url(#clip2703)\" style=\"stroke:#000000; stroke-width:2; stroke-opacity:0.1; fill:none\" points=\"\n",
       "  742.554,1503.47 742.554,47.2441 \n",
       "  \"/>\n",
       "<polyline clip-path=\"url(#clip2703)\" style=\"stroke:#000000; stroke-width:2; stroke-opacity:0.1; fill:none\" points=\"\n",
       "  1245.33,1503.47 1245.33,47.2441 \n",
       "  \"/>\n",
       "<polyline clip-path=\"url(#clip2703)\" style=\"stroke:#000000; stroke-width:2; stroke-opacity:0.1; fill:none\" points=\"\n",
       "  1748.1,1503.47 1748.1,47.2441 \n",
       "  \"/>\n",
       "<polyline clip-path=\"url(#clip2703)\" style=\"stroke:#000000; stroke-width:2; stroke-opacity:0.1; fill:none\" points=\"\n",
       "  2250.87,1503.47 2250.87,47.2441 \n",
       "  \"/>\n",
       "<polyline clip-path=\"url(#clip2703)\" style=\"stroke:#000000; stroke-width:2; stroke-opacity:0.1; fill:none\" points=\"\n",
       "  189.504,1268.72 2321.26,1268.72 \n",
       "  \"/>\n",
       "<polyline clip-path=\"url(#clip2703)\" style=\"stroke:#000000; stroke-width:2; stroke-opacity:0.1; fill:none\" points=\"\n",
       "  189.504,1020.17 2321.26,1020.17 \n",
       "  \"/>\n",
       "<polyline clip-path=\"url(#clip2703)\" style=\"stroke:#000000; stroke-width:2; stroke-opacity:0.1; fill:none\" points=\"\n",
       "  189.504,771.63 2321.26,771.63 \n",
       "  \"/>\n",
       "<polyline clip-path=\"url(#clip2703)\" style=\"stroke:#000000; stroke-width:2; stroke-opacity:0.1; fill:none\" points=\"\n",
       "  189.504,523.085 2321.26,523.085 \n",
       "  \"/>\n",
       "<polyline clip-path=\"url(#clip2703)\" style=\"stroke:#000000; stroke-width:2; stroke-opacity:0.1; fill:none\" points=\"\n",
       "  189.504,274.541 2321.26,274.541 \n",
       "  \"/>\n",
       "<polyline clip-path=\"url(#clip2701)\" style=\"stroke:#000000; stroke-width:4; stroke-opacity:1; fill:none\" points=\"\n",
       "  189.504,1503.47 2321.26,1503.47 \n",
       "  \"/>\n",
       "<polyline clip-path=\"url(#clip2701)\" style=\"stroke:#000000; stroke-width:4; stroke-opacity:1; fill:none\" points=\"\n",
       "  189.504,1503.47 189.504,47.2441 \n",
       "  \"/>\n",
       "<polyline clip-path=\"url(#clip2701)\" style=\"stroke:#000000; stroke-width:4; stroke-opacity:1; fill:none\" points=\"\n",
       "  239.781,1503.47 239.781,1481.63 \n",
       "  \"/>\n",
       "<polyline clip-path=\"url(#clip2701)\" style=\"stroke:#000000; stroke-width:4; stroke-opacity:1; fill:none\" points=\"\n",
       "  742.554,1503.47 742.554,1481.63 \n",
       "  \"/>\n",
       "<polyline clip-path=\"url(#clip2701)\" style=\"stroke:#000000; stroke-width:4; stroke-opacity:1; fill:none\" points=\"\n",
       "  1245.33,1503.47 1245.33,1481.63 \n",
       "  \"/>\n",
       "<polyline clip-path=\"url(#clip2701)\" style=\"stroke:#000000; stroke-width:4; stroke-opacity:1; fill:none\" points=\"\n",
       "  1748.1,1503.47 1748.1,1481.63 \n",
       "  \"/>\n",
       "<polyline clip-path=\"url(#clip2701)\" style=\"stroke:#000000; stroke-width:4; stroke-opacity:1; fill:none\" points=\"\n",
       "  2250.87,1503.47 2250.87,1481.63 \n",
       "  \"/>\n",
       "<polyline clip-path=\"url(#clip2701)\" style=\"stroke:#000000; stroke-width:4; stroke-opacity:1; fill:none\" points=\"\n",
       "  189.504,1268.72 221.48,1268.72 \n",
       "  \"/>\n",
       "<polyline clip-path=\"url(#clip2701)\" style=\"stroke:#000000; stroke-width:4; stroke-opacity:1; fill:none\" points=\"\n",
       "  189.504,1020.17 221.48,1020.17 \n",
       "  \"/>\n",
       "<polyline clip-path=\"url(#clip2701)\" style=\"stroke:#000000; stroke-width:4; stroke-opacity:1; fill:none\" points=\"\n",
       "  189.504,771.63 221.48,771.63 \n",
       "  \"/>\n",
       "<polyline clip-path=\"url(#clip2701)\" style=\"stroke:#000000; stroke-width:4; stroke-opacity:1; fill:none\" points=\"\n",
       "  189.504,523.085 221.48,523.085 \n",
       "  \"/>\n",
       "<polyline clip-path=\"url(#clip2701)\" style=\"stroke:#000000; stroke-width:4; stroke-opacity:1; fill:none\" points=\"\n",
       "  189.504,274.541 221.48,274.541 \n",
       "  \"/>\n",
       "<g clip-path=\"url(#clip2701)\">\n",
       "<text style=\"fill:#000000; fill-opacity:1; font-family:Arial,Helvetica Neue,Helvetica,sans-serif; font-size:48px; text-anchor:middle;\" transform=\"rotate(0, 239.781, 1557.47)\" x=\"239.781\" y=\"1557.47\">0</text>\n",
       "</g>\n",
       "<g clip-path=\"url(#clip2701)\">\n",
       "<text style=\"fill:#000000; fill-opacity:1; font-family:Arial,Helvetica Neue,Helvetica,sans-serif; font-size:48px; text-anchor:middle;\" transform=\"rotate(0, 742.554, 1557.47)\" x=\"742.554\" y=\"1557.47\">50</text>\n",
       "</g>\n",
       "<g clip-path=\"url(#clip2701)\">\n",
       "<text style=\"fill:#000000; fill-opacity:1; font-family:Arial,Helvetica Neue,Helvetica,sans-serif; font-size:48px; text-anchor:middle;\" transform=\"rotate(0, 1245.33, 1557.47)\" x=\"1245.33\" y=\"1557.47\">100</text>\n",
       "</g>\n",
       "<g clip-path=\"url(#clip2701)\">\n",
       "<text style=\"fill:#000000; fill-opacity:1; font-family:Arial,Helvetica Neue,Helvetica,sans-serif; font-size:48px; text-anchor:middle;\" transform=\"rotate(0, 1748.1, 1557.47)\" x=\"1748.1\" y=\"1557.47\">150</text>\n",
       "</g>\n",
       "<g clip-path=\"url(#clip2701)\">\n",
       "<text style=\"fill:#000000; fill-opacity:1; font-family:Arial,Helvetica Neue,Helvetica,sans-serif; font-size:48px; text-anchor:middle;\" transform=\"rotate(0, 2250.87, 1557.47)\" x=\"2250.87\" y=\"1557.47\">200</text>\n",
       "</g>\n",
       "<g clip-path=\"url(#clip2701)\">\n",
       "<text style=\"fill:#000000; fill-opacity:1; font-family:Arial,Helvetica Neue,Helvetica,sans-serif; font-size:48px; text-anchor:end;\" transform=\"rotate(0, 165.504, 1286.22)\" x=\"165.504\" y=\"1286.22\">-5.0</text>\n",
       "</g>\n",
       "<g clip-path=\"url(#clip2701)\">\n",
       "<text style=\"fill:#000000; fill-opacity:1; font-family:Arial,Helvetica Neue,Helvetica,sans-serif; font-size:48px; text-anchor:end;\" transform=\"rotate(0, 165.504, 1037.67)\" x=\"165.504\" y=\"1037.67\">-2.5</text>\n",
       "</g>\n",
       "<g clip-path=\"url(#clip2701)\">\n",
       "<text style=\"fill:#000000; fill-opacity:1; font-family:Arial,Helvetica Neue,Helvetica,sans-serif; font-size:48px; text-anchor:end;\" transform=\"rotate(0, 165.504, 789.13)\" x=\"165.504\" y=\"789.13\">0.0</text>\n",
       "</g>\n",
       "<g clip-path=\"url(#clip2701)\">\n",
       "<text style=\"fill:#000000; fill-opacity:1; font-family:Arial,Helvetica Neue,Helvetica,sans-serif; font-size:48px; text-anchor:end;\" transform=\"rotate(0, 165.504, 540.585)\" x=\"165.504\" y=\"540.585\">2.5</text>\n",
       "</g>\n",
       "<g clip-path=\"url(#clip2701)\">\n",
       "<text style=\"fill:#000000; fill-opacity:1; font-family:Arial,Helvetica Neue,Helvetica,sans-serif; font-size:48px; text-anchor:end;\" transform=\"rotate(0, 165.504, 292.041)\" x=\"165.504\" y=\"292.041\">5.0</text>\n",
       "</g>\n",
       "<polyline clip-path=\"url(#clip2703)\" style=\"stroke:#009af9; stroke-width:4; stroke-opacity:1; fill:none\" points=\"\n",
       "  249.837,771.63 259.892,830.195 269.948,820.473 280.003,831.028 290.059,591.026 300.114,760.705 310.17,677.59 320.225,615.646 330.28,616.243 340.336,784.402 \n",
       "  350.391,672.162 360.447,685.121 370.502,895.59 380.558,738.527 390.613,557.076 400.669,340.558 410.724,436.577 420.78,614.869 430.835,638.459 440.89,474.289 \n",
       "  450.946,609.029 461.001,728.239 471.057,662.454 481.112,600.219 491.168,679.468 501.223,593.608 511.279,768.413 521.334,732.85 531.389,563.314 541.445,865.834 \n",
       "  551.5,812.184 561.556,740.994 571.611,674.57 581.667,486.994 591.722,613.704 601.778,510.528 611.833,543.698 621.889,564.037 631.944,813.407 641.999,624.335 \n",
       "  652.055,652.393 662.11,678.296 672.166,726.23 682.221,495.418 692.277,474.69 702.332,483.515 712.388,481.247 722.443,535.511 732.499,661.682 742.554,602.858 \n",
       "  752.609,629.838 762.665,599.698 772.72,677.141 782.776,446.012 792.831,495.02 802.887,285.863 812.942,88.4582 822.998,123.689 833.053,179.403 843.108,372.786 \n",
       "  853.164,403.432 863.219,458.553 873.275,446.075 883.33,513.288 893.386,491.615 903.441,529.737 913.497,637.151 923.552,609.193 933.608,585.258 943.663,401.515 \n",
       "  953.718,362.448 963.774,463.911 973.829,478.307 983.885,617.499 993.94,671.473 1004,709.009 1014.05,793.197 1024.11,580.389 1034.16,536.906 1044.22,610.898 \n",
       "  1054.27,682.236 1064.33,613.456 1074.38,599.089 1084.44,763.633 1094.49,675.935 1104.55,719.747 1114.61,846.965 1124.66,839.243 1134.72,727.011 1144.77,757.677 \n",
       "  1154.83,901.602 1164.88,953.063 1174.94,925.348 1184.99,886.286 1195.05,935.4 1205.1,1016.19 1215.16,919.005 1225.22,990.876 1235.27,946.673 1245.33,1022.14 \n",
       "  1255.38,793.176 1265.44,819.855 1275.49,605.898 1285.55,570.955 1295.6,678.899 1305.66,685.36 1315.71,697.826 1325.77,888.998 1335.83,790.555 1345.88,832.832 \n",
       "  1355.94,821.23 1365.99,971.048 1376.05,931.832 1386.1,796.263 1396.16,892.766 1406.21,920.475 1416.27,939.018 1426.32,795.389 1436.38,763.457 1446.44,973.951 \n",
       "  1456.49,975.542 1466.55,1010.73 1476.6,1150.78 1486.66,1151.97 1496.71,1194.95 1506.77,1281.85 1516.82,1462.26 1526.88,1422.8 1536.93,1247.1 1546.99,1442.51 \n",
       "  1557.05,1410.22 1567.1,1343.14 1577.16,1318.79 1587.21,1324.38 1597.27,1293.85 1607.32,1207.81 1617.38,1214.55 1627.43,1325.26 1637.49,1231.43 1647.54,1296.51 \n",
       "  1657.6,1318.28 1667.66,1197.31 1677.71,1189.56 1687.77,1216.69 1697.82,1131.4 1707.88,1151.45 1717.93,1179.67 1727.99,1223.05 1738.04,1216.49 1748.1,995.714 \n",
       "  1758.15,910.484 1768.21,1009.12 1778.27,808.73 1788.32,861.138 1798.38,798.43 1808.43,800.281 1818.49,747.824 1828.54,791.477 1838.6,727.343 1848.65,773.725 \n",
       "  1858.71,716.706 1868.76,682.404 1878.82,748.118 1888.88,731.868 1898.93,675.86 1908.99,853.966 1919.04,796.249 1929.1,960.907 1939.15,1014.69 1949.21,1154.8 \n",
       "  1959.26,1340.14 1969.32,1381.13 1979.37,1377.6 1989.43,1195.73 1999.49,997.977 2009.54,1015.07 2019.6,760.002 2029.65,773.159 2039.71,735.655 2049.76,895.382 \n",
       "  2059.82,973.329 2069.87,1021.11 2079.93,850.807 2089.98,866.443 2100.04,984.163 2110.1,1145.8 2120.15,1049.68 2130.21,1186.62 2140.26,1106.63 2150.32,1183 \n",
       "  2160.37,1270.74 2170.43,1276.51 2180.48,1210.97 2190.54,1223.11 2200.59,1232.57 2210.65,1336.96 2220.71,1339.83 2230.76,1253.94 2240.82,1262.17 2250.87,1259.64 \n",
       "  2260.93,1196.58 \n",
       "  \"/>\n",
       "<polygon clip-path=\"url(#clip2701)\" points=\"\n",
       "1958.43,251.724 2249.26,251.724 2249.26,130.764 1958.43,130.764 \n",
       "  \" fill=\"#ffffff\" fill-rule=\"evenodd\" fill-opacity=\"1\"/>\n",
       "<polyline clip-path=\"url(#clip2701)\" style=\"stroke:#000000; stroke-width:4; stroke-opacity:1; fill:none\" points=\"\n",
       "  1958.43,251.724 2249.26,251.724 2249.26,130.764 1958.43,130.764 1958.43,251.724 \n",
       "  \"/>\n",
       "<polyline clip-path=\"url(#clip2701)\" style=\"stroke:#009af9; stroke-width:4; stroke-opacity:1; fill:none\" points=\"\n",
       "  1982.43,191.244 2126.43,191.244 \n",
       "  \"/>\n",
       "<g clip-path=\"url(#clip2701)\">\n",
       "<text style=\"fill:#000000; fill-opacity:1; font-family:Arial,Helvetica Neue,Helvetica,sans-serif; font-size:48px; text-anchor:start;\" transform=\"rotate(0, 2150.43, 208.744)\" x=\"2150.43\" y=\"208.744\">y1</text>\n",
       "</g>\n",
       "</svg>\n"
      ]
     },
     "execution_count": 9,
     "metadata": {},
     "output_type": "execute_result"
    }
   ],
   "source": [
    "using Plots\n",
    "function time(n, a)\n",
    "    e = randn(n + 1)\n",
    "    x = zeros(n + 1)\n",
    "    for i in 1:n\n",
    "        x[i + 1] = a * x[i] + e[i]\n",
    "    end\n",
    "    return x\n",
    "end\n",
    "\n",
    "n = 200\n",
    "a = 0.9\n",
    "plot(1:n + 1, time(n, a))"
   ]
  },
  {
   "cell_type": "markdown",
   "metadata": {
    "slideshow": {
     "slide_type": "subslide"
    }
   },
   "source": [
    "### Exercise 6\n",
    "\n",
    "Plot three simulated time series, one for each of the cases $ \\alpha = 0 $, $ \\alpha = 0.8 $ and $ \\alpha = 0.98 $\n",
    "\n",
    "(The figure will illustrate how time series with the same one-step-ahead conditional volatilities, as these three processes have, can have very different unconditional volatilities)\n",
    "\n",
    "\n",
    "<a id='jbe-ex7'></a>"
   ]
  },
  {
   "cell_type": "code",
   "execution_count": 11,
   "metadata": {},
   "outputs": [
    {
     "data": {
      "image/svg+xml": [
       "<?xml version=\"1.0\" encoding=\"utf-8\"?>\n",
       "<svg xmlns=\"http://www.w3.org/2000/svg\" xmlns:xlink=\"http://www.w3.org/1999/xlink\" width=\"600\" height=\"400\" viewBox=\"0 0 2400 1600\">\n",
       "<defs>\n",
       "  <clipPath id=\"clip3000\">\n",
       "    <rect x=\"0\" y=\"0\" width=\"2000\" height=\"2000\"/>\n",
       "  </clipPath>\n",
       "</defs>\n",
       "<defs>\n",
       "  <clipPath id=\"clip3001\">\n",
       "    <rect x=\"0\" y=\"0\" width=\"2400\" height=\"1600\"/>\n",
       "  </clipPath>\n",
       "</defs>\n",
       "<polygon clip-path=\"url(#clip3001)\" points=\"\n",
       "0,1600 2400,1600 2400,0 0,0 \n",
       "  \" fill=\"#ffffff\" fill-rule=\"evenodd\" fill-opacity=\"1\"/>\n",
       "<defs>\n",
       "  <clipPath id=\"clip3002\">\n",
       "    <rect x=\"480\" y=\"0\" width=\"1681\" height=\"1600\"/>\n",
       "  </clipPath>\n",
       "</defs>\n",
       "<polygon clip-path=\"url(#clip3001)\" points=\"\n",
       "189.504,1503.47 2321.26,1503.47 2321.26,47.2441 189.504,47.2441 \n",
       "  \" fill=\"#ffffff\" fill-rule=\"evenodd\" fill-opacity=\"1\"/>\n",
       "<defs>\n",
       "  <clipPath id=\"clip3003\">\n",
       "    <rect x=\"189\" y=\"47\" width=\"2133\" height=\"1457\"/>\n",
       "  </clipPath>\n",
       "</defs>\n",
       "<polyline clip-path=\"url(#clip3003)\" style=\"stroke:#000000; stroke-width:2; stroke-opacity:0.1; fill:none\" points=\"\n",
       "  239.781,1503.47 239.781,47.2441 \n",
       "  \"/>\n",
       "<polyline clip-path=\"url(#clip3003)\" style=\"stroke:#000000; stroke-width:2; stroke-opacity:0.1; fill:none\" points=\"\n",
       "  742.554,1503.47 742.554,47.2441 \n",
       "  \"/>\n",
       "<polyline clip-path=\"url(#clip3003)\" style=\"stroke:#000000; stroke-width:2; stroke-opacity:0.1; fill:none\" points=\"\n",
       "  1245.33,1503.47 1245.33,47.2441 \n",
       "  \"/>\n",
       "<polyline clip-path=\"url(#clip3003)\" style=\"stroke:#000000; stroke-width:2; stroke-opacity:0.1; fill:none\" points=\"\n",
       "  1748.1,1503.47 1748.1,47.2441 \n",
       "  \"/>\n",
       "<polyline clip-path=\"url(#clip3003)\" style=\"stroke:#000000; stroke-width:2; stroke-opacity:0.1; fill:none\" points=\"\n",
       "  2250.87,1503.47 2250.87,47.2441 \n",
       "  \"/>\n",
       "<polyline clip-path=\"url(#clip3003)\" style=\"stroke:#000000; stroke-width:2; stroke-opacity:0.1; fill:none\" points=\"\n",
       "  189.504,1354.59 2321.26,1354.59 \n",
       "  \"/>\n",
       "<polyline clip-path=\"url(#clip3003)\" style=\"stroke:#000000; stroke-width:2; stroke-opacity:0.1; fill:none\" points=\"\n",
       "  189.504,1146.67 2321.26,1146.67 \n",
       "  \"/>\n",
       "<polyline clip-path=\"url(#clip3003)\" style=\"stroke:#000000; stroke-width:2; stroke-opacity:0.1; fill:none\" points=\"\n",
       "  189.504,938.741 2321.26,938.741 \n",
       "  \"/>\n",
       "<polyline clip-path=\"url(#clip3003)\" style=\"stroke:#000000; stroke-width:2; stroke-opacity:0.1; fill:none\" points=\"\n",
       "  189.504,730.816 2321.26,730.816 \n",
       "  \"/>\n",
       "<polyline clip-path=\"url(#clip3003)\" style=\"stroke:#000000; stroke-width:2; stroke-opacity:0.1; fill:none\" points=\"\n",
       "  189.504,522.892 2321.26,522.892 \n",
       "  \"/>\n",
       "<polyline clip-path=\"url(#clip3003)\" style=\"stroke:#000000; stroke-width:2; stroke-opacity:0.1; fill:none\" points=\"\n",
       "  189.504,314.967 2321.26,314.967 \n",
       "  \"/>\n",
       "<polyline clip-path=\"url(#clip3003)\" style=\"stroke:#000000; stroke-width:2; stroke-opacity:0.1; fill:none\" points=\"\n",
       "  189.504,107.042 2321.26,107.042 \n",
       "  \"/>\n",
       "<polyline clip-path=\"url(#clip3001)\" style=\"stroke:#000000; stroke-width:4; stroke-opacity:1; fill:none\" points=\"\n",
       "  189.504,1503.47 2321.26,1503.47 \n",
       "  \"/>\n",
       "<polyline clip-path=\"url(#clip3001)\" style=\"stroke:#000000; stroke-width:4; stroke-opacity:1; fill:none\" points=\"\n",
       "  189.504,1503.47 189.504,47.2441 \n",
       "  \"/>\n",
       "<polyline clip-path=\"url(#clip3001)\" style=\"stroke:#000000; stroke-width:4; stroke-opacity:1; fill:none\" points=\"\n",
       "  239.781,1503.47 239.781,1481.63 \n",
       "  \"/>\n",
       "<polyline clip-path=\"url(#clip3001)\" style=\"stroke:#000000; stroke-width:4; stroke-opacity:1; fill:none\" points=\"\n",
       "  742.554,1503.47 742.554,1481.63 \n",
       "  \"/>\n",
       "<polyline clip-path=\"url(#clip3001)\" style=\"stroke:#000000; stroke-width:4; stroke-opacity:1; fill:none\" points=\"\n",
       "  1245.33,1503.47 1245.33,1481.63 \n",
       "  \"/>\n",
       "<polyline clip-path=\"url(#clip3001)\" style=\"stroke:#000000; stroke-width:4; stroke-opacity:1; fill:none\" points=\"\n",
       "  1748.1,1503.47 1748.1,1481.63 \n",
       "  \"/>\n",
       "<polyline clip-path=\"url(#clip3001)\" style=\"stroke:#000000; stroke-width:4; stroke-opacity:1; fill:none\" points=\"\n",
       "  2250.87,1503.47 2250.87,1481.63 \n",
       "  \"/>\n",
       "<polyline clip-path=\"url(#clip3001)\" style=\"stroke:#000000; stroke-width:4; stroke-opacity:1; fill:none\" points=\"\n",
       "  189.504,1354.59 221.48,1354.59 \n",
       "  \"/>\n",
       "<polyline clip-path=\"url(#clip3001)\" style=\"stroke:#000000; stroke-width:4; stroke-opacity:1; fill:none\" points=\"\n",
       "  189.504,1146.67 221.48,1146.67 \n",
       "  \"/>\n",
       "<polyline clip-path=\"url(#clip3001)\" style=\"stroke:#000000; stroke-width:4; stroke-opacity:1; fill:none\" points=\"\n",
       "  189.504,938.741 221.48,938.741 \n",
       "  \"/>\n",
       "<polyline clip-path=\"url(#clip3001)\" style=\"stroke:#000000; stroke-width:4; stroke-opacity:1; fill:none\" points=\"\n",
       "  189.504,730.816 221.48,730.816 \n",
       "  \"/>\n",
       "<polyline clip-path=\"url(#clip3001)\" style=\"stroke:#000000; stroke-width:4; stroke-opacity:1; fill:none\" points=\"\n",
       "  189.504,522.892 221.48,522.892 \n",
       "  \"/>\n",
       "<polyline clip-path=\"url(#clip3001)\" style=\"stroke:#000000; stroke-width:4; stroke-opacity:1; fill:none\" points=\"\n",
       "  189.504,314.967 221.48,314.967 \n",
       "  \"/>\n",
       "<polyline clip-path=\"url(#clip3001)\" style=\"stroke:#000000; stroke-width:4; stroke-opacity:1; fill:none\" points=\"\n",
       "  189.504,107.042 221.48,107.042 \n",
       "  \"/>\n",
       "<g clip-path=\"url(#clip3001)\">\n",
       "<text style=\"fill:#000000; fill-opacity:1; font-family:Arial,Helvetica Neue,Helvetica,sans-serif; font-size:48px; text-anchor:middle;\" transform=\"rotate(0, 239.781, 1557.47)\" x=\"239.781\" y=\"1557.47\">0</text>\n",
       "</g>\n",
       "<g clip-path=\"url(#clip3001)\">\n",
       "<text style=\"fill:#000000; fill-opacity:1; font-family:Arial,Helvetica Neue,Helvetica,sans-serif; font-size:48px; text-anchor:middle;\" transform=\"rotate(0, 742.554, 1557.47)\" x=\"742.554\" y=\"1557.47\">50</text>\n",
       "</g>\n",
       "<g clip-path=\"url(#clip3001)\">\n",
       "<text style=\"fill:#000000; fill-opacity:1; font-family:Arial,Helvetica Neue,Helvetica,sans-serif; font-size:48px; text-anchor:middle;\" transform=\"rotate(0, 1245.33, 1557.47)\" x=\"1245.33\" y=\"1557.47\">100</text>\n",
       "</g>\n",
       "<g clip-path=\"url(#clip3001)\">\n",
       "<text style=\"fill:#000000; fill-opacity:1; font-family:Arial,Helvetica Neue,Helvetica,sans-serif; font-size:48px; text-anchor:middle;\" transform=\"rotate(0, 1748.1, 1557.47)\" x=\"1748.1\" y=\"1557.47\">150</text>\n",
       "</g>\n",
       "<g clip-path=\"url(#clip3001)\">\n",
       "<text style=\"fill:#000000; fill-opacity:1; font-family:Arial,Helvetica Neue,Helvetica,sans-serif; font-size:48px; text-anchor:middle;\" transform=\"rotate(0, 2250.87, 1557.47)\" x=\"2250.87\" y=\"1557.47\">200</text>\n",
       "</g>\n",
       "<g clip-path=\"url(#clip3001)\">\n",
       "<text style=\"fill:#000000; fill-opacity:1; font-family:Arial,Helvetica Neue,Helvetica,sans-serif; font-size:48px; text-anchor:end;\" transform=\"rotate(0, 165.504, 1372.09)\" x=\"165.504\" y=\"1372.09\">-2.5</text>\n",
       "</g>\n",
       "<g clip-path=\"url(#clip3001)\">\n",
       "<text style=\"fill:#000000; fill-opacity:1; font-family:Arial,Helvetica Neue,Helvetica,sans-serif; font-size:48px; text-anchor:end;\" transform=\"rotate(0, 165.504, 1164.17)\" x=\"165.504\" y=\"1164.17\">0.0</text>\n",
       "</g>\n",
       "<g clip-path=\"url(#clip3001)\">\n",
       "<text style=\"fill:#000000; fill-opacity:1; font-family:Arial,Helvetica Neue,Helvetica,sans-serif; font-size:48px; text-anchor:end;\" transform=\"rotate(0, 165.504, 956.241)\" x=\"165.504\" y=\"956.241\">2.5</text>\n",
       "</g>\n",
       "<g clip-path=\"url(#clip3001)\">\n",
       "<text style=\"fill:#000000; fill-opacity:1; font-family:Arial,Helvetica Neue,Helvetica,sans-serif; font-size:48px; text-anchor:end;\" transform=\"rotate(0, 165.504, 748.316)\" x=\"165.504\" y=\"748.316\">5.0</text>\n",
       "</g>\n",
       "<g clip-path=\"url(#clip3001)\">\n",
       "<text style=\"fill:#000000; fill-opacity:1; font-family:Arial,Helvetica Neue,Helvetica,sans-serif; font-size:48px; text-anchor:end;\" transform=\"rotate(0, 165.504, 540.392)\" x=\"165.504\" y=\"540.392\">7.5</text>\n",
       "</g>\n",
       "<g clip-path=\"url(#clip3001)\">\n",
       "<text style=\"fill:#000000; fill-opacity:1; font-family:Arial,Helvetica Neue,Helvetica,sans-serif; font-size:48px; text-anchor:end;\" transform=\"rotate(0, 165.504, 332.467)\" x=\"165.504\" y=\"332.467\">10.0</text>\n",
       "</g>\n",
       "<g clip-path=\"url(#clip3001)\">\n",
       "<text style=\"fill:#000000; fill-opacity:1; font-family:Arial,Helvetica Neue,Helvetica,sans-serif; font-size:48px; text-anchor:end;\" transform=\"rotate(0, 165.504, 124.542)\" x=\"165.504\" y=\"124.542\">12.5</text>\n",
       "</g>\n",
       "<polyline clip-path=\"url(#clip3003)\" style=\"stroke:#009af9; stroke-width:4; stroke-opacity:1; fill:none\" points=\"\n",
       "  249.837,1146.67 259.892,1194.82 269.948,1061.77 280.003,1168.25 290.059,1153.12 300.114,1197.77 310.17,1076.46 320.225,1104.68 330.28,1074.49 340.336,1201.65 \n",
       "  350.391,1176.85 360.447,1027.16 370.502,1221.96 380.558,1201.41 390.613,1229.27 400.669,1134.47 410.724,1211.87 420.78,1113.68 430.835,1270.56 440.89,1151.59 \n",
       "  450.946,1201.18 461.001,971.221 471.057,1135.44 481.112,1208.79 491.168,969.399 501.223,1000.62 511.279,1143.04 521.334,1195.05 531.389,1232.6 541.445,1133.68 \n",
       "  551.5,1213.47 561.556,1087.17 571.611,1107.72 581.667,1294.85 591.722,1144.61 601.778,1281.16 611.833,1113.63 621.889,1200.57 631.944,1272.71 641.999,1052.06 \n",
       "  652.055,1154.35 662.11,1061.62 672.166,1151.75 682.221,1128.26 692.277,1117.61 702.332,1161.98 712.388,1002.46 722.443,1249.41 732.499,979.383 742.554,1160.15 \n",
       "  752.609,1018.63 762.665,1096.47 772.72,1104.29 782.776,1200.33 792.831,1192.87 802.887,1341.9 812.942,1115.76 822.998,1216.51 833.053,1091.28 843.108,1188.88 \n",
       "  853.164,1034.18 863.219,1094.52 873.275,1168.95 883.33,1126.94 893.386,1123.01 903.441,1131.37 913.497,1099.09 923.552,1211.59 933.608,1070.23 943.663,1114.82 \n",
       "  953.718,1183.52 963.774,1215.99 973.829,1031.24 983.885,1208.48 993.94,1188.86 1004,1144.82 1014.05,1069.99 1024.11,1150.5 1034.16,1101.15 1044.22,977.578 \n",
       "  1054.27,1063.51 1064.33,1053.8 1074.38,1122.22 1084.44,1222.01 1094.49,962.828 1104.55,1097.09 1114.61,1276.41 1124.66,1295.16 1134.72,1112.68 1144.77,1145.3 \n",
       "  1154.83,1097.46 1164.88,1188.94 1174.94,1000.1 1184.99,1107.33 1195.05,1182.39 1205.1,1216.44 1215.16,1096.32 1225.22,1200.94 1235.27,1119.73 1245.33,1090.71 \n",
       "  1255.38,1158.85 1265.44,1153.95 1275.49,1260.6 1285.55,1224.99 1295.6,1171.14 1305.66,1133.76 1315.71,1068.79 1325.77,1140.5 1335.83,1146.72 1345.88,1125.28 \n",
       "  1355.94,1152.66 1365.99,1220.42 1376.05,1181.56 1386.1,1119.4 1396.16,1081.12 1406.21,1172.6 1416.27,1159.86 1426.32,1118.23 1436.38,1178.05 1446.44,1159.68 \n",
       "  1456.49,1035.18 1466.55,1188.48 1476.6,1266.02 1486.66,1159.1 1496.71,1223.91 1506.77,1073.88 1516.82,1194.47 1526.88,1203.43 1536.93,1019.88 1546.99,902.17 \n",
       "  1557.05,1008.72 1567.1,1118.66 1577.16,1357.24 1587.21,1123.13 1597.27,1165.42 1607.32,1167.37 1617.38,1161.96 1627.43,1167.47 1637.49,1150.08 1647.54,1267.8 \n",
       "  1657.6,1105.4 1667.66,1107.73 1677.71,1280.08 1687.77,1170.61 1697.82,1289.05 1707.88,1176.58 1717.93,1169.68 1727.99,1128.53 1738.04,1105.13 1748.1,1198.74 \n",
       "  1758.15,1160.38 1768.21,1133.66 1778.27,1120.19 1788.32,1127.35 1798.38,1200.87 1808.43,1110.19 1818.49,1081.03 1828.54,1289.29 1838.6,1063.42 1848.65,1115.78 \n",
       "  1858.71,950.569 1868.76,1257.43 1878.82,1156.21 1888.88,1060.37 1898.93,1160.53 1908.99,1245.73 1919.04,1226.63 1929.1,1049.06 1939.15,1196.06 1949.21,1121.98 \n",
       "  1959.26,1188.52 1969.32,1074.84 1979.37,1110.12 1989.43,1183.83 1999.49,1257.15 2009.54,1078.26 2019.6,1193.25 2029.65,1219.73 2039.71,1214.52 2049.76,1099.7 \n",
       "  2059.82,1154.4 2069.87,1174.16 2079.93,1041.68 2089.98,1172.87 2100.04,1245.41 2110.1,1156.39 2120.15,1121.06 2130.21,1192.67 2140.26,1086.47 2150.32,1138.28 \n",
       "  2160.37,1026.82 2170.43,1114.12 2180.48,1220.88 2190.54,1010.02 2200.59,1279.81 2210.65,1246.19 2220.71,1084.38 2230.76,1149.75 2240.82,1212.76 2250.87,1212.65 \n",
       "  2260.93,1007.2 \n",
       "  \"/>\n",
       "<polyline clip-path=\"url(#clip3003)\" style=\"stroke:#e26f46; stroke-width:4; stroke-opacity:1; fill:none\" points=\"\n",
       "  249.837,1146.67 259.892,1105.49 269.948,1163.04 280.003,1166.85 290.059,1265.13 300.114,1259.87 310.17,1248.56 320.225,1218.37 330.28,1306.36 340.336,1307.07 \n",
       "  350.391,1221.84 360.447,1251.18 370.502,1079.28 380.558,1137.62 390.613,1275.83 400.669,1180.9 410.724,1224.66 420.78,1186.09 430.835,1310.08 440.89,1248.86 \n",
       "  450.946,1213.12 461.001,1241.22 471.057,1199.3 481.112,1316.2 491.168,1213.95 501.223,1193.65 511.279,1112.16 521.334,1113.95 531.389,1086.84 541.445,1184.16 \n",
       "  551.5,1156.73 561.556,1273.49 571.611,1215.68 581.667,1238.92 591.722,1242.84 601.778,1260.07 611.833,1199.54 621.889,1201.11 631.944,1207.65 641.999,1231.95 \n",
       "  652.055,1256.29 662.11,1122.5 672.166,1035.39 682.221,1099.94 692.277,1046.31 702.332,1211.48 712.388,1018.66 722.443,1074.84 732.499,1112.95 742.554,1171.76 \n",
       "  752.609,1266.08 762.665,1392.72 772.72,1337.8 782.776,1252.99 792.831,1314.74 802.887,1336.5 812.942,1242.17 822.998,1216.81 833.053,1225.36 843.108,1124.17 \n",
       "  853.164,1173.99 863.219,1058.05 873.275,1182.64 883.33,1157.41 893.386,1270.76 903.441,1135.79 913.497,1096.77 923.552,1252.21 933.608,1154.66 943.663,1158.45 \n",
       "  953.718,1020.58 963.774,1096.79 973.829,1103.31 983.885,1074.26 993.94,1228.55 1004,1205.11 1014.05,1068.05 1024.11,1221.95 1034.16,1117.43 1044.22,1094.57 \n",
       "  1054.27,987.603 1064.33,973.497 1074.38,1100.13 1084.44,1098.62 1094.49,1131.86 1104.55,1132.91 1114.61,1130.29 1124.66,1264.47 1134.72,1129.02 1144.77,1232.28 \n",
       "  1154.83,1313.92 1164.88,1310.41 1174.94,1209.7 1184.99,1215.64 1195.05,1263.5 1205.1,1218.9 1215.16,1009.02 1225.22,1041.12 1235.27,1030.74 1245.33,1053.79 \n",
       "  1255.38,1082.47 1265.44,1106.25 1275.49,1088.47 1285.55,986.945 1295.6,1086.84 1305.66,1118.5 1315.71,1114.67 1325.77,1106.83 1335.83,1266.28 1345.88,1347.46 \n",
       "  1355.94,1171.33 1365.99,1135.26 1376.05,1013.03 1386.1,1106.93 1396.16,1051.29 1406.21,1133.86 1416.27,1199.77 1426.32,1296.77 1436.38,1320.7 1446.44,1120.19 \n",
       "  1456.49,1101.35 1466.55,1196.51 1476.6,1149.15 1486.66,1270.98 1496.71,1226.86 1506.77,1155.66 1516.82,1061.37 1526.88,1007.59 1536.93,1056.57 1546.99,1117.9 \n",
       "  1557.05,1145.83 1567.1,1288.47 1577.16,1196.46 1587.21,1101.65 1597.27,958.94 1607.32,989.48 1617.38,1166.33 1627.43,1225.32 1637.49,1290.62 1647.54,1277.31 \n",
       "  1657.6,1356.05 1667.66,1357.49 1677.71,1186.72 1687.77,1078.02 1697.82,1169.39 1707.88,1182.05 1717.93,1161.4 1727.99,1163.74 1738.04,1188.19 1748.1,1252.21 \n",
       "  1758.15,1140.94 1768.21,1047.88 1778.27,987.13 1788.32,1001.78 1798.38,1018.4 1808.43,982.871 1818.49,1110.91 1828.54,993.535 1838.6,1174.12 1848.65,1271.62 \n",
       "  1858.71,1392.39 1868.76,1334.19 1878.82,1204.64 1888.88,1050.04 1898.93,1068.67 1908.99,1112.93 1919.04,1255.67 1929.1,1226.26 1939.15,1280.28 1949.21,1110.3 \n",
       "  1959.26,975.54 1969.32,967.431 1979.37,1075.96 1989.43,1163.94 1999.49,1299.07 2009.54,1255.01 2019.6,1174.6 2029.65,1132.88 2039.71,1012.21 2049.76,951.381 \n",
       "  2059.82,1028.42 2069.87,1044.96 2079.93,986.721 2089.98,882.126 2100.04,1056.37 2110.1,954.742 2120.15,1037.61 2130.21,996.698 2140.26,1072.65 2150.32,1013.46 \n",
       "  2160.37,1202.41 2170.43,1130.45 2180.48,953.84 2190.54,855.313 2200.59,951.901 2210.65,1061.98 2220.71,1100.83 2230.76,975.515 2240.82,1085.84 2250.87,1112.01 \n",
       "  2260.93,1156.98 \n",
       "  \"/>\n",
       "<polyline clip-path=\"url(#clip3003)\" style=\"stroke:#3da44d; stroke-width:4; stroke-opacity:1; fill:none\" points=\"\n",
       "  249.837,1146.67 259.892,1097.2 269.948,1018.51 280.003,947.119 290.059,1150.05 300.114,1216.75 310.17,1319.4 320.225,1276.93 330.28,1209.59 340.336,1177.53 \n",
       "  350.391,1185.69 360.447,1238.41 370.502,1173.92 380.558,1164.89 390.613,1138.3 400.669,1231.08 410.724,1270.39 420.78,1373.26 430.835,1462.26 440.89,1434.77 \n",
       "  450.946,1421.2 461.001,1434.98 471.057,1419.01 481.112,1379.74 491.168,1393.4 501.223,1427.34 511.279,1372.21 521.334,1247.61 531.389,1145.95 541.445,1123.36 \n",
       "  551.5,1167.22 561.556,1236.34 571.611,1248.98 581.667,1230.99 591.722,1254.4 601.778,1063.16 611.833,1074.67 621.889,1104.88 631.944,1102.94 641.999,1034.35 \n",
       "  652.055,1079.93 662.11,1016.31 672.166,937.323 682.221,909.125 692.277,851.226 702.332,922.619 712.388,1046.81 722.443,1130.64 732.499,1201.8 742.554,1231.05 \n",
       "  752.609,1125.61 762.665,1223.93 772.72,1392.79 782.776,1314.1 792.831,1271.75 802.887,1153.5 812.942,1105.18 822.998,1125.2 833.053,1022.42 843.108,798.27 \n",
       "  853.164,851.136 863.219,878.53 873.275,803.856 883.33,799.681 893.386,860.438 903.441,739.091 913.497,803.22 923.552,782.361 933.608,901.395 943.663,968.949 \n",
       "  953.718,995.985 963.774,1150.77 973.829,1002.01 983.885,1004.76 993.94,869.007 1004,793.074 1014.05,789.381 1024.11,846.878 1034.16,743.009 1044.22,798.018 \n",
       "  1054.27,823.157 1064.33,784.654 1074.38,669.241 1084.44,639.429 1094.49,484.924 1104.55,437.563 1114.61,506.246 1124.66,376.303 1134.72,328.821 1144.77,358.063 \n",
       "  1154.83,318.055 1164.88,366.355 1174.94,393.339 1184.99,499.987 1195.05,552.172 1205.1,592.555 1215.16,535.762 1225.22,700.008 1235.27,740.614 1245.33,787.842 \n",
       "  1255.38,760.573 1265.44,790.906 1275.49,837.338 1285.55,994.898 1295.6,947.569 1305.66,1023.04 1315.71,1061.17 1325.77,1028.03 1335.83,973.606 1345.88,935.714 \n",
       "  1355.94,1021.25 1365.99,1058.43 1376.05,1000.64 1386.1,1067.48 1396.16,944.572 1406.21,1002.4 1416.27,975.246 1426.32,1019.07 1436.38,960.616 1446.44,975.37 \n",
       "  1456.49,915.21 1466.55,809.277 1476.6,672.02 1486.66,674.715 1496.71,594.799 1506.77,745.073 1516.82,814.83 1526.88,806.287 1536.93,882.148 1546.99,814.871 \n",
       "  1557.05,780.665 1567.1,780.434 1577.16,760.025 1587.21,885.318 1597.27,1075.57 1607.32,1118.78 1617.38,1151.96 1627.43,1105.46 1637.49,1096.9 1647.54,1136.07 \n",
       "  1657.6,1108.8 1667.66,1114.03 1677.71,910.798 1687.77,927.144 1697.82,847.82 1707.88,744.799 1717.93,689.471 1727.99,782.295 1738.04,817.914 1748.1,682.182 \n",
       "  1758.15,670.873 1768.21,575.6 1778.27,617.505 1788.32,641.619 1798.38,748.95 1808.43,1017.14 1818.49,963.844 1828.54,914.131 1838.6,1016.8 1848.65,850.214 \n",
       "  1858.71,869.912 1868.76,868.466 1878.82,722.685 1888.88,686.705 1898.93,625.457 1908.99,607.617 1919.04,721.534 1929.1,642.203 1939.15,471.304 1949.21,501.022 \n",
       "  1959.26,589.187 1969.32,451.591 1979.37,420.902 1989.43,427.013 1999.49,459.068 2009.54,512.285 2019.6,526.343 2029.65,258.505 2039.71,182.187 2049.76,322.857 \n",
       "  2059.82,327.619 2069.87,243.148 2079.93,272.794 2089.98,324.19 2100.04,278.3 2110.1,283.238 2120.15,391.036 2130.21,227.314 2140.26,179.413 2150.32,138.799 \n",
       "  2160.37,239.025 2170.43,88.4582 2180.48,118.789 2190.54,250.444 2200.59,314.222 2210.65,419.019 2220.71,366.406 2230.76,404.625 2240.82,366.685 2250.87,545.033 \n",
       "  2260.93,485.628 \n",
       "  \"/>\n",
       "<polygon clip-path=\"url(#clip3001)\" points=\"\n",
       "1958.43,372.684 2249.26,372.684 2249.26,130.764 1958.43,130.764 \n",
       "  \" fill=\"#ffffff\" fill-rule=\"evenodd\" fill-opacity=\"1\"/>\n",
       "<polyline clip-path=\"url(#clip3001)\" style=\"stroke:#000000; stroke-width:4; stroke-opacity:1; fill:none\" points=\"\n",
       "  1958.43,372.684 2249.26,372.684 2249.26,130.764 1958.43,130.764 1958.43,372.684 \n",
       "  \"/>\n",
       "<polyline clip-path=\"url(#clip3001)\" style=\"stroke:#009af9; stroke-width:4; stroke-opacity:1; fill:none\" points=\"\n",
       "  1982.43,191.244 2126.43,191.244 \n",
       "  \"/>\n",
       "<g clip-path=\"url(#clip3001)\">\n",
       "<text style=\"fill:#000000; fill-opacity:1; font-family:Arial,Helvetica Neue,Helvetica,sans-serif; font-size:48px; text-anchor:start;\" transform=\"rotate(0, 2150.43, 208.744)\" x=\"2150.43\" y=\"208.744\">y1</text>\n",
       "</g>\n",
       "<polyline clip-path=\"url(#clip3001)\" style=\"stroke:#e26f46; stroke-width:4; stroke-opacity:1; fill:none\" points=\"\n",
       "  1982.43,251.724 2126.43,251.724 \n",
       "  \"/>\n",
       "<g clip-path=\"url(#clip3001)\">\n",
       "<text style=\"fill:#000000; fill-opacity:1; font-family:Arial,Helvetica Neue,Helvetica,sans-serif; font-size:48px; text-anchor:start;\" transform=\"rotate(0, 2150.43, 269.224)\" x=\"2150.43\" y=\"269.224\">y2</text>\n",
       "</g>\n",
       "<polyline clip-path=\"url(#clip3001)\" style=\"stroke:#3da44d; stroke-width:4; stroke-opacity:1; fill:none\" points=\"\n",
       "  1982.43,312.204 2126.43,312.204 \n",
       "  \"/>\n",
       "<g clip-path=\"url(#clip3001)\">\n",
       "<text style=\"fill:#000000; fill-opacity:1; font-family:Arial,Helvetica Neue,Helvetica,sans-serif; font-size:48px; text-anchor:start;\" transform=\"rotate(0, 2150.43, 329.704)\" x=\"2150.43\" y=\"329.704\">y3</text>\n",
       "</g>\n",
       "</svg>\n"
      ]
     },
     "execution_count": 11,
     "metadata": {},
     "output_type": "execute_result"
    }
   ],
   "source": [
    "plot(1:n + 1, [time(n, 0), time(n, 0.8), time(n, 0.98)])"
   ]
  },
  {
   "cell_type": "markdown",
   "metadata": {
    "slideshow": {
     "slide_type": "subslide"
    }
   },
   "source": [
    "### Exercise 7\n",
    "\n",
    "This exercise is more challenging\n",
    "\n",
    "Take a random walk, starting from $ x_0 = 1 $\n",
    "\n",
    "$$\n",
    "x_{t+1} = \\, \\alpha \\, x_t + \\sigma\\, \\epsilon_{t+1}\n",
    "\\quad \\text{where} \\quad\n",
    "x_0 = 1\n",
    "\\quad \\text{and} \\quad t = 0,\\ldots,t_{\\max}\n",
    "$$\n",
    "\n",
    "- Furthermore, assume that the $ x_{t_{\\max}} = 0 $  (i.e. at $ t_{\\max} $, the value drops to zero, regardless of its current state)  \n",
    "- The sequence of shocks $ \\{\\epsilon_t\\} $ is assumed to be iid and standard normal  \n",
    "- For a given path $ \\{x_t\\} $ define a **first-passage time** as $ T_a = \\min\\{t\\, |\\, x_t \\leq a\\} $, where by the assumption of the process $ T_a \\leq t_{\\max} $  \n",
    "\n",
    "\n",
    "Start with $ \\sigma = 0.2, \\alpha = 1.0 $\n",
    "\n",
    "1. calculate the first-passage time, $ T_0 $, for 100 simulated random walks – to a $ t_{\\max} = 200 $ and plot a histogram  \n",
    "1. plot the sample mean of $ T_0 $ from the simulation for $ \\alpha \\in \\{0.8, 1.0, 1.2\\} $  \n",
    "\n",
    "\n",
    "\n",
    "<a id='jbe-ex8a'></a>"
   ]
  },
  {
   "cell_type": "code",
   "execution_count": 294,
   "metadata": {},
   "outputs": [
    {
     "data": {
      "image/svg+xml": [
       "<?xml version=\"1.0\" encoding=\"utf-8\"?>\n",
       "<svg xmlns=\"http://www.w3.org/2000/svg\" xmlns:xlink=\"http://www.w3.org/1999/xlink\" width=\"600\" height=\"400\" viewBox=\"0 0 2400 1600\">\n",
       "<defs>\n",
       "  <clipPath id=\"clip7500\">\n",
       "    <rect x=\"0\" y=\"0\" width=\"2000\" height=\"2000\"/>\n",
       "  </clipPath>\n",
       "</defs>\n",
       "<defs>\n",
       "  <clipPath id=\"clip7501\">\n",
       "    <rect x=\"0\" y=\"0\" width=\"2400\" height=\"1600\"/>\n",
       "  </clipPath>\n",
       "</defs>\n",
       "<polygon clip-path=\"url(#clip7501)\" points=\"\n",
       "0,1600 2400,1600 2400,0 0,0 \n",
       "  \" fill=\"#ffffff\" fill-rule=\"evenodd\" fill-opacity=\"1\"/>\n",
       "<defs>\n",
       "  <clipPath id=\"clip7502\">\n",
       "    <rect x=\"480\" y=\"0\" width=\"1681\" height=\"1600\"/>\n",
       "  </clipPath>\n",
       "</defs>\n",
       "<polygon clip-path=\"url(#clip7501)\" points=\"\n",
       "174.775,1503.47 2321.26,1503.47 2321.26,47.2441 174.775,47.2441 \n",
       "  \" fill=\"#ffffff\" fill-rule=\"evenodd\" fill-opacity=\"1\"/>\n",
       "<defs>\n",
       "  <clipPath id=\"clip7503\">\n",
       "    <rect x=\"174\" y=\"47\" width=\"2147\" height=\"1457\"/>\n",
       "  </clipPath>\n",
       "</defs>\n",
       "<polyline clip-path=\"url(#clip7503)\" style=\"stroke:#000000; stroke-width:2; stroke-opacity:0.1; fill:none\" points=\"\n",
       "  235.525,1503.47 235.525,47.2441 \n",
       "  \"/>\n",
       "<polyline clip-path=\"url(#clip7503)\" style=\"stroke:#000000; stroke-width:2; stroke-opacity:0.1; fill:none\" points=\"\n",
       "  741.771,1503.47 741.771,47.2441 \n",
       "  \"/>\n",
       "<polyline clip-path=\"url(#clip7503)\" style=\"stroke:#000000; stroke-width:2; stroke-opacity:0.1; fill:none\" points=\"\n",
       "  1248.02,1503.47 1248.02,47.2441 \n",
       "  \"/>\n",
       "<polyline clip-path=\"url(#clip7503)\" style=\"stroke:#000000; stroke-width:2; stroke-opacity:0.1; fill:none\" points=\"\n",
       "  1754.26,1503.47 1754.26,47.2441 \n",
       "  \"/>\n",
       "<polyline clip-path=\"url(#clip7503)\" style=\"stroke:#000000; stroke-width:2; stroke-opacity:0.1; fill:none\" points=\"\n",
       "  2260.51,1503.47 2260.51,47.2441 \n",
       "  \"/>\n",
       "<polyline clip-path=\"url(#clip7503)\" style=\"stroke:#000000; stroke-width:2; stroke-opacity:0.1; fill:none\" points=\"\n",
       "  174.775,1179.53 2321.26,1179.53 \n",
       "  \"/>\n",
       "<polyline clip-path=\"url(#clip7503)\" style=\"stroke:#000000; stroke-width:2; stroke-opacity:0.1; fill:none\" points=\"\n",
       "  174.775,815.838 2321.26,815.838 \n",
       "  \"/>\n",
       "<polyline clip-path=\"url(#clip7503)\" style=\"stroke:#000000; stroke-width:2; stroke-opacity:0.1; fill:none\" points=\"\n",
       "  174.775,452.148 2321.26,452.148 \n",
       "  \"/>\n",
       "<polyline clip-path=\"url(#clip7503)\" style=\"stroke:#000000; stroke-width:2; stroke-opacity:0.1; fill:none\" points=\"\n",
       "  174.775,88.4582 2321.26,88.4582 \n",
       "  \"/>\n",
       "<polyline clip-path=\"url(#clip7501)\" style=\"stroke:#000000; stroke-width:4; stroke-opacity:1; fill:none\" points=\"\n",
       "  174.775,1503.47 2321.26,1503.47 \n",
       "  \"/>\n",
       "<polyline clip-path=\"url(#clip7501)\" style=\"stroke:#000000; stroke-width:4; stroke-opacity:1; fill:none\" points=\"\n",
       "  174.775,1503.47 174.775,47.2441 \n",
       "  \"/>\n",
       "<polyline clip-path=\"url(#clip7501)\" style=\"stroke:#000000; stroke-width:4; stroke-opacity:1; fill:none\" points=\"\n",
       "  235.525,1503.47 235.525,1481.63 \n",
       "  \"/>\n",
       "<polyline clip-path=\"url(#clip7501)\" style=\"stroke:#000000; stroke-width:4; stroke-opacity:1; fill:none\" points=\"\n",
       "  741.771,1503.47 741.771,1481.63 \n",
       "  \"/>\n",
       "<polyline clip-path=\"url(#clip7501)\" style=\"stroke:#000000; stroke-width:4; stroke-opacity:1; fill:none\" points=\"\n",
       "  1248.02,1503.47 1248.02,1481.63 \n",
       "  \"/>\n",
       "<polyline clip-path=\"url(#clip7501)\" style=\"stroke:#000000; stroke-width:4; stroke-opacity:1; fill:none\" points=\"\n",
       "  1754.26,1503.47 1754.26,1481.63 \n",
       "  \"/>\n",
       "<polyline clip-path=\"url(#clip7501)\" style=\"stroke:#000000; stroke-width:4; stroke-opacity:1; fill:none\" points=\"\n",
       "  2260.51,1503.47 2260.51,1481.63 \n",
       "  \"/>\n",
       "<polyline clip-path=\"url(#clip7501)\" style=\"stroke:#000000; stroke-width:4; stroke-opacity:1; fill:none\" points=\"\n",
       "  174.775,1179.53 206.972,1179.53 \n",
       "  \"/>\n",
       "<polyline clip-path=\"url(#clip7501)\" style=\"stroke:#000000; stroke-width:4; stroke-opacity:1; fill:none\" points=\"\n",
       "  174.775,815.838 206.972,815.838 \n",
       "  \"/>\n",
       "<polyline clip-path=\"url(#clip7501)\" style=\"stroke:#000000; stroke-width:4; stroke-opacity:1; fill:none\" points=\"\n",
       "  174.775,452.148 206.972,452.148 \n",
       "  \"/>\n",
       "<polyline clip-path=\"url(#clip7501)\" style=\"stroke:#000000; stroke-width:4; stroke-opacity:1; fill:none\" points=\"\n",
       "  174.775,88.4582 206.972,88.4582 \n",
       "  \"/>\n",
       "<g clip-path=\"url(#clip7501)\">\n",
       "<text style=\"fill:#000000; fill-opacity:1; font-family:Arial,Helvetica Neue,Helvetica,sans-serif; font-size:48px; text-anchor:middle;\" transform=\"rotate(0, 235.525, 1557.47)\" x=\"235.525\" y=\"1557.47\">0.8</text>\n",
       "</g>\n",
       "<g clip-path=\"url(#clip7501)\">\n",
       "<text style=\"fill:#000000; fill-opacity:1; font-family:Arial,Helvetica Neue,Helvetica,sans-serif; font-size:48px; text-anchor:middle;\" transform=\"rotate(0, 741.771, 1557.47)\" x=\"741.771\" y=\"1557.47\">0.9</text>\n",
       "</g>\n",
       "<g clip-path=\"url(#clip7501)\">\n",
       "<text style=\"fill:#000000; fill-opacity:1; font-family:Arial,Helvetica Neue,Helvetica,sans-serif; font-size:48px; text-anchor:middle;\" transform=\"rotate(0, 1248.02, 1557.47)\" x=\"1248.02\" y=\"1557.47\">1.0</text>\n",
       "</g>\n",
       "<g clip-path=\"url(#clip7501)\">\n",
       "<text style=\"fill:#000000; fill-opacity:1; font-family:Arial,Helvetica Neue,Helvetica,sans-serif; font-size:48px; text-anchor:middle;\" transform=\"rotate(0, 1754.26, 1557.47)\" x=\"1754.26\" y=\"1557.47\">1.1</text>\n",
       "</g>\n",
       "<g clip-path=\"url(#clip7501)\">\n",
       "<text style=\"fill:#000000; fill-opacity:1; font-family:Arial,Helvetica Neue,Helvetica,sans-serif; font-size:48px; text-anchor:middle;\" transform=\"rotate(0, 2260.51, 1557.47)\" x=\"2260.51\" y=\"1557.47\">1.2</text>\n",
       "</g>\n",
       "<g clip-path=\"url(#clip7501)\">\n",
       "<text style=\"fill:#000000; fill-opacity:1; font-family:Arial,Helvetica Neue,Helvetica,sans-serif; font-size:48px; text-anchor:end;\" transform=\"rotate(0, 150.775, 1197.03)\" x=\"150.775\" y=\"1197.03\">50</text>\n",
       "</g>\n",
       "<g clip-path=\"url(#clip7501)\">\n",
       "<text style=\"fill:#000000; fill-opacity:1; font-family:Arial,Helvetica Neue,Helvetica,sans-serif; font-size:48px; text-anchor:end;\" transform=\"rotate(0, 150.775, 833.338)\" x=\"150.775\" y=\"833.338\">100</text>\n",
       "</g>\n",
       "<g clip-path=\"url(#clip7501)\">\n",
       "<text style=\"fill:#000000; fill-opacity:1; font-family:Arial,Helvetica Neue,Helvetica,sans-serif; font-size:48px; text-anchor:end;\" transform=\"rotate(0, 150.775, 469.648)\" x=\"150.775\" y=\"469.648\">150</text>\n",
       "</g>\n",
       "<g clip-path=\"url(#clip7501)\">\n",
       "<text style=\"fill:#000000; fill-opacity:1; font-family:Arial,Helvetica Neue,Helvetica,sans-serif; font-size:48px; text-anchor:end;\" transform=\"rotate(0, 150.775, 105.958)\" x=\"150.775\" y=\"105.958\">200</text>\n",
       "</g>\n",
       "<circle clip-path=\"url(#clip7503)\" style=\"fill:#000000; stroke:none; fill-opacity:1\" cx=\"235.525\" cy=\"1462.26\" r=\"18\"/>\n",
       "<circle clip-path=\"url(#clip7503)\" style=\"fill:#009af9; stroke:none; fill-opacity:1\" cx=\"235.525\" cy=\"1462.26\" r=\"14\"/>\n",
       "<circle clip-path=\"url(#clip7503)\" style=\"fill:#000000; stroke:none; fill-opacity:1\" cx=\"1248.02\" cy=\"767.322\" r=\"18\"/>\n",
       "<circle clip-path=\"url(#clip7503)\" style=\"fill:#009af9; stroke:none; fill-opacity:1\" cx=\"1248.02\" cy=\"767.322\" r=\"14\"/>\n",
       "<circle clip-path=\"url(#clip7503)\" style=\"fill:#000000; stroke:none; fill-opacity:1\" cx=\"2260.51\" cy=\"88.4582\" r=\"18\"/>\n",
       "<circle clip-path=\"url(#clip7503)\" style=\"fill:#009af9; stroke:none; fill-opacity:1\" cx=\"2260.51\" cy=\"88.4582\" r=\"14\"/>\n",
       "<polygon clip-path=\"url(#clip7501)\" points=\"\n",
       "1958.43,251.724 2249.26,251.724 2249.26,130.764 1958.43,130.764 \n",
       "  \" fill=\"#ffffff\" fill-rule=\"evenodd\" fill-opacity=\"1\"/>\n",
       "<polyline clip-path=\"url(#clip7501)\" style=\"stroke:#000000; stroke-width:4; stroke-opacity:1; fill:none\" points=\"\n",
       "  1958.43,251.724 2249.26,251.724 2249.26,130.764 1958.43,130.764 1958.43,251.724 \n",
       "  \"/>\n",
       "<circle clip-path=\"url(#clip7501)\" style=\"fill:#000000; stroke:none; fill-opacity:1\" cx=\"2066.43\" cy=\"191.244\" r=\"25\"/>\n",
       "<circle clip-path=\"url(#clip7501)\" style=\"fill:#009af9; stroke:none; fill-opacity:1\" cx=\"2066.43\" cy=\"191.244\" r=\"21\"/>\n",
       "<g clip-path=\"url(#clip7501)\">\n",
       "<text style=\"fill:#000000; fill-opacity:1; font-family:Arial,Helvetica Neue,Helvetica,sans-serif; font-size:48px; text-anchor:start;\" transform=\"rotate(0, 2150.43, 208.744)\" x=\"2150.43\" y=\"208.744\">y1</text>\n",
       "</g>\n",
       "</svg>\n"
      ]
     },
     "execution_count": 294,
     "metadata": {},
     "output_type": "execute_result"
    }
   ],
   "source": [
    "using Statistics\n",
    "function fpt(n, tmax, a, alpha, o)\n",
    "    T = fill(tmax, n)\n",
    "    for i in 1: n\n",
    "        x = zeros(tmax)\n",
    "        x[1] = 1\n",
    "        e = randn(tmax)\n",
    "        for j in 1:tmax - 1\n",
    "            x[j + 1] = alpha * x[j] + o * e[j]\n",
    "            if x[j + 1] < a\n",
    "                T[i] = j\n",
    "                break\n",
    "            end\n",
    "        end\n",
    "    end\n",
    "    return T\n",
    "end\n",
    "a = 0\n",
    "tmax = 200\n",
    "n = 100\n",
    "histogram(fpt(n, tmax, a, 1, 0.2))\n",
    "m = [mean(fpt(n, tmax, a, 0.8, 0.2)), mean(fpt(n, tmax, a, 1, 0.2)), mean(fpt(n, tmax, a, 1.2, 0.2))]\n",
    "scatter([0.8, 1, 1.2], m)\n",
    "#I didn't really understand what you meant with plot the mean"
   ]
  },
  {
   "cell_type": "markdown",
   "metadata": {
    "slideshow": {
     "slide_type": "subslide"
    }
   },
   "source": [
    "### Exercise 8(a)\n",
    "\n",
    "This exercise is more challenging\n",
    "\n",
    "The root of a univariate function $ f(\\cdot) $ is an $ x $ such that $ f(x) = 0 $\n",
    "\n",
    "One solution method to find local roots of smooth functions is called Newton’s method\n",
    "\n",
    "Starting with an $ x_0 $ guess, a function $ f(\\cdot) $ and the first-derivative $ f'(\\cdot) $, the algorithm is to repeat\n",
    "\n",
    "$$\n",
    "x^{n+1} = x^n - \\frac{f(x^n)}{f'(x^n)}\n",
    "$$\n",
    "\n",
    "until $ | x^{n+1} - x^n| $ is below a tolerance\n",
    "\n",
    "1. Use a variation of the `fixedpointmap` code to implement Newton’s method, where the function would accept arguments `f, f_prime, x_0, tolerance, maxiter`  \n",
    "1. Test it with $ f(x) = (x-1)^3 $ and another function of your choice where you can analytically find the derivative  "
   ]
  },
  {
   "cell_type": "code",
   "execution_count": 2,
   "metadata": {},
   "outputs": [
    {
     "data": {
      "text/plain": [
       "newton (generic function with 1 method)"
      ]
     },
     "execution_count": 2,
     "metadata": {},
     "output_type": "execute_result"
    }
   ],
   "source": [
    "function newton(f, f_prime, x_0, tolerance, maxiter)\n",
    "    i = 0\n",
    "    tol = Inf\n",
    "    x_old = x_0\n",
    "    while i <= maxiter && tol > tolerance\n",
    "        x_new = x_old - f(x_old) / f_prime(x_old)\n",
    "        tol = abs(x_new - x_old)\n",
    "        x_old = x_new\n",
    "        i += 1\n",
    "    end\n",
    "    if i >= maxiter\n",
    "            println(\"No convergence: reached max iteration\")\n",
    "    end\n",
    "    return x_old\n",
    "end\n"
   ]
  },
  {
   "cell_type": "code",
   "execution_count": 3,
   "metadata": {},
   "outputs": [
    {
     "name": "stdout",
     "output_type": "stream",
     "text": [
      "0.009765625\n",
      "1.013701949563127\n"
     ]
    }
   ],
   "source": [
    "f = x-> x^2\n",
    "f_prime = x-> 2 * x\n",
    "println(newton(f, f_prime, 10, 0.01, 1000))\n",
    "\n",
    "f = x->(x - 1)^3\n",
    "f_prime = x->3 * (x - 1)^2\n",
    "println(newton(f, f_prime, 10, 0.01, 1000))"
   ]
  },
  {
   "cell_type": "markdown",
   "metadata": {
    "slideshow": {
     "slide_type": "subslide"
    }
   },
   "source": [
    "### Exercise 8(b)\n",
    "\n",
    "For those impatient to use more advanced features of Julia, implement a version of Exercise 8(a) where `f_prime` is calculated with auto-differentiation"
   ]
  },
  {
   "cell_type": "code",
   "execution_count": 369,
   "metadata": {
    "hide-output": false,
    "slideshow": {
     "slide_type": "subslide"
    }
   },
   "outputs": [
    {
     "ename": "ErrorException",
     "evalue": "cannot define function f; it already has a value",
     "output_type": "error",
     "traceback": [
      "cannot define function f; it already has a value",
      "",
      "Stacktrace:",
      " [1] top-level scope at In[369]:5"
     ]
    }
   ],
   "source": [
    "using ForwardDiff\n",
    "\n",
    "# operator to get the derivative of this function using AD\n",
    "D(f) = x -> ForwardDiff.derivative(f, x)\n",
    "\n",
    "# example usage: create a function and get the derivative\n",
    "f(x) = x^2\n",
    "f_prime = D(f)\n",
    "\n",
    "f(0.1), f_prime(0.1)"
   ]
  },
  {
   "cell_type": "code",
   "execution_count": 371,
   "metadata": {},
   "outputs": [
    {
     "data": {
      "text/plain": [
       "newton2 (generic function with 1 method)"
      ]
     },
     "execution_count": 371,
     "metadata": {},
     "output_type": "execute_result"
    }
   ],
   "source": [
    "function newton2(f, x_0, tolerance, maxiter)\n",
    "    i = 0\n",
    "    tol = Inf\n",
    "    x_old = x_0\n",
    "    D(f) = x -> ForwardDiff.derivative(f, x)\n",
    "    f_prime = D(f)\n",
    "    while i <= maxiter && tol > tolerance\n",
    "        x_new = x_old - f(x_old) / f_prime(x_old)\n",
    "        tol = abs(x_new - x_old)\n",
    "        x_old = x_new\n",
    "        i += 1\n",
    "    end\n",
    "    if i >= maxiter\n",
    "            println(\"No convergence: reached max iteration\")\n",
    "    end\n",
    "    return x_old\n",
    "end"
   ]
  },
  {
   "cell_type": "code",
   "execution_count": 373,
   "metadata": {},
   "outputs": [
    {
     "name": "stdout",
     "output_type": "stream",
     "text": [
      "0.009765625\n",
      "1.013701949563127\n"
     ]
    }
   ],
   "source": [
    "f = x-> x^2\n",
    "println(newton2(f, 10, 0.01, 1000))\n",
    "\n",
    "f = x->(x - 1)^3\n",
    "println(newton2(f, 10, 0.01, 1000))"
   ]
  },
  {
   "cell_type": "markdown",
   "metadata": {
    "slideshow": {
     "slide_type": "subslide"
    }
   },
   "source": [
    "1. Using the `D(f)` operator definition above, implement a version of Newton’s method that does not require the user to provide an analytical derivative  \n",
    "1. Test the sorts of `f` functions which can be automatically integrated by `ForwardDff.jl`  "
   ]
  }
 ],
 "metadata": {
  "celltoolbar": "Slideshow",
  "filename": "julia_by_example.rst",
  "kernelspec": {
   "display_name": "Julia 1.1.0",
   "language": "julia",
   "name": "julia-1.1"
  },
  "language_info": {
   "file_extension": ".jl",
   "mimetype": "application/julia",
   "name": "julia",
   "version": "1.1.0"
  },
  "title": "Introductory Examples"
 },
 "nbformat": 4,
 "nbformat_minor": 2
}
