{
 "cells": [
  {
   "cell_type": "markdown",
   "metadata": {
    "slideshow": {
     "slide_type": "subslide"
    }
   },
   "source": [
    "### Exercise 1\n",
    "\n",
    "Recall that $ n! $ is read as “$ n $ factorial” and defined as\n",
    "$ n! = n \\times (n - 1) \\times \\cdots \\times 2 \\times 1 $\n",
    "\n",
    "In Julia you can compute this value with `factorial(n)`\n",
    "\n",
    "Write your own version of this function, called `factorial2`, using a `for` loop\n",
    "\n",
    "\n",
    "<a id='jbe-ex2'></a>"
   ]
  },
  {
   "cell_type": "code",
   "execution_count": 3,
   "metadata": {},
   "outputs": [
    {
     "data": {
      "text/plain": [
       "factorial2 (generic function with 1 method)"
      ]
     },
     "execution_count": 3,
     "metadata": {},
     "output_type": "execute_result"
    }
   ],
   "source": [
    "function factorial2(n)\n",
    "    y = 1\n",
    "    for i in 1:n\n",
    "       y = y * i\n",
    "    end\n",
    "    return y\n",
    "end\n",
    "\n",
    "        \n",
    "    "
   ]
  },
  {
   "cell_type": "code",
   "execution_count": 6,
   "metadata": {
    "slideshow": {
     "slide_type": "slide"
    }
   },
   "outputs": [
    {
     "data": {
      "text/plain": [
       "120"
      ]
     },
     "execution_count": 6,
     "metadata": {},
     "output_type": "execute_result"
    }
   ],
   "source": [
    "factorial2(5) #check with test values"
   ]
  },
  {
   "cell_type": "markdown",
   "metadata": {
    "slideshow": {
     "slide_type": "subslide"
    }
   },
   "source": [
    "### Exercise 2\n",
    "\n",
    "The [binomial random variable](https://en.wikipedia.org/wiki/Binomial_distribution) $ Y \\sim Bin(n, p) $ represents\n",
    "\n",
    "- number of successes in $ n $ binary trials  \n",
    "- each trial succeeds with probability $ p $  \n",
    "\n",
    "\n",
    "Using only `rand()` from the set of Julia’s built-in random number\n",
    "generators (not the `Distributions` package), write a function `binomial_rv` such that `binomial_rv(n, p)` generates one draw of $ Y $\n",
    "\n",
    "Hint: If $ U $ is uniform on $ (0, 1) $ and $ p \\in (0,1) $, then the expression `U < p` evaluates to `true` with probability $ p $\n",
    "\n",
    "\n",
    "<a id='jbe-ex3'></a>"
   ]
  },
  {
   "cell_type": "code",
   "execution_count": 177,
   "metadata": {},
   "outputs": [
    {
     "data": {
      "text/plain": [
       "binomial_rv (generic function with 1 method)"
      ]
     },
     "execution_count": 177,
     "metadata": {},
     "output_type": "execute_result"
    }
   ],
   "source": [
    "function binomial_rv(n, p)\n",
    "    U = rand(n) \n",
    "    x = zeros(n)\n",
    "    for i in 1:n\n",
    "        if U[i] < p # Using the hint, define a successful trial\n",
    "            x[i] = 1\n",
    "        else\n",
    "            x[i] = 0\n",
    "        end\n",
    "    end\n",
    "    y = sum(x) # Returns the number of successes, i.e. one realization of the random variable\n",
    "    return (y, x)\n",
    "end"
   ]
  },
  {
   "cell_type": "code",
   "execution_count": 109,
   "metadata": {},
   "outputs": [
    {
     "data": {
      "text/plain": [
       "(y = 8.0, x = [0.0, 1.0, 1.0, 0.0, 0.0, 0.0, 0.0, 0.0, 1.0, 0.0, 1.0, 0.0, 0.0, 1.0, 0.0, 0.0, 1.0, 1.0, 1.0, 0.0])"
      ]
     },
     "execution_count": 109,
     "metadata": {},
     "output_type": "execute_result"
    }
   ],
   "source": [
    "binomial_rv(20, 0.4)"
   ]
  },
  {
   "cell_type": "markdown",
   "metadata": {
    "slideshow": {
     "slide_type": "subslide"
    }
   },
   "source": [
    "### Exercise 3\n",
    "\n",
    "Compute an approximation to $ \\pi $ using Monte Carlo\n",
    "\n",
    "For random number generation use only `rand()`\n",
    "\n",
    "Your hints are as follows:\n",
    "\n",
    "- If $ U $ is a bivariate uniform random variable on the unit square $ (0, 1)^2 $, then the probability that $ U $ lies in a subset $ B $ of $ (0,1)^2 $ is equal to the area of $ B $  \n",
    "- If $ U_1,\\ldots,U_n $ are iid copies of $ U $, then, as $ n $ gets larger, the fraction that falls in $ B $ converges to the probability of landing in $ B $  \n",
    "- For a circle, area = π * $ radius^2 $  \n",
    "\n",
    "\n",
    "\n",
    "<a id='jbe-ex4'></a>"
   ]
  },
  {
   "cell_type": "code",
   "execution_count": 258,
   "metadata": {},
   "outputs": [
    {
     "data": {
      "text/plain": [
       "pi_simul (generic function with 1 method)"
      ]
     },
     "execution_count": 258,
     "metadata": {},
     "output_type": "execute_result"
    }
   ],
   "source": [
    "function pi_simul(n)\n",
    "    \n",
    "x = rand(n)\n",
    "y = rand(n)\n",
    "\n",
    "sum = 0\n",
    "for i in 1:n\n",
    "    if x[i]^2 + y[i]^2 <= 1\n",
    "        sum += 1\n",
    "        else nothing\n",
    "    end\n",
    "end\n",
    "    return (sum * 4)/n\n",
    "end\n"
   ]
  },
  {
   "cell_type": "code",
   "execution_count": 264,
   "metadata": {},
   "outputs": [
    {
     "data": {
      "text/plain": [
       "3.1596"
      ]
     },
     "execution_count": 264,
     "metadata": {},
     "output_type": "execute_result"
    }
   ],
   "source": [
    "pi_simul(10000)"
   ]
  },
  {
   "cell_type": "markdown",
   "metadata": {
    "slideshow": {
     "slide_type": "subslide"
    }
   },
   "source": [
    "### Exercise 4\n",
    "\n",
    "Write a program that prints one realization of the following random device:\n",
    "\n",
    "- Flip an unbiased coin 10 times  \n",
    "- If 3 consecutive heads occur one or more times within this sequence, pay one dollar  \n",
    "- If not, pay nothing  \n",
    "\n",
    "\n",
    "Once again use only `rand()` as your random number generator\n",
    "\n",
    "\n",
    "<a id='jbe-ex5'></a>"
   ]
  },
  {
   "cell_type": "code",
   "execution_count": 216,
   "metadata": {},
   "outputs": [
    {
     "data": {
      "text/plain": [
       "cointoss (generic function with 2 methods)"
      ]
     },
     "execution_count": 216,
     "metadata": {},
     "output_type": "execute_result"
    }
   ],
   "source": [
    "function cointoss(n)\n",
    "y = binomial_rv(n, 0.5)\n",
    "r = y[2]\n",
    "pay = zeros(n-2) # Three consecutive heads can occur a maximum 8 times, e.g. (1,2,3); (2,3,4); (7,8,9). \n",
    "for i in 1:n-2\n",
    "    if r[i] == 1 && r[i+1] == 1 && r[i+2] == 1 \n",
    "        pay[i] = 1\n",
    "    else\n",
    "        pay[i] = 0\n",
    "    end\n",
    "end\n",
    "return (to_pay = sum(pay), r = r)\n",
    "end"
   ]
  },
  {
   "cell_type": "code",
   "execution_count": 217,
   "metadata": {},
   "outputs": [
    {
     "data": {
      "text/plain": [
       "(to_pay = 2.0, r = [1.0, 1.0, 1.0, 1.0, 0.0, 0.0, 1.0, 1.0, 0.0, 1.0])"
      ]
     },
     "execution_count": 217,
     "metadata": {},
     "output_type": "execute_result"
    }
   ],
   "source": [
    "cointoss(10)"
   ]
  },
  {
   "cell_type": "markdown",
   "metadata": {
    "slideshow": {
     "slide_type": "subslide"
    }
   },
   "source": [
    "### Exercise 5\n",
    "\n",
    "Simulate and plot the correlated time series\n",
    "\n",
    "$$\n",
    "x_{t+1} = \\alpha \\, x_t + \\epsilon_{t+1}\n",
    "\\quad \\text{where} \\quad\n",
    "x_0 = 0\n",
    "\\quad \\text{and} \\quad t = 0,\\ldots,n\n",
    "$$\n",
    "\n",
    "The sequence of shocks $ \\{\\epsilon_t\\} $ is assumed to be iid and standard normal\n",
    "\n",
    "Set $ n = 200 $ and $ \\alpha = 0.9 $\n",
    "\n",
    "\n",
    "<a id='jbe-ex6'></a>"
   ]
  },
  {
   "cell_type": "code",
   "execution_count": 240,
   "metadata": {},
   "outputs": [
    {
     "data": {
      "text/plain": [
       "ar1 (generic function with 1 method)"
      ]
     },
     "execution_count": 240,
     "metadata": {},
     "output_type": "execute_result"
    }
   ],
   "source": [
    "using Plots\n",
    "\n",
    "function ar1(n, α)\n",
    "ϵ = randn(n)\n",
    "x = zeros(n)\n",
    "    for i in 1:n-1\n",
    "        x[i+1] = α * x[i] + ϵ[i]\n",
    "    end\n",
    "    return x\n",
    "end"
   ]
  },
  {
   "cell_type": "code",
   "execution_count": 245,
   "metadata": {},
   "outputs": [
    {
     "data": {
      "image/svg+xml": [
       "<?xml version=\"1.0\" encoding=\"utf-8\"?>\n",
       "<svg xmlns=\"http://www.w3.org/2000/svg\" xmlns:xlink=\"http://www.w3.org/1999/xlink\" width=\"600\" height=\"400\" viewBox=\"0 0 2400 1600\">\n",
       "<defs>\n",
       "  <clipPath id=\"clip0800\">\n",
       "    <rect x=\"0\" y=\"0\" width=\"2000\" height=\"2000\"/>\n",
       "  </clipPath>\n",
       "</defs>\n",
       "<defs>\n",
       "  <clipPath id=\"clip0801\">\n",
       "    <rect x=\"0\" y=\"0\" width=\"2400\" height=\"1600\"/>\n",
       "  </clipPath>\n",
       "</defs>\n",
       "<polygon clip-path=\"url(#clip0801)\" points=\"\n",
       "0,1600 2400,1600 2400,0 0,0 \n",
       "  \" fill=\"#ffffff\" fill-rule=\"evenodd\" fill-opacity=\"1\"/>\n",
       "<defs>\n",
       "  <clipPath id=\"clip0802\">\n",
       "    <rect x=\"480\" y=\"0\" width=\"1681\" height=\"1600\"/>\n",
       "  </clipPath>\n",
       "</defs>\n",
       "<polygon clip-path=\"url(#clip0801)\" points=\"\n",
       "149.361,1503.47 2321.26,1503.47 2321.26,47.2441 149.361,47.2441 \n",
       "  \" fill=\"#ffffff\" fill-rule=\"evenodd\" fill-opacity=\"1\"/>\n",
       "<defs>\n",
       "  <clipPath id=\"clip0803\">\n",
       "    <rect x=\"149\" y=\"47\" width=\"2173\" height=\"1457\"/>\n",
       "  </clipPath>\n",
       "</defs>\n",
       "<polyline clip-path=\"url(#clip0803)\" style=\"stroke:#000000; stroke-width:2; stroke-opacity:0.1; fill:none\" points=\"\n",
       "  200.533,1503.47 200.533,47.2441 \n",
       "  \"/>\n",
       "<polyline clip-path=\"url(#clip0803)\" style=\"stroke:#000000; stroke-width:2; stroke-opacity:0.1; fill:none\" points=\"\n",
       "  715.348,1503.47 715.348,47.2441 \n",
       "  \"/>\n",
       "<polyline clip-path=\"url(#clip0803)\" style=\"stroke:#000000; stroke-width:2; stroke-opacity:0.1; fill:none\" points=\"\n",
       "  1230.16,1503.47 1230.16,47.2441 \n",
       "  \"/>\n",
       "<polyline clip-path=\"url(#clip0803)\" style=\"stroke:#000000; stroke-width:2; stroke-opacity:0.1; fill:none\" points=\"\n",
       "  1744.98,1503.47 1744.98,47.2441 \n",
       "  \"/>\n",
       "<polyline clip-path=\"url(#clip0803)\" style=\"stroke:#000000; stroke-width:2; stroke-opacity:0.1; fill:none\" points=\"\n",
       "  2259.79,1503.47 2259.79,47.2441 \n",
       "  \"/>\n",
       "<polyline clip-path=\"url(#clip0803)\" style=\"stroke:#000000; stroke-width:2; stroke-opacity:0.1; fill:none\" points=\"\n",
       "  149.361,1434.25 2321.26,1434.25 \n",
       "  \"/>\n",
       "<polyline clip-path=\"url(#clip0803)\" style=\"stroke:#000000; stroke-width:2; stroke-opacity:0.1; fill:none\" points=\"\n",
       "  149.361,1136.95 2321.26,1136.95 \n",
       "  \"/>\n",
       "<polyline clip-path=\"url(#clip0803)\" style=\"stroke:#000000; stroke-width:2; stroke-opacity:0.1; fill:none\" points=\"\n",
       "  149.361,839.642 2321.26,839.642 \n",
       "  \"/>\n",
       "<polyline clip-path=\"url(#clip0803)\" style=\"stroke:#000000; stroke-width:2; stroke-opacity:0.1; fill:none\" points=\"\n",
       "  149.361,542.336 2321.26,542.336 \n",
       "  \"/>\n",
       "<polyline clip-path=\"url(#clip0803)\" style=\"stroke:#000000; stroke-width:2; stroke-opacity:0.1; fill:none\" points=\"\n",
       "  149.361,245.03 2321.26,245.03 \n",
       "  \"/>\n",
       "<polyline clip-path=\"url(#clip0801)\" style=\"stroke:#000000; stroke-width:4; stroke-opacity:1; fill:none\" points=\"\n",
       "  149.361,1503.47 2321.26,1503.47 \n",
       "  \"/>\n",
       "<polyline clip-path=\"url(#clip0801)\" style=\"stroke:#000000; stroke-width:4; stroke-opacity:1; fill:none\" points=\"\n",
       "  149.361,1503.47 149.361,47.2441 \n",
       "  \"/>\n",
       "<polyline clip-path=\"url(#clip0801)\" style=\"stroke:#000000; stroke-width:4; stroke-opacity:1; fill:none\" points=\"\n",
       "  200.533,1503.47 200.533,1481.63 \n",
       "  \"/>\n",
       "<polyline clip-path=\"url(#clip0801)\" style=\"stroke:#000000; stroke-width:4; stroke-opacity:1; fill:none\" points=\"\n",
       "  715.348,1503.47 715.348,1481.63 \n",
       "  \"/>\n",
       "<polyline clip-path=\"url(#clip0801)\" style=\"stroke:#000000; stroke-width:4; stroke-opacity:1; fill:none\" points=\"\n",
       "  1230.16,1503.47 1230.16,1481.63 \n",
       "  \"/>\n",
       "<polyline clip-path=\"url(#clip0801)\" style=\"stroke:#000000; stroke-width:4; stroke-opacity:1; fill:none\" points=\"\n",
       "  1744.98,1503.47 1744.98,1481.63 \n",
       "  \"/>\n",
       "<polyline clip-path=\"url(#clip0801)\" style=\"stroke:#000000; stroke-width:4; stroke-opacity:1; fill:none\" points=\"\n",
       "  2259.79,1503.47 2259.79,1481.63 \n",
       "  \"/>\n",
       "<polyline clip-path=\"url(#clip0801)\" style=\"stroke:#000000; stroke-width:4; stroke-opacity:1; fill:none\" points=\"\n",
       "  149.361,1434.25 181.939,1434.25 \n",
       "  \"/>\n",
       "<polyline clip-path=\"url(#clip0801)\" style=\"stroke:#000000; stroke-width:4; stroke-opacity:1; fill:none\" points=\"\n",
       "  149.361,1136.95 181.939,1136.95 \n",
       "  \"/>\n",
       "<polyline clip-path=\"url(#clip0801)\" style=\"stroke:#000000; stroke-width:4; stroke-opacity:1; fill:none\" points=\"\n",
       "  149.361,839.642 181.939,839.642 \n",
       "  \"/>\n",
       "<polyline clip-path=\"url(#clip0801)\" style=\"stroke:#000000; stroke-width:4; stroke-opacity:1; fill:none\" points=\"\n",
       "  149.361,542.336 181.939,542.336 \n",
       "  \"/>\n",
       "<polyline clip-path=\"url(#clip0801)\" style=\"stroke:#000000; stroke-width:4; stroke-opacity:1; fill:none\" points=\"\n",
       "  149.361,245.03 181.939,245.03 \n",
       "  \"/>\n",
       "<g clip-path=\"url(#clip0801)\">\n",
       "<text style=\"fill:#000000; fill-opacity:1; font-family:Arial,Helvetica Neue,Helvetica,sans-serif; font-size:48px; text-anchor:middle;\" transform=\"rotate(0, 200.533, 1557.47)\" x=\"200.533\" y=\"1557.47\">0</text>\n",
       "</g>\n",
       "<g clip-path=\"url(#clip0801)\">\n",
       "<text style=\"fill:#000000; fill-opacity:1; font-family:Arial,Helvetica Neue,Helvetica,sans-serif; font-size:48px; text-anchor:middle;\" transform=\"rotate(0, 715.348, 1557.47)\" x=\"715.348\" y=\"1557.47\">50</text>\n",
       "</g>\n",
       "<g clip-path=\"url(#clip0801)\">\n",
       "<text style=\"fill:#000000; fill-opacity:1; font-family:Arial,Helvetica Neue,Helvetica,sans-serif; font-size:48px; text-anchor:middle;\" transform=\"rotate(0, 1230.16, 1557.47)\" x=\"1230.16\" y=\"1557.47\">100</text>\n",
       "</g>\n",
       "<g clip-path=\"url(#clip0801)\">\n",
       "<text style=\"fill:#000000; fill-opacity:1; font-family:Arial,Helvetica Neue,Helvetica,sans-serif; font-size:48px; text-anchor:middle;\" transform=\"rotate(0, 1744.98, 1557.47)\" x=\"1744.98\" y=\"1557.47\">150</text>\n",
       "</g>\n",
       "<g clip-path=\"url(#clip0801)\">\n",
       "<text style=\"fill:#000000; fill-opacity:1; font-family:Arial,Helvetica Neue,Helvetica,sans-serif; font-size:48px; text-anchor:middle;\" transform=\"rotate(0, 2259.79, 1557.47)\" x=\"2259.79\" y=\"1557.47\">200</text>\n",
       "</g>\n",
       "<g clip-path=\"url(#clip0801)\">\n",
       "<text style=\"fill:#000000; fill-opacity:1; font-family:Arial,Helvetica Neue,Helvetica,sans-serif; font-size:48px; text-anchor:end;\" transform=\"rotate(0, 125.361, 1451.75)\" x=\"125.361\" y=\"1451.75\">-4</text>\n",
       "</g>\n",
       "<g clip-path=\"url(#clip0801)\">\n",
       "<text style=\"fill:#000000; fill-opacity:1; font-family:Arial,Helvetica Neue,Helvetica,sans-serif; font-size:48px; text-anchor:end;\" transform=\"rotate(0, 125.361, 1154.45)\" x=\"125.361\" y=\"1154.45\">-2</text>\n",
       "</g>\n",
       "<g clip-path=\"url(#clip0801)\">\n",
       "<text style=\"fill:#000000; fill-opacity:1; font-family:Arial,Helvetica Neue,Helvetica,sans-serif; font-size:48px; text-anchor:end;\" transform=\"rotate(0, 125.361, 857.142)\" x=\"125.361\" y=\"857.142\">0</text>\n",
       "</g>\n",
       "<g clip-path=\"url(#clip0801)\">\n",
       "<text style=\"fill:#000000; fill-opacity:1; font-family:Arial,Helvetica Neue,Helvetica,sans-serif; font-size:48px; text-anchor:end;\" transform=\"rotate(0, 125.361, 559.836)\" x=\"125.361\" y=\"559.836\">2</text>\n",
       "</g>\n",
       "<g clip-path=\"url(#clip0801)\">\n",
       "<text style=\"fill:#000000; fill-opacity:1; font-family:Arial,Helvetica Neue,Helvetica,sans-serif; font-size:48px; text-anchor:end;\" transform=\"rotate(0, 125.361, 262.53)\" x=\"125.361\" y=\"262.53\">4</text>\n",
       "</g>\n",
       "<polyline clip-path=\"url(#clip0803)\" style=\"stroke:#009af9; stroke-width:4; stroke-opacity:1; fill:none\" points=\"\n",
       "  210.829,839.642 221.126,873.273 231.422,749.907 241.718,789.885 252.015,920.68 262.311,938.337 272.607,842.336 282.903,631.061 293.2,699.798 303.496,697.441 \n",
       "  313.792,795.222 324.089,502.358 334.385,681.523 344.681,680.567 354.978,561.028 365.274,751.934 375.57,539.238 385.866,262.629 396.163,318.237 406.459,303.019 \n",
       "  416.755,449.019 427.052,566.479 437.348,575.631 447.644,592.187 457.94,673.461 468.237,774.673 478.533,709.943 488.829,708.39 499.126,433.441 509.422,460.5 \n",
       "  519.718,494.309 530.014,688.817 540.311,688.818 550.607,852.582 560.903,963.433 571.2,1061.78 581.496,1043.79 591.792,1193.7 602.088,1032.71 612.385,1192.96 \n",
       "  622.681,1047.44 632.977,1297.19 643.274,1008.22 653.57,1067.62 663.866,1023.78 674.162,1061.71 684.459,1061.97 694.755,1265.1 705.051,1257.96 715.348,1253.67 \n",
       "  725.644,1055.4 735.94,1057.14 746.236,960.222 756.533,1050.31 766.829,1130.03 777.125,938.016 787.422,732.953 797.718,855.999 808.014,1057.82 818.311,930.621 \n",
       "  828.607,679.121 838.903,738.2 849.199,868.535 859.496,966.063 869.792,988.612 880.088,1076.19 890.385,1050.47 900.681,1026.11 910.977,1042.84 921.273,1166.44 \n",
       "  931.57,803.134 941.866,867.891 952.162,947.715 962.459,861.533 972.755,1088.4 983.051,1313.93 993.347,1307.68 1003.64,1065.87 1013.94,788.669 1024.24,977.356 \n",
       "  1034.53,924.079 1044.83,744.888 1055.13,838.766 1065.42,807.735 1075.72,744.091 1086.01,699.479 1096.31,884.094 1106.61,1262.08 1116.9,1276.9 1127.2,1324.55 \n",
       "  1137.5,1462.26 1147.79,1263.25 1158.09,881.367 1168.38,819.322 1178.68,867.374 1188.98,777.405 1199.27,705.42 1209.57,533.757 1219.87,599.59 1230.16,736.84 \n",
       "  1240.46,767.735 1250.75,1045.81 1261.05,1028.3 1271.35,1107.45 1281.64,999.825 1291.94,1035.52 1302.24,1015.28 1312.53,956.803 1322.83,761.037 1333.12,1079.55 \n",
       "  1343.42,1315.67 1353.72,1211.72 1364.01,1175.21 1374.31,1150.25 1384.61,1171.15 1394.9,958.422 1405.2,957.417 1415.5,795.465 1425.79,703.94 1436.09,886.027 \n",
       "  1446.38,828.978 1456.68,597.925 1466.98,688.563 1477.27,447.965 1487.57,570.102 1497.87,644.773 1508.16,497.898 1518.46,207.911 1528.75,406.539 1539.05,474.093 \n",
       "  1549.35,261.339 1559.64,89.734 1569.94,192.964 1580.24,411.978 1590.53,733.498 1600.83,428.678 1611.12,431.94 1621.42,225.563 1631.72,189.691 1642.01,196.473 \n",
       "  1652.31,410.181 1662.61,463.184 1672.9,548.108 1683.2,377.28 1693.5,417.799 1703.79,511.73 1714.09,517.842 1724.38,440.273 1734.68,406.001 1744.98,400.689 \n",
       "  1755.27,435.618 1765.57,352.511 1775.87,371.844 1786.16,571.737 1796.46,748.838 1806.75,706.032 1817.05,727.273 1827.35,580.906 1837.64,317.723 1847.94,284.444 \n",
       "  1858.24,431.983 1868.53,389.815 1878.83,476.359 1889.12,342.894 1899.42,432.412 1909.72,434.415 1920.01,240.305 1930.31,195.108 1940.61,264.429 1950.9,403.392 \n",
       "  1961.2,347.936 1971.49,88.4582 1981.79,117.641 1992.09,213.199 2002.38,215.865 2012.68,336.49 2022.98,514.704 2033.27,465.677 2043.57,418.89 2053.87,519.409 \n",
       "  2064.16,433.66 2074.46,589.769 2084.75,535.206 2095.05,695.218 2105.35,656.351 2115.64,513.164 2125.94,847.708 2136.24,696.109 2146.53,1038.76 2156.83,1087 \n",
       "  2167.12,1232.04 2177.42,993.886 2187.72,854.717 2198.01,742.766 2208.31,1062.52 2218.61,619.265 2228.9,710.754 2239.2,684.93 2249.49,805.34 2259.79,629.155 \n",
       "  \n",
       "  \"/>\n",
       "<polygon clip-path=\"url(#clip0801)\" points=\"\n",
       "1958.43,251.724 2249.26,251.724 2249.26,130.764 1958.43,130.764 \n",
       "  \" fill=\"#ffffff\" fill-rule=\"evenodd\" fill-opacity=\"1\"/>\n",
       "<polyline clip-path=\"url(#clip0801)\" style=\"stroke:#000000; stroke-width:4; stroke-opacity:1; fill:none\" points=\"\n",
       "  1958.43,251.724 2249.26,251.724 2249.26,130.764 1958.43,130.764 1958.43,251.724 \n",
       "  \"/>\n",
       "<polyline clip-path=\"url(#clip0801)\" style=\"stroke:#009af9; stroke-width:4; stroke-opacity:1; fill:none\" points=\"\n",
       "  1982.43,191.244 2126.43,191.244 \n",
       "  \"/>\n",
       "<g clip-path=\"url(#clip0801)\">\n",
       "<text style=\"fill:#000000; fill-opacity:1; font-family:Arial,Helvetica Neue,Helvetica,sans-serif; font-size:48px; text-anchor:start;\" transform=\"rotate(0, 2150.43, 208.744)\" x=\"2150.43\" y=\"208.744\">y1</text>\n",
       "</g>\n",
       "</svg>\n"
      ]
     },
     "execution_count": 245,
     "metadata": {},
     "output_type": "execute_result"
    }
   ],
   "source": [
    "data = ar1(200, 0.9)\n",
    "plot(data)"
   ]
  },
  {
   "cell_type": "markdown",
   "metadata": {
    "slideshow": {
     "slide_type": "subslide"
    }
   },
   "source": [
    "### Exercise 6\n",
    "\n",
    "Plot three simulated time series, one for each of the cases $ \\alpha = 0 $, $ \\alpha = 0.8 $ and $ \\alpha = 0.98 $\n",
    "\n",
    "(The figure will illustrate how time series with the same one-step-ahead conditional volatilities, as these three processes have, can have very different unconditional volatilities)\n",
    "\n",
    "\n",
    "<a id='jbe-ex7'></a>"
   ]
  },
  {
   "cell_type": "code",
   "execution_count": 251,
   "metadata": {},
   "outputs": [
    {
     "data": {
      "image/svg+xml": [
       "<?xml version=\"1.0\" encoding=\"utf-8\"?>\n",
       "<svg xmlns=\"http://www.w3.org/2000/svg\" xmlns:xlink=\"http://www.w3.org/1999/xlink\" width=\"600\" height=\"400\" viewBox=\"0 0 2400 1600\">\n",
       "<defs>\n",
       "  <clipPath id=\"clip2000\">\n",
       "    <rect x=\"0\" y=\"0\" width=\"2000\" height=\"2000\"/>\n",
       "  </clipPath>\n",
       "</defs>\n",
       "<defs>\n",
       "  <clipPath id=\"clip2001\">\n",
       "    <rect x=\"0\" y=\"0\" width=\"2400\" height=\"1600\"/>\n",
       "  </clipPath>\n",
       "</defs>\n",
       "<polygon clip-path=\"url(#clip2001)\" points=\"\n",
       "0,1600 2400,1600 2400,0 0,0 \n",
       "  \" fill=\"#ffffff\" fill-rule=\"evenodd\" fill-opacity=\"1\"/>\n",
       "<defs>\n",
       "  <clipPath id=\"clip2002\">\n",
       "    <rect x=\"480\" y=\"0\" width=\"1681\" height=\"1600\"/>\n",
       "  </clipPath>\n",
       "</defs>\n",
       "<polygon clip-path=\"url(#clip2001)\" points=\"\n",
       "176.123,1503.47 2321.26,1503.47 2321.26,47.2441 176.123,47.2441 \n",
       "  \" fill=\"#ffffff\" fill-rule=\"evenodd\" fill-opacity=\"1\"/>\n",
       "<defs>\n",
       "  <clipPath id=\"clip2003\">\n",
       "    <rect x=\"176\" y=\"47\" width=\"2146\" height=\"1457\"/>\n",
       "  </clipPath>\n",
       "</defs>\n",
       "<polyline clip-path=\"url(#clip2003)\" style=\"stroke:#000000; stroke-width:2; stroke-opacity:0.1; fill:none\" points=\"\n",
       "  226.665,1503.47 226.665,47.2441 \n",
       "  \"/>\n",
       "<polyline clip-path=\"url(#clip2003)\" style=\"stroke:#000000; stroke-width:2; stroke-opacity:0.1; fill:none\" points=\"\n",
       "  735.136,1503.47 735.136,47.2441 \n",
       "  \"/>\n",
       "<polyline clip-path=\"url(#clip2003)\" style=\"stroke:#000000; stroke-width:2; stroke-opacity:0.1; fill:none\" points=\"\n",
       "  1243.61,1503.47 1243.61,47.2441 \n",
       "  \"/>\n",
       "<polyline clip-path=\"url(#clip2003)\" style=\"stroke:#000000; stroke-width:2; stroke-opacity:0.1; fill:none\" points=\"\n",
       "  1752.08,1503.47 1752.08,47.2441 \n",
       "  \"/>\n",
       "<polyline clip-path=\"url(#clip2003)\" style=\"stroke:#000000; stroke-width:2; stroke-opacity:0.1; fill:none\" points=\"\n",
       "  2260.55,1503.47 2260.55,47.2441 \n",
       "  \"/>\n",
       "<polyline clip-path=\"url(#clip2003)\" style=\"stroke:#000000; stroke-width:2; stroke-opacity:0.1; fill:none\" points=\"\n",
       "  176.123,1386.85 2321.26,1386.85 \n",
       "  \"/>\n",
       "<polyline clip-path=\"url(#clip2003)\" style=\"stroke:#000000; stroke-width:2; stroke-opacity:0.1; fill:none\" points=\"\n",
       "  176.123,1051.29 2321.26,1051.29 \n",
       "  \"/>\n",
       "<polyline clip-path=\"url(#clip2003)\" style=\"stroke:#000000; stroke-width:2; stroke-opacity:0.1; fill:none\" points=\"\n",
       "  176.123,715.731 2321.26,715.731 \n",
       "  \"/>\n",
       "<polyline clip-path=\"url(#clip2003)\" style=\"stroke:#000000; stroke-width:2; stroke-opacity:0.1; fill:none\" points=\"\n",
       "  176.123,380.171 2321.26,380.171 \n",
       "  \"/>\n",
       "<polyline clip-path=\"url(#clip2001)\" style=\"stroke:#000000; stroke-width:4; stroke-opacity:1; fill:none\" points=\"\n",
       "  176.123,1503.47 2321.26,1503.47 \n",
       "  \"/>\n",
       "<polyline clip-path=\"url(#clip2001)\" style=\"stroke:#000000; stroke-width:4; stroke-opacity:1; fill:none\" points=\"\n",
       "  176.123,1503.47 176.123,47.2441 \n",
       "  \"/>\n",
       "<polyline clip-path=\"url(#clip2001)\" style=\"stroke:#000000; stroke-width:4; stroke-opacity:1; fill:none\" points=\"\n",
       "  226.665,1503.47 226.665,1481.63 \n",
       "  \"/>\n",
       "<polyline clip-path=\"url(#clip2001)\" style=\"stroke:#000000; stroke-width:4; stroke-opacity:1; fill:none\" points=\"\n",
       "  735.136,1503.47 735.136,1481.63 \n",
       "  \"/>\n",
       "<polyline clip-path=\"url(#clip2001)\" style=\"stroke:#000000; stroke-width:4; stroke-opacity:1; fill:none\" points=\"\n",
       "  1243.61,1503.47 1243.61,1481.63 \n",
       "  \"/>\n",
       "<polyline clip-path=\"url(#clip2001)\" style=\"stroke:#000000; stroke-width:4; stroke-opacity:1; fill:none\" points=\"\n",
       "  1752.08,1503.47 1752.08,1481.63 \n",
       "  \"/>\n",
       "<polyline clip-path=\"url(#clip2001)\" style=\"stroke:#000000; stroke-width:4; stroke-opacity:1; fill:none\" points=\"\n",
       "  2260.55,1503.47 2260.55,1481.63 \n",
       "  \"/>\n",
       "<polyline clip-path=\"url(#clip2001)\" style=\"stroke:#000000; stroke-width:4; stroke-opacity:1; fill:none\" points=\"\n",
       "  176.123,1386.85 208.3,1386.85 \n",
       "  \"/>\n",
       "<polyline clip-path=\"url(#clip2001)\" style=\"stroke:#000000; stroke-width:4; stroke-opacity:1; fill:none\" points=\"\n",
       "  176.123,1051.29 208.3,1051.29 \n",
       "  \"/>\n",
       "<polyline clip-path=\"url(#clip2001)\" style=\"stroke:#000000; stroke-width:4; stroke-opacity:1; fill:none\" points=\"\n",
       "  176.123,715.731 208.3,715.731 \n",
       "  \"/>\n",
       "<polyline clip-path=\"url(#clip2001)\" style=\"stroke:#000000; stroke-width:4; stroke-opacity:1; fill:none\" points=\"\n",
       "  176.123,380.171 208.3,380.171 \n",
       "  \"/>\n",
       "<g clip-path=\"url(#clip2001)\">\n",
       "<text style=\"fill:#000000; fill-opacity:1; font-family:Arial,Helvetica Neue,Helvetica,sans-serif; font-size:48px; text-anchor:middle;\" transform=\"rotate(0, 226.665, 1557.47)\" x=\"226.665\" y=\"1557.47\">0</text>\n",
       "</g>\n",
       "<g clip-path=\"url(#clip2001)\">\n",
       "<text style=\"fill:#000000; fill-opacity:1; font-family:Arial,Helvetica Neue,Helvetica,sans-serif; font-size:48px; text-anchor:middle;\" transform=\"rotate(0, 735.136, 1557.47)\" x=\"735.136\" y=\"1557.47\">50</text>\n",
       "</g>\n",
       "<g clip-path=\"url(#clip2001)\">\n",
       "<text style=\"fill:#000000; fill-opacity:1; font-family:Arial,Helvetica Neue,Helvetica,sans-serif; font-size:48px; text-anchor:middle;\" transform=\"rotate(0, 1243.61, 1557.47)\" x=\"1243.61\" y=\"1557.47\">100</text>\n",
       "</g>\n",
       "<g clip-path=\"url(#clip2001)\">\n",
       "<text style=\"fill:#000000; fill-opacity:1; font-family:Arial,Helvetica Neue,Helvetica,sans-serif; font-size:48px; text-anchor:middle;\" transform=\"rotate(0, 1752.08, 1557.47)\" x=\"1752.08\" y=\"1557.47\">150</text>\n",
       "</g>\n",
       "<g clip-path=\"url(#clip2001)\">\n",
       "<text style=\"fill:#000000; fill-opacity:1; font-family:Arial,Helvetica Neue,Helvetica,sans-serif; font-size:48px; text-anchor:middle;\" transform=\"rotate(0, 2260.55, 1557.47)\" x=\"2260.55\" y=\"1557.47\">200</text>\n",
       "</g>\n",
       "<g clip-path=\"url(#clip2001)\">\n",
       "<text style=\"fill:#000000; fill-opacity:1; font-family:Arial,Helvetica Neue,Helvetica,sans-serif; font-size:48px; text-anchor:end;\" transform=\"rotate(0, 152.123, 1404.35)\" x=\"152.123\" y=\"1404.35\">-10</text>\n",
       "</g>\n",
       "<g clip-path=\"url(#clip2001)\">\n",
       "<text style=\"fill:#000000; fill-opacity:1; font-family:Arial,Helvetica Neue,Helvetica,sans-serif; font-size:48px; text-anchor:end;\" transform=\"rotate(0, 152.123, 1068.79)\" x=\"152.123\" y=\"1068.79\">-5</text>\n",
       "</g>\n",
       "<g clip-path=\"url(#clip2001)\">\n",
       "<text style=\"fill:#000000; fill-opacity:1; font-family:Arial,Helvetica Neue,Helvetica,sans-serif; font-size:48px; text-anchor:end;\" transform=\"rotate(0, 152.123, 733.231)\" x=\"152.123\" y=\"733.231\">0</text>\n",
       "</g>\n",
       "<g clip-path=\"url(#clip2001)\">\n",
       "<text style=\"fill:#000000; fill-opacity:1; font-family:Arial,Helvetica Neue,Helvetica,sans-serif; font-size:48px; text-anchor:end;\" transform=\"rotate(0, 152.123, 397.671)\" x=\"152.123\" y=\"397.671\">5</text>\n",
       "</g>\n",
       "<polyline clip-path=\"url(#clip2003)\" style=\"stroke:#009af9; stroke-width:4; stroke-opacity:1; fill:none\" points=\"\n",
       "  236.834,715.731 247.004,821.805 257.173,732.127 267.343,564.913 277.512,687.323 287.681,698.92 297.851,838.986 308.02,929.793 318.19,625.658 328.359,727.145 \n",
       "  338.529,770.352 348.698,691.981 358.867,648.562 369.037,603.303 379.206,725.869 389.376,672.31 399.545,766.003 409.714,673.939 419.884,728.49 430.053,653.623 \n",
       "  440.223,747.265 450.392,624.139 460.562,725.376 470.731,739.886 480.9,662.284 491.07,645.317 501.239,683.185 511.409,731.127 521.578,632.912 531.747,748.414 \n",
       "  541.917,767.128 552.086,717.281 562.256,638.573 572.425,851.056 582.595,757.862 592.764,704.933 602.933,722.682 613.103,566.047 623.272,748.569 633.442,618.365 \n",
       "  643.611,656.95 653.78,717.885 663.95,641 674.119,786.644 684.289,563.38 694.458,569.864 704.628,787.958 714.797,668.668 724.966,580.006 735.136,660.116 \n",
       "  745.305,760.274 755.475,788.596 765.644,655.339 775.813,674.768 785.983,773.41 796.152,608.34 806.322,697.782 816.491,676.548 826.661,700.367 836.83,706.795 \n",
       "  846.999,750.026 857.169,675.954 867.338,845.441 877.508,694.198 887.677,796.269 897.846,732.306 908.016,675.951 918.185,754.952 928.355,755.579 938.524,778.52 \n",
       "  948.694,723.751 958.863,715.471 969.032,689.491 979.202,778.645 989.371,738.523 999.541,622.444 1009.71,541.569 1019.88,851.769 1030.05,698.876 1040.22,698.128 \n",
       "  1050.39,671.416 1060.56,705.522 1070.73,790.793 1080.9,799.115 1091.07,698.285 1101.23,742.116 1111.4,776.935 1121.57,656.744 1131.74,730.723 1141.91,710.415 \n",
       "  1152.08,715.718 1162.25,696.393 1172.42,729.092 1182.59,692.543 1192.76,704.259 1202.93,752.825 1213.1,755.74 1223.27,692.727 1233.44,702 1243.61,645.703 \n",
       "  1253.78,722.89 1263.95,839.647 1274.11,642.747 1284.28,628.118 1294.45,746.37 1304.62,796.211 1314.79,732.678 1324.96,687.513 1335.13,733.356 1345.3,764.667 \n",
       "  1355.47,755.113 1365.64,816.796 1375.81,746.347 1385.98,713.928 1396.15,663.262 1406.32,764.95 1416.49,575.411 1426.66,714.824 1436.83,725.046 1447,703.587 \n",
       "  1457.16,774.328 1467.33,607.222 1477.5,601.844 1487.67,770.244 1497.84,697.623 1508.01,713.71 1518.18,715.686 1528.35,747.624 1538.52,719.676 1548.69,745.111 \n",
       "  1558.86,716.293 1569.03,629.641 1579.2,796.652 1589.37,718.241 1599.54,677.625 1609.71,744.13 1619.88,689.693 1630.04,763.39 1640.21,714.038 1650.38,622.126 \n",
       "  1660.55,802.53 1670.72,652.033 1680.89,685.076 1691.06,591.801 1701.23,745.657 1711.4,728.256 1721.57,565.519 1731.74,732.15 1741.91,642.91 1752.08,656.14 \n",
       "  1762.25,570.927 1772.42,697.434 1782.59,641.653 1792.76,676.227 1802.92,663.608 1813.09,694.818 1823.26,689.206 1833.43,738.253 1843.6,609.813 1853.77,671.991 \n",
       "  1863.94,747.347 1874.11,805.66 1884.28,753.714 1894.45,732.464 1904.62,690.228 1914.79,686.285 1924.96,710.358 1935.13,692.331 1945.3,771.278 1955.47,711.46 \n",
       "  1965.64,665.453 1975.8,730.839 1985.97,662.63 1996.14,752.229 2006.31,712.844 2016.48,671.692 2026.65,771.995 2036.82,604.081 2046.99,699.669 2057.16,801.925 \n",
       "  2067.33,877.508 2077.5,731.226 2087.67,743.507 2097.84,766.429 2108.01,692.513 2118.18,692.603 2128.35,739.076 2138.52,807.742 2148.68,602.303 2158.85,660.205 \n",
       "  2169.02,608.171 2179.19,658.213 2189.36,727.475 2199.53,760.628 2209.7,848.292 2219.87,753.544 2230.04,826.357 2240.21,709.056 2250.38,725.758 2260.55,706.201 \n",
       "  \n",
       "  \"/>\n",
       "<polyline clip-path=\"url(#clip2003)\" style=\"stroke:#e26f46; stroke-width:4; stroke-opacity:1; fill:none\" points=\"\n",
       "  236.834,715.731 247.004,777.704 257.173,696.946 267.343,785.837 277.512,840.034 287.681,847.739 297.851,927.372 308.02,906.847 318.19,816.097 328.359,786.438 \n",
       "  338.529,834.789 348.698,888 358.867,867.239 369.037,897.583 379.206,782.404 389.376,808.414 399.545,696.299 409.714,680.497 419.884,636.795 430.053,682.446 \n",
       "  440.223,647.134 450.392,634.61 460.562,663.083 470.731,540.939 480.9,502.056 491.07,592.645 501.239,604.719 511.409,650.582 521.578,826.779 531.747,887.686 \n",
       "  541.917,807.383 552.086,892.527 562.256,859.589 572.425,877.239 582.595,884.834 592.764,831.321 602.933,742.597 613.103,743.437 623.272,690.331 633.442,666.673 \n",
       "  643.611,684.267 653.78,602.713 663.95,592.056 674.119,672.152 684.289,737.75 694.458,744.523 704.628,693.891 714.797,572.199 724.966,488.063 735.136,514.134 \n",
       "  745.305,462.376 755.475,700.386 765.644,696.845 775.813,737.864 785.983,714.932 796.152,661.391 806.322,685.432 816.491,744.487 826.661,817.931 836.83,891.269 \n",
       "  846.999,943.812 857.169,1016.42 867.338,950.517 877.508,882.526 887.677,750.299 897.846,818.646 908.016,636.411 918.185,638.657 928.355,614.252 938.524,728.141 \n",
       "  948.694,771.744 958.863,687.923 969.032,604.629 979.202,648.267 989.371,674.229 999.541,672.495 1009.71,732.078 1019.88,706.341 1030.05,751.105 1040.22,545.244 \n",
       "  1050.39,701.87 1060.56,710.462 1070.73,639.056 1080.9,701.706 1091.07,668.511 1101.23,774.033 1111.4,828.646 1121.57,744.014 1131.74,722.455 1141.91,731.051 \n",
       "  1152.08,647.088 1162.25,705.476 1172.42,562.27 1182.59,495.844 1192.76,515.322 1202.93,635.199 1213.1,655.979 1223.27,705.568 1233.44,723.351 1243.61,745.844 \n",
       "  1253.78,705.157 1263.95,715.404 1274.11,696.449 1284.28,608.153 1294.45,622.484 1304.62,613.458 1314.79,647.948 1324.96,635.518 1335.13,670.096 1345.3,588.633 \n",
       "  1355.47,671.19 1365.64,730.744 1375.81,792.214 1385.98,666.92 1396.15,514.385 1406.32,682.604 1416.49,733.353 1426.66,721.833 1436.83,558.526 1447,690.364 \n",
       "  1457.16,789.606 1467.33,701.2 1477.5,699.442 1487.67,663.911 1497.84,651.272 1508.01,669.25 1518.18,724.036 1528.35,611.891 1538.52,575.015 1548.69,524.536 \n",
       "  1558.86,561.081 1569.03,657.946 1579.2,709.37 1589.37,607.446 1599.54,558.172 1609.71,612.376 1619.88,652.059 1630.04,716.128 1640.21,739.224 1650.38,702.123 \n",
       "  1660.55,692.611 1670.72,657.953 1680.89,648.818 1691.06,737.231 1701.23,766.955 1711.4,765.969 1721.57,670.608 1731.74,624.063 1741.91,638.323 1752.08,543.925 \n",
       "  1762.25,673.641 1772.42,803.434 1782.59,838.725 1792.76,797.643 1802.92,713.742 1813.09,743.028 1823.26,618.256 1833.43,411.221 1843.6,509.495 1853.77,548.366 \n",
       "  1863.94,555.316 1874.11,438.323 1884.28,423.176 1894.45,347.49 1904.62,361.56 1914.79,513.082 1924.96,554.931 1935.13,627.644 1945.3,729.757 1955.47,715.369 \n",
       "  1965.64,677.874 1975.8,664.145 1985.97,563.193 1996.14,530.199 2006.31,525.419 2016.48,657.585 2026.65,552.862 2036.82,555.937 2046.99,466.469 2057.16,540.942 \n",
       "  2067.33,535.019 2077.5,518.603 2087.67,633.981 2097.84,664.515 2108.01,771.116 2118.18,715.151 2128.35,769.301 2138.52,764.691 2148.68,762.093 2158.85,629.825 \n",
       "  2169.02,787.766 2179.19,770.939 2189.36,799.812 2199.53,742.79 2209.7,750.491 2219.87,664.352 2230.04,719.615 2240.21,703.612 2250.38,617.65 2260.55,676.401 \n",
       "  \n",
       "  \"/>\n",
       "<polyline clip-path=\"url(#clip2003)\" style=\"stroke:#3da44d; stroke-width:4; stroke-opacity:1; fill:none\" points=\"\n",
       "  236.834,715.731 247.004,719.522 257.173,845.829 267.343,861.195 277.512,907.449 287.681,913.968 297.851,921.547 308.02,933.892 318.19,928.419 328.359,848.284 \n",
       "  338.529,825.066 348.698,951.529 358.867,874.697 369.037,948.688 379.206,950.382 389.376,974.035 399.545,989.908 409.714,1034.82 419.884,888.785 430.053,919.789 \n",
       "  440.223,975.691 450.392,955.365 460.562,959.902 470.731,1048.79 480.9,998.029 491.07,969.261 501.239,956.854 511.409,1004.58 521.578,1020.44 531.747,1015.6 \n",
       "  541.917,974.644 552.086,854.444 562.256,697.388 572.425,698.713 582.595,777.45 592.764,778.408 602.933,811.076 613.103,736.273 623.272,895.445 633.442,924.543 \n",
       "  643.611,1044.25 653.78,1020.58 663.95,1049.47 674.119,1140.09 684.289,1258.1 694.458,1255.52 704.628,1219.04 714.797,1221.53 724.966,1291.72 735.136,1400.94 \n",
       "  745.305,1462.26 755.475,1449.82 765.644,1438.41 775.813,1432.66 785.983,1382.49 796.152,1367.7 806.322,1324.14 816.491,1342.68 826.661,1226.1 836.83,1184.95 \n",
       "  846.999,1173.67 857.169,1142.47 867.338,1071.41 877.508,1019.55 887.677,1004.32 897.846,1075.82 908.016,1005.76 918.185,928.489 928.355,761.819 938.524,716.972 \n",
       "  948.694,803.508 958.863,750.476 969.032,802.105 979.202,776.242 989.371,682.969 999.541,671.495 1009.71,592.333 1019.88,651.985 1030.05,662.238 1040.22,696.253 \n",
       "  1050.39,622.103 1060.56,562.054 1070.73,374.267 1080.9,343.011 1091.07,443.66 1101.23,465.57 1111.4,517.271 1121.57,636.45 1131.74,658.97 1141.91,541.235 \n",
       "  1152.08,650.513 1162.25,765.982 1172.42,750.119 1182.59,769.278 1192.76,738.668 1202.93,662.571 1213.1,608.145 1223.27,695.863 1233.44,722.301 1243.61,722.454 \n",
       "  1253.78,733.24 1263.95,664.759 1274.11,598.193 1284.28,576.265 1294.45,502.845 1304.62,451.326 1314.79,420.42 1324.96,421.75 1335.13,347.648 1345.3,400.765 \n",
       "  1355.47,318.658 1365.64,225.521 1375.81,223.245 1385.98,267.783 1396.15,223.44 1406.32,288.285 1416.49,279.57 1426.66,236.932 1436.83,237.041 1447,187.188 \n",
       "  1457.16,240.171 1467.33,217.08 1477.5,107.275 1487.67,123.983 1497.84,227.807 1508.01,302.431 1518.18,217.912 1528.35,262.12 1538.52,290.445 1548.69,334.32 \n",
       "  1558.86,439.364 1569.03,354.865 1579.2,366.156 1589.37,344.415 1599.54,313.882 1609.71,271.365 1619.88,313.017 1630.04,345.974 1640.21,362.383 1650.38,393.581 \n",
       "  1660.55,224.94 1670.72,298.44 1680.89,417.182 1691.06,402.986 1701.23,305.931 1711.4,292.47 1721.57,326.919 1731.74,417.741 1741.91,313.135 1752.08,282.935 \n",
       "  1762.25,321.674 1772.42,268.454 1782.59,220.309 1792.76,88.4582 1802.92,167.932 1813.09,254.913 1823.26,219.899 1833.43,426.065 1843.6,588.973 1853.77,560.823 \n",
       "  1863.94,609.22 1874.11,667.488 1884.28,748.585 1894.45,757.743 1904.62,565.415 1914.79,646.74 1924.96,665.426 1935.13,681.997 1945.3,648.949 1955.47,708.373 \n",
       "  1965.64,709.244 1975.8,562.315 1985.97,601.309 1996.14,556.586 2006.31,656.08 2016.48,704.926 2026.65,767.284 2036.82,819.91 2046.99,822.432 2057.16,757.207 \n",
       "  2067.33,730.073 2077.5,797.278 2087.67,666.731 2097.84,733.548 2108.01,790.294 2118.18,801.2 2128.35,904.261 2138.52,855.367 2148.68,758.196 2158.85,780.304 \n",
       "  2169.02,705.441 2179.19,760.35 2189.36,841.142 2199.53,875.322 2209.7,1029.81 2219.87,1009.41 2230.04,1000.4 2240.21,1052.5 2250.38,943.316 2260.55,869.797 \n",
       "  \n",
       "  \"/>\n",
       "<polygon clip-path=\"url(#clip2001)\" points=\"\n",
       "1958.43,372.684 2249.26,372.684 2249.26,130.764 1958.43,130.764 \n",
       "  \" fill=\"#ffffff\" fill-rule=\"evenodd\" fill-opacity=\"1\"/>\n",
       "<polyline clip-path=\"url(#clip2001)\" style=\"stroke:#000000; stroke-width:4; stroke-opacity:1; fill:none\" points=\"\n",
       "  1958.43,372.684 2249.26,372.684 2249.26,130.764 1958.43,130.764 1958.43,372.684 \n",
       "  \"/>\n",
       "<polyline clip-path=\"url(#clip2001)\" style=\"stroke:#009af9; stroke-width:4; stroke-opacity:1; fill:none\" points=\"\n",
       "  1982.43,191.244 2126.43,191.244 \n",
       "  \"/>\n",
       "<g clip-path=\"url(#clip2001)\">\n",
       "<text style=\"fill:#000000; fill-opacity:1; font-family:Arial,Helvetica Neue,Helvetica,sans-serif; font-size:48px; text-anchor:start;\" transform=\"rotate(0, 2150.43, 208.744)\" x=\"2150.43\" y=\"208.744\">y1</text>\n",
       "</g>\n",
       "<polyline clip-path=\"url(#clip2001)\" style=\"stroke:#e26f46; stroke-width:4; stroke-opacity:1; fill:none\" points=\"\n",
       "  1982.43,251.724 2126.43,251.724 \n",
       "  \"/>\n",
       "<g clip-path=\"url(#clip2001)\">\n",
       "<text style=\"fill:#000000; fill-opacity:1; font-family:Arial,Helvetica Neue,Helvetica,sans-serif; font-size:48px; text-anchor:start;\" transform=\"rotate(0, 2150.43, 269.224)\" x=\"2150.43\" y=\"269.224\">y2</text>\n",
       "</g>\n",
       "<polyline clip-path=\"url(#clip2001)\" style=\"stroke:#3da44d; stroke-width:4; stroke-opacity:1; fill:none\" points=\"\n",
       "  1982.43,312.204 2126.43,312.204 \n",
       "  \"/>\n",
       "<g clip-path=\"url(#clip2001)\">\n",
       "<text style=\"fill:#000000; fill-opacity:1; font-family:Arial,Helvetica Neue,Helvetica,sans-serif; font-size:48px; text-anchor:start;\" transform=\"rotate(0, 2150.43, 329.704)\" x=\"2150.43\" y=\"329.704\">y3</text>\n",
       "</g>\n",
       "</svg>\n"
      ]
     },
     "execution_count": 251,
     "metadata": {},
     "output_type": "execute_result"
    }
   ],
   "source": [
    "series1 = ar1(200, 0.0)\n",
    "series2 = ar1(200, 0.8)\n",
    "series3 = ar1(200, 0.98)\n",
    "\n",
    "plot(series1)\n",
    "plot!(series2)\n",
    "plot!(series3)"
   ]
  },
  {
   "cell_type": "markdown",
   "metadata": {
    "slideshow": {
     "slide_type": "subslide"
    }
   },
   "source": [
    "### Exercise 7\n",
    "\n",
    "This exercise is more challenging\n",
    "\n",
    "Take a random walk, starting from $ x_0 = 1 $\n",
    "\n",
    "$$\n",
    "x_{t+1} = \\, \\alpha \\, x_t + \\sigma\\, \\epsilon_{t+1}\n",
    "\\quad \\text{where} \\quad\n",
    "x_0 = 1\n",
    "\\quad \\text{and} \\quad t = 0,\\ldots,t_{\\max}\n",
    "$$\n",
    "\n",
    "- Furthermore, assume that the $ x_{t_{\\max}} = 0 $  (i.e. at $ t_{\\max} $, the value drops to zero, regardless of its current state)  \n",
    "- The sequence of shocks $ \\{\\epsilon_t\\} $ is assumed to be iid and standard normal  \n",
    "- For a given path $ \\{x_t\\} $ define a **first-passage time** as $ T_a = \\min\\{t\\, |\\, x_t \\leq a\\} $, where by the assumption of the process $ T_a \\leq t_{\\max} $  \n",
    "\n",
    "\n",
    "Start with $ \\sigma = 0.2, \\alpha = 1.0 $\n",
    "\n",
    "1. calculate the first-passage time, $ T_0 $, for 100 simulated random walks – to a $ t_{\\max} = 200 $ and plot a histogram  \n",
    "1. plot the sample mean of $ T_0 $ from the simulation for $ \\alpha \\in \\{0.8, 1.0, 1.2\\} $  \n",
    "\n",
    "\n",
    "\n",
    "<a id='jbe-ex8a'></a>"
   ]
  },
  {
   "cell_type": "markdown",
   "metadata": {
    "slideshow": {
     "slide_type": "subslide"
    }
   },
   "source": [
    "### Exercise 8(a)\n",
    "\n",
    "This exercise is more challenging\n",
    "\n",
    "The root of a univariate function $ f(\\cdot) $ is an $ x $ such that $ f(x) = 0 $\n",
    "\n",
    "One solution method to find local roots of smooth functions is called Newton’s method\n",
    "\n",
    "Starting with an $ x_0 $ guess, a function $ f(\\cdot) $ and the first-derivative $ f'(\\cdot) $, the algorithm is to repeat\n",
    "\n",
    "$$\n",
    "x^{n+1} = x^n - \\frac{f(x^n)}{f'(x^n)}\n",
    "$$\n",
    "\n",
    "until $ | x^{n+1} - x^n| $ is below a tolerance\n",
    "\n",
    "1. Use a variation of the `fixedpointmap` code to implement Newton’s method, where the function would accept arguments `f, f_prime, x_0, tolerance, maxiter`  \n",
    "1. Test it with $ f(x) = (x-1)^3 $ and another function of your choice where you can analytically find the derivative  "
   ]
  },
  {
   "cell_type": "markdown",
   "metadata": {
    "slideshow": {
     "slide_type": "subslide"
    }
   },
   "source": [
    "### Exercise 8(b)\n",
    "\n",
    "For those impatient to use more advanced features of Julia, implement a version of Exercise 8(a) where `f_prime` is calculated with auto-differentiation"
   ]
  },
  {
   "cell_type": "code",
   "execution_count": 66,
   "metadata": {
    "hide-output": false,
    "slideshow": {
     "slide_type": "subslide"
    }
   },
   "outputs": [
    {
     "data": {
      "text/plain": [
       "(0.010000000000000002, 0.2)"
      ]
     },
     "execution_count": 66,
     "metadata": {},
     "output_type": "execute_result"
    }
   ],
   "source": [
    "using ForwardDiff\n",
    "\n",
    "# operator to get the derivative of this function using AD\n",
    "D(f) = x -> ForwardDiff.derivative(f, x)\n",
    "\n",
    "# example usage: create a function and get the derivative\n",
    "f(x) = x^2\n",
    "f_prime = D(f)\n",
    "\n",
    "f(0.1), f_prime(0.1)"
   ]
  },
  {
   "cell_type": "markdown",
   "metadata": {
    "slideshow": {
     "slide_type": "subslide"
    }
   },
   "source": [
    "1. Using the `D(f)` operator definition above, implement a version of Newton’s method that does not require the user to provide an analytical derivative  \n",
    "1. Test the sorts of `f` functions which can be automatically integrated by `ForwardDff.jl`  "
   ]
  }
 ],
 "metadata": {
  "celltoolbar": "Slideshow",
  "filename": "julia_by_example.rst",
  "kernelspec": {
   "display_name": "Julia 1.1.0",
   "language": "julia",
   "name": "julia-1.1"
  },
  "language_info": {
   "file_extension": ".jl",
   "mimetype": "application/julia",
   "name": "julia",
   "version": "1.1.0"
  },
  "title": "Introductory Examples"
 },
 "nbformat": 4,
 "nbformat_minor": 2
}
